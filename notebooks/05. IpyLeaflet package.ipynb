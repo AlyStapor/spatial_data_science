{
 "cells": [
  {
   "cell_type": "markdown",
   "id": "6caf8a63-0066-4590-b13a-992b9421a3a1",
   "metadata": {},
   "source": [
    "## Visualization with IpyLeaflet"
   ]
  },
  {
   "cell_type": "markdown",
   "id": "3a852f9e-3007-49d8-ba90-375d184a956e",
   "metadata": {},
   "source": [
    "1. Import packages"
   ]
  },
  {
   "cell_type": "code",
   "execution_count": 1,
   "id": "ddfc9d8f-e634-47c4-b7a3-2425bbd3a8c1",
   "metadata": {},
   "outputs": [],
   "source": [
    "import geopandas as gpd\n",
    "import json \n",
    "import os \n",
    "import pathlib\n",
    "\n",
    "from branca.colormap import linear\n",
    "from ipyleaflet import (basemaps,\n",
    "                        basemap_to_tiles,\n",
    "                        Choropleth,\n",
    "                        FullScreenControl,\n",
    "                        GeoData,\n",
    "                        GeoJSON,\n",
    "                        Icon,\n",
    "                        Marker,\n",
    "                        Map,\n",
    "                        LayersControl,\n",
    "                        WidgetControl)\n",
    "\n",
    "from ipywidgets import Text, HTML"
   ]
  },
  {
   "cell_type": "code",
   "execution_count": 2,
   "id": "4b51b632-78a5-4747-a60d-03a77af549ff",
   "metadata": {},
   "outputs": [],
   "source": [
    "os.chdir('..')\n",
    "path = pathlib.Path().resolve()"
   ]
  },
  {
   "cell_type": "markdown",
   "id": "2281397f-69d7-4241-b4c1-1d0a6c68b396",
   "metadata": {},
   "source": [
    "2. Import data"
   ]
  },
  {
   "cell_type": "code",
   "execution_count": 3,
   "id": "be1a2a55-615e-47e2-9bca-cbd645c66e59",
   "metadata": {},
   "outputs": [],
   "source": [
    "countries = gpd.read_file(gpd.datasets.get_path('naturalearth_lowres'))\n",
    "\n",
    "asia_acled = gpd.read_file(f'{path}/data/acled2019.shp',\n",
    "                           mask=countries[countries.continent == 'Asia'])"
   ]
  },
  {
   "cell_type": "code",
   "execution_count": 4,
   "id": "18e0f365-78c8-4035-8726-4f402edecb55",
   "metadata": {},
   "outputs": [
    {
     "data": {
      "text/html": [
       "<div>\n",
       "<style scoped>\n",
       "    .dataframe tbody tr th:only-of-type {\n",
       "        vertical-align: middle;\n",
       "    }\n",
       "\n",
       "    .dataframe tbody tr th {\n",
       "        vertical-align: top;\n",
       "    }\n",
       "\n",
       "    .dataframe thead th {\n",
       "        text-align: right;\n",
       "    }\n",
       "</style>\n",
       "<table border=\"1\" class=\"dataframe\">\n",
       "  <thead>\n",
       "    <tr style=\"text-align: right;\">\n",
       "      <th></th>\n",
       "      <th>data_id</th>\n",
       "      <th>iso</th>\n",
       "      <th>event_id_c</th>\n",
       "      <th>event_id_n</th>\n",
       "      <th>event_date</th>\n",
       "      <th>year</th>\n",
       "      <th>time_preci</th>\n",
       "      <th>event_type</th>\n",
       "      <th>sub_event_</th>\n",
       "      <th>actor1</th>\n",
       "      <th>...</th>\n",
       "      <th>latitude</th>\n",
       "      <th>longitude</th>\n",
       "      <th>geo_precis</th>\n",
       "      <th>source</th>\n",
       "      <th>source_sca</th>\n",
       "      <th>notes</th>\n",
       "      <th>fatalities</th>\n",
       "      <th>timestamp</th>\n",
       "      <th>iso3</th>\n",
       "      <th>geometry</th>\n",
       "    </tr>\n",
       "  </thead>\n",
       "  <tbody>\n",
       "    <tr>\n",
       "      <th>0</th>\n",
       "      <td>6768128</td>\n",
       "      <td>887</td>\n",
       "      <td>YEM45982</td>\n",
       "      <td>45982</td>\n",
       "      <td>31 December 2019</td>\n",
       "      <td>2019</td>\n",
       "      <td>1</td>\n",
       "      <td>Battles</td>\n",
       "      <td>Armed clash</td>\n",
       "      <td>Military Forces of Yemen (2012-)</td>\n",
       "      <td>...</td>\n",
       "      <td>14.3541</td>\n",
       "      <td>47.0765</td>\n",
       "      <td>2</td>\n",
       "      <td>Yemen Data Project; Aden al Ghad; Al Janoob al...</td>\n",
       "      <td>Local partner-National</td>\n",
       "      <td>On 31 December 2019, clashes reportedly erupte...</td>\n",
       "      <td>0</td>\n",
       "      <td>1580761030</td>\n",
       "      <td>YEM</td>\n",
       "      <td>POINT (47.07650 14.35410)</td>\n",
       "    </tr>\n",
       "    <tr>\n",
       "      <th>1</th>\n",
       "      <td>6768129</td>\n",
       "      <td>887</td>\n",
       "      <td>YEM45983</td>\n",
       "      <td>45983</td>\n",
       "      <td>31 December 2019</td>\n",
       "      <td>2019</td>\n",
       "      <td>1</td>\n",
       "      <td>Strategic developments</td>\n",
       "      <td>Change to group/activity</td>\n",
       "      <td>Military Forces of Yemen (2012-) Security Belt...</td>\n",
       "      <td>...</td>\n",
       "      <td>14.3541</td>\n",
       "      <td>47.0765</td>\n",
       "      <td>2</td>\n",
       "      <td>Al Janoob al Youm; Yemen Data Project</td>\n",
       "      <td>Local partner-National</td>\n",
       "      <td>On 31 December 2019, forces loyal to the South...</td>\n",
       "      <td>0</td>\n",
       "      <td>1580761030</td>\n",
       "      <td>YEM</td>\n",
       "      <td>POINT (47.07650 14.35410)</td>\n",
       "    </tr>\n",
       "    <tr>\n",
       "      <th>2</th>\n",
       "      <td>6768130</td>\n",
       "      <td>887</td>\n",
       "      <td>YEM45984</td>\n",
       "      <td>45984</td>\n",
       "      <td>31 December 2019</td>\n",
       "      <td>2019</td>\n",
       "      <td>1</td>\n",
       "      <td>Battles</td>\n",
       "      <td>Armed clash</td>\n",
       "      <td>Military Forces of Yemen (2012-)</td>\n",
       "      <td>...</td>\n",
       "      <td>14.2081</td>\n",
       "      <td>47.1570</td>\n",
       "      <td>1</td>\n",
       "      <td>Al Janoob al Youm; Aden al Ghad; Yemen Data Pr...</td>\n",
       "      <td>Local partner-National</td>\n",
       "      <td>On 31 December 2019, clashes reportedly erupte...</td>\n",
       "      <td>1</td>\n",
       "      <td>1580761030</td>\n",
       "      <td>YEM</td>\n",
       "      <td>POINT (47.15700 14.20810)</td>\n",
       "    </tr>\n",
       "    <tr>\n",
       "      <th>3</th>\n",
       "      <td>6715395</td>\n",
       "      <td>356</td>\n",
       "      <td>IND68948</td>\n",
       "      <td>68948</td>\n",
       "      <td>31 December 2019</td>\n",
       "      <td>2019</td>\n",
       "      <td>1</td>\n",
       "      <td>Protests</td>\n",
       "      <td>Peaceful protest</td>\n",
       "      <td>Protesters (India)</td>\n",
       "      <td>...</td>\n",
       "      <td>20.2724</td>\n",
       "      <td>85.8338</td>\n",
       "      <td>1</td>\n",
       "      <td>Pioneer (India)</td>\n",
       "      <td>National</td>\n",
       "      <td>On 31 December, students' wing of INC and Mili...</td>\n",
       "      <td>0</td>\n",
       "      <td>1578514389</td>\n",
       "      <td>IND</td>\n",
       "      <td>POINT (85.83380 20.27240)</td>\n",
       "    </tr>\n",
       "    <tr>\n",
       "      <th>4</th>\n",
       "      <td>6710279</td>\n",
       "      <td>804</td>\n",
       "      <td>UKR31063</td>\n",
       "      <td>31063</td>\n",
       "      <td>31 December 2019</td>\n",
       "      <td>2019</td>\n",
       "      <td>1</td>\n",
       "      <td>Explosions/Remote violence</td>\n",
       "      <td>Shelling/artillery/missile attack</td>\n",
       "      <td>NAF: United Armed Forces of Novorossiya</td>\n",
       "      <td>...</td>\n",
       "      <td>48.7191</td>\n",
       "      <td>38.5695</td>\n",
       "      <td>2</td>\n",
       "      <td>OSCE SMM-Ukraine</td>\n",
       "      <td>Other</td>\n",
       "      <td>On 31 December, the OSCE SMM observed a total ...</td>\n",
       "      <td>0</td>\n",
       "      <td>1578510535</td>\n",
       "      <td>UKR</td>\n",
       "      <td>POINT (38.56950 48.71910)</td>\n",
       "    </tr>\n",
       "  </tbody>\n",
       "</table>\n",
       "<p>5 rows × 32 columns</p>\n",
       "</div>"
      ],
      "text/plain": [
       "   data_id  iso event_id_c  event_id_n        event_date  year  time_preci  \\\n",
       "0  6768128  887   YEM45982       45982  31 December 2019  2019           1   \n",
       "1  6768129  887   YEM45983       45983  31 December 2019  2019           1   \n",
       "2  6768130  887   YEM45984       45984  31 December 2019  2019           1   \n",
       "3  6715395  356   IND68948       68948  31 December 2019  2019           1   \n",
       "4  6710279  804   UKR31063       31063  31 December 2019  2019           1   \n",
       "\n",
       "                   event_type                         sub_event_  \\\n",
       "0                     Battles                        Armed clash   \n",
       "1      Strategic developments           Change to group/activity   \n",
       "2                     Battles                        Armed clash   \n",
       "3                    Protests                   Peaceful protest   \n",
       "4  Explosions/Remote violence  Shelling/artillery/missile attack   \n",
       "\n",
       "                                              actor1  ... latitude  longitude  \\\n",
       "0                   Military Forces of Yemen (2012-)  ...  14.3541    47.0765   \n",
       "1  Military Forces of Yemen (2012-) Security Belt...  ...  14.3541    47.0765   \n",
       "2                   Military Forces of Yemen (2012-)  ...  14.2081    47.1570   \n",
       "3                                 Protesters (India)  ...  20.2724    85.8338   \n",
       "4            NAF: United Armed Forces of Novorossiya  ...  48.7191    38.5695   \n",
       "\n",
       "  geo_precis                                             source  \\\n",
       "0          2  Yemen Data Project; Aden al Ghad; Al Janoob al...   \n",
       "1          2              Al Janoob al Youm; Yemen Data Project   \n",
       "2          1  Al Janoob al Youm; Aden al Ghad; Yemen Data Pr...   \n",
       "3          1                                    Pioneer (India)   \n",
       "4          2                                   OSCE SMM-Ukraine   \n",
       "\n",
       "               source_sca                                              notes  \\\n",
       "0  Local partner-National  On 31 December 2019, clashes reportedly erupte...   \n",
       "1  Local partner-National  On 31 December 2019, forces loyal to the South...   \n",
       "2  Local partner-National  On 31 December 2019, clashes reportedly erupte...   \n",
       "3                National  On 31 December, students' wing of INC and Mili...   \n",
       "4                   Other  On 31 December, the OSCE SMM observed a total ...   \n",
       "\n",
       "  fatalities   timestamp iso3                   geometry  \n",
       "0          0  1580761030  YEM  POINT (47.07650 14.35410)  \n",
       "1          0  1580761030  YEM  POINT (47.07650 14.35410)  \n",
       "2          1  1580761030  YEM  POINT (47.15700 14.20810)  \n",
       "3          0  1578514389  IND  POINT (85.83380 20.27240)  \n",
       "4          0  1578510535  UKR  POINT (38.56950 48.71910)  \n",
       "\n",
       "[5 rows x 32 columns]"
      ]
     },
     "execution_count": 4,
     "metadata": {},
     "output_type": "execute_result"
    }
   ],
   "source": [
    "asia_acled.head()"
   ]
  },
  {
   "cell_type": "markdown",
   "id": "a465e61d-bff0-4f77-914b-cb7de952df89",
   "metadata": {},
   "source": [
    "3. Base maps, icons, markers "
   ]
  },
  {
   "cell_type": "code",
   "execution_count": 5,
   "id": "bdedae3b-cdda-4f7c-acf3-b20ce3eed97b",
   "metadata": {},
   "outputs": [
    {
     "data": {
      "application/vnd.jupyter.widget-view+json": {
       "model_id": "682f51b9eb9a4c018d6fe6322d1ad96b",
       "version_major": 2,
       "version_minor": 0
      },
      "text/plain": [
       "Map(center=[47.0765, 14.3541], controls=(ZoomControl(options=['position', 'zoom_in_text', 'zoom_in_title', 'zo…"
      ]
     },
     "execution_count": 5,
     "metadata": {},
     "output_type": "execute_result"
    }
   ],
   "source": [
    "location = [47.07650, 14.35410]\n",
    "zoom = 12\n",
    "\n",
    "m = Map(basemap=basemaps.Esri.WorldImagery, center=location, zoom=zoom)\n",
    "m"
   ]
  },
  {
   "cell_type": "code",
   "execution_count": 21,
   "id": "a9a5f0fc-f66e-4967-bd95-4c60f87330ec",
   "metadata": {},
   "outputs": [
    {
     "name": "stdout",
     "output_type": "stream",
     "text": [
      "JupyterLab v3.2.1\n",
      "/opt/anaconda3/share/jupyter/labextensions\n",
      "        @jupyter-widgets/jupyterlab-manager v3.0.0 \u001b[32menabled\u001b[0m \u001b[32mOK\u001b[0m (python, jupyterlab_widgets)\n",
      "\n"
     ]
    }
   ],
   "source": [
    "!jupyter labextension list"
   ]
  },
  {
   "cell_type": "code",
   "execution_count": null,
   "id": "b77e7abe-6960-479f-973e-b5c175420800",
   "metadata": {},
   "outputs": [],
   "source": []
  }
 ],
 "metadata": {
  "kernelspec": {
   "display_name": "spatial-ds-ws",
   "language": "python",
   "name": "spatial-ds-ws"
  },
  "language_info": {
   "codemirror_mode": {
    "name": "ipython",
    "version": 3
   },
   "file_extension": ".py",
   "mimetype": "text/x-python",
   "name": "python",
   "nbconvert_exporter": "python",
   "pygments_lexer": "ipython3",
   "version": "3.9.15"
  }
 },
 "nbformat": 4,
 "nbformat_minor": 5
}
