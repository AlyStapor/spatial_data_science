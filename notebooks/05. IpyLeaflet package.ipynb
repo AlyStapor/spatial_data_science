{
 "cells": [
  {
   "cell_type": "markdown",
   "id": "419a82c8",
   "metadata": {},
   "source": [
    "## Visualization with IpyLeaflet"
   ]
  },
  {
   "cell_type": "markdown",
   "id": "43ceaac9",
   "metadata": {},
   "source": [
    "1. Import packages"
   ]
  },
  {
   "cell_type": "code",
   "execution_count": 53,
   "id": "f4c45c29",
   "metadata": {},
   "outputs": [],
   "source": [
    "import geopandas as gpd\n",
    "import json \n",
    "import os \n",
    "import pathlib\n",
    "\n",
    "from branca.colormap import linear\n",
    "from ipyleaflet import (basemaps,\n",
    "                        basemap_to_tiles,\n",
    "                        Choropleth,\n",
    "                        FullScreenControl,\n",
    "                        GeoData,\n",
    "                        GeoJSON,\n",
    "                        Icon,\n",
    "                        Marker,\n",
    "                        MarkerCluster,\n",
    "                        Map,\n",
    "                        LayersControl,\n",
    "                        SearchControl,\n",
    "                        WidgetControl)\n",
    "\n",
    "from ipywidgets import Text, HTML"
   ]
  },
  {
   "cell_type": "code",
   "execution_count": 3,
   "id": "998c27e6",
   "metadata": {},
   "outputs": [],
   "source": [
    "os.chdir('..')\n",
    "path = pathlib.Path().resolve()"
   ]
  },
  {
   "cell_type": "markdown",
   "id": "c0cbda55",
   "metadata": {},
   "source": [
    "2. Import data"
   ]
  },
  {
   "cell_type": "code",
   "execution_count": 4,
   "id": "e62dcfd5",
   "metadata": {},
   "outputs": [],
   "source": [
    "countries = gpd.read_file(gpd.datasets.get_path('naturalearth_lowres'))\n",
    "\n",
    "asia_acled = gpd.read_file(f'{path}/data/acled2019.shp',\n",
    "                           mask=countries[countries.continent == 'Asia'])"
   ]
  },
  {
   "cell_type": "code",
   "execution_count": 5,
   "id": "53bb6a24",
   "metadata": {
    "scrolled": true
   },
   "outputs": [
    {
     "data": {
      "text/html": [
       "<div>\n",
       "<style scoped>\n",
       "    .dataframe tbody tr th:only-of-type {\n",
       "        vertical-align: middle;\n",
       "    }\n",
       "\n",
       "    .dataframe tbody tr th {\n",
       "        vertical-align: top;\n",
       "    }\n",
       "\n",
       "    .dataframe thead th {\n",
       "        text-align: right;\n",
       "    }\n",
       "</style>\n",
       "<table border=\"1\" class=\"dataframe\">\n",
       "  <thead>\n",
       "    <tr style=\"text-align: right;\">\n",
       "      <th></th>\n",
       "      <th>data_id</th>\n",
       "      <th>iso</th>\n",
       "      <th>event_id_c</th>\n",
       "      <th>event_id_n</th>\n",
       "      <th>event_date</th>\n",
       "      <th>year</th>\n",
       "      <th>time_preci</th>\n",
       "      <th>event_type</th>\n",
       "      <th>sub_event_</th>\n",
       "      <th>actor1</th>\n",
       "      <th>...</th>\n",
       "      <th>latitude</th>\n",
       "      <th>longitude</th>\n",
       "      <th>geo_precis</th>\n",
       "      <th>source</th>\n",
       "      <th>source_sca</th>\n",
       "      <th>notes</th>\n",
       "      <th>fatalities</th>\n",
       "      <th>timestamp</th>\n",
       "      <th>iso3</th>\n",
       "      <th>geometry</th>\n",
       "    </tr>\n",
       "  </thead>\n",
       "  <tbody>\n",
       "    <tr>\n",
       "      <th>0</th>\n",
       "      <td>6768128</td>\n",
       "      <td>887</td>\n",
       "      <td>YEM45982</td>\n",
       "      <td>45982</td>\n",
       "      <td>31 December 2019</td>\n",
       "      <td>2019</td>\n",
       "      <td>1</td>\n",
       "      <td>Battles</td>\n",
       "      <td>Armed clash</td>\n",
       "      <td>Military Forces of Yemen (2012-)</td>\n",
       "      <td>...</td>\n",
       "      <td>14.3541</td>\n",
       "      <td>47.0765</td>\n",
       "      <td>2</td>\n",
       "      <td>Yemen Data Project; Aden al Ghad; Al Janoob al...</td>\n",
       "      <td>Local partner-National</td>\n",
       "      <td>On 31 December 2019, clashes reportedly erupte...</td>\n",
       "      <td>0</td>\n",
       "      <td>1580761030</td>\n",
       "      <td>YEM</td>\n",
       "      <td>POINT (47.07650 14.35410)</td>\n",
       "    </tr>\n",
       "    <tr>\n",
       "      <th>1</th>\n",
       "      <td>6768129</td>\n",
       "      <td>887</td>\n",
       "      <td>YEM45983</td>\n",
       "      <td>45983</td>\n",
       "      <td>31 December 2019</td>\n",
       "      <td>2019</td>\n",
       "      <td>1</td>\n",
       "      <td>Strategic developments</td>\n",
       "      <td>Change to group/activity</td>\n",
       "      <td>Military Forces of Yemen (2012-) Security Belt...</td>\n",
       "      <td>...</td>\n",
       "      <td>14.3541</td>\n",
       "      <td>47.0765</td>\n",
       "      <td>2</td>\n",
       "      <td>Al Janoob al Youm; Yemen Data Project</td>\n",
       "      <td>Local partner-National</td>\n",
       "      <td>On 31 December 2019, forces loyal to the South...</td>\n",
       "      <td>0</td>\n",
       "      <td>1580761030</td>\n",
       "      <td>YEM</td>\n",
       "      <td>POINT (47.07650 14.35410)</td>\n",
       "    </tr>\n",
       "    <tr>\n",
       "      <th>2</th>\n",
       "      <td>6768130</td>\n",
       "      <td>887</td>\n",
       "      <td>YEM45984</td>\n",
       "      <td>45984</td>\n",
       "      <td>31 December 2019</td>\n",
       "      <td>2019</td>\n",
       "      <td>1</td>\n",
       "      <td>Battles</td>\n",
       "      <td>Armed clash</td>\n",
       "      <td>Military Forces of Yemen (2012-)</td>\n",
       "      <td>...</td>\n",
       "      <td>14.2081</td>\n",
       "      <td>47.1570</td>\n",
       "      <td>1</td>\n",
       "      <td>Al Janoob al Youm; Aden al Ghad; Yemen Data Pr...</td>\n",
       "      <td>Local partner-National</td>\n",
       "      <td>On 31 December 2019, clashes reportedly erupte...</td>\n",
       "      <td>1</td>\n",
       "      <td>1580761030</td>\n",
       "      <td>YEM</td>\n",
       "      <td>POINT (47.15700 14.20810)</td>\n",
       "    </tr>\n",
       "    <tr>\n",
       "      <th>3</th>\n",
       "      <td>6715395</td>\n",
       "      <td>356</td>\n",
       "      <td>IND68948</td>\n",
       "      <td>68948</td>\n",
       "      <td>31 December 2019</td>\n",
       "      <td>2019</td>\n",
       "      <td>1</td>\n",
       "      <td>Protests</td>\n",
       "      <td>Peaceful protest</td>\n",
       "      <td>Protesters (India)</td>\n",
       "      <td>...</td>\n",
       "      <td>20.2724</td>\n",
       "      <td>85.8338</td>\n",
       "      <td>1</td>\n",
       "      <td>Pioneer (India)</td>\n",
       "      <td>National</td>\n",
       "      <td>On 31 December, students' wing of INC and Mili...</td>\n",
       "      <td>0</td>\n",
       "      <td>1578514389</td>\n",
       "      <td>IND</td>\n",
       "      <td>POINT (85.83380 20.27240)</td>\n",
       "    </tr>\n",
       "    <tr>\n",
       "      <th>4</th>\n",
       "      <td>6710279</td>\n",
       "      <td>804</td>\n",
       "      <td>UKR31063</td>\n",
       "      <td>31063</td>\n",
       "      <td>31 December 2019</td>\n",
       "      <td>2019</td>\n",
       "      <td>1</td>\n",
       "      <td>Explosions/Remote violence</td>\n",
       "      <td>Shelling/artillery/missile attack</td>\n",
       "      <td>NAF: United Armed Forces of Novorossiya</td>\n",
       "      <td>...</td>\n",
       "      <td>48.7191</td>\n",
       "      <td>38.5695</td>\n",
       "      <td>2</td>\n",
       "      <td>OSCE SMM-Ukraine</td>\n",
       "      <td>Other</td>\n",
       "      <td>On 31 December, the OSCE SMM observed a total ...</td>\n",
       "      <td>0</td>\n",
       "      <td>1578510535</td>\n",
       "      <td>UKR</td>\n",
       "      <td>POINT (38.56950 48.71910)</td>\n",
       "    </tr>\n",
       "  </tbody>\n",
       "</table>\n",
       "<p>5 rows × 32 columns</p>\n",
       "</div>"
      ],
      "text/plain": [
       "   data_id  iso event_id_c  event_id_n        event_date  year  time_preci  \\\n",
       "0  6768128  887   YEM45982       45982  31 December 2019  2019           1   \n",
       "1  6768129  887   YEM45983       45983  31 December 2019  2019           1   \n",
       "2  6768130  887   YEM45984       45984  31 December 2019  2019           1   \n",
       "3  6715395  356   IND68948       68948  31 December 2019  2019           1   \n",
       "4  6710279  804   UKR31063       31063  31 December 2019  2019           1   \n",
       "\n",
       "                   event_type                         sub_event_  \\\n",
       "0                     Battles                        Armed clash   \n",
       "1      Strategic developments           Change to group/activity   \n",
       "2                     Battles                        Armed clash   \n",
       "3                    Protests                   Peaceful protest   \n",
       "4  Explosions/Remote violence  Shelling/artillery/missile attack   \n",
       "\n",
       "                                              actor1  ... latitude  longitude  \\\n",
       "0                   Military Forces of Yemen (2012-)  ...  14.3541    47.0765   \n",
       "1  Military Forces of Yemen (2012-) Security Belt...  ...  14.3541    47.0765   \n",
       "2                   Military Forces of Yemen (2012-)  ...  14.2081    47.1570   \n",
       "3                                 Protesters (India)  ...  20.2724    85.8338   \n",
       "4            NAF: United Armed Forces of Novorossiya  ...  48.7191    38.5695   \n",
       "\n",
       "  geo_precis                                             source  \\\n",
       "0          2  Yemen Data Project; Aden al Ghad; Al Janoob al...   \n",
       "1          2              Al Janoob al Youm; Yemen Data Project   \n",
       "2          1  Al Janoob al Youm; Aden al Ghad; Yemen Data Pr...   \n",
       "3          1                                    Pioneer (India)   \n",
       "4          2                                   OSCE SMM-Ukraine   \n",
       "\n",
       "               source_sca                                              notes  \\\n",
       "0  Local partner-National  On 31 December 2019, clashes reportedly erupte...   \n",
       "1  Local partner-National  On 31 December 2019, forces loyal to the South...   \n",
       "2  Local partner-National  On 31 December 2019, clashes reportedly erupte...   \n",
       "3                National  On 31 December, students' wing of INC and Mili...   \n",
       "4                   Other  On 31 December, the OSCE SMM observed a total ...   \n",
       "\n",
       "  fatalities   timestamp iso3                   geometry  \n",
       "0          0  1580761030  YEM  POINT (47.07650 14.35410)  \n",
       "1          0  1580761030  YEM  POINT (47.07650 14.35410)  \n",
       "2          1  1580761030  YEM  POINT (47.15700 14.20810)  \n",
       "3          0  1578514389  IND  POINT (85.83380 20.27240)  \n",
       "4          0  1578510535  UKR  POINT (38.56950 48.71910)  \n",
       "\n",
       "[5 rows x 32 columns]"
      ]
     },
     "execution_count": 5,
     "metadata": {},
     "output_type": "execute_result"
    }
   ],
   "source": [
    "asia_acled.head()"
   ]
  },
  {
   "cell_type": "markdown",
   "id": "b894cea5",
   "metadata": {},
   "source": [
    "3. Base maps, icons, markers "
   ]
  },
  {
   "cell_type": "code",
   "execution_count": 6,
   "id": "3d88ad45",
   "metadata": {},
   "outputs": [
    {
     "data": {
      "application/vnd.jupyter.widget-view+json": {
       "model_id": "c4f89c00d7334a908acef3c8e65f3a60",
       "version_major": 2,
       "version_minor": 0
      },
      "text/plain": [
       "Map(center=[47.0765, 14.3541], controls=(ZoomControl(options=['position', 'zoom_in_text', 'zoom_in_title', 'zo…"
      ]
     },
     "execution_count": 6,
     "metadata": {},
     "output_type": "execute_result"
    }
   ],
   "source": [
    "location = [47.07650, 14.35410]\n",
    "zoom = 12\n",
    "\n",
    "m = Map(basemap=basemaps.Esri.WorldImagery, center=location, zoom=zoom)\n",
    "m"
   ]
  },
  {
   "cell_type": "code",
   "execution_count": 7,
   "id": "602b5a6e",
   "metadata": {},
   "outputs": [],
   "source": [
    "stamen = basemap_to_tiles(basemaps.Stamen.Toner)\n",
    "m.add_layer(stamen)"
   ]
  },
  {
   "cell_type": "code",
   "execution_count": 8,
   "id": "8aa50cc7",
   "metadata": {},
   "outputs": [
    {
     "data": {
      "application/vnd.jupyter.widget-view+json": {
       "model_id": "c4f89c00d7334a908acef3c8e65f3a60",
       "version_major": 2,
       "version_minor": 0
      },
      "text/plain": [
       "Map(bottom=368685.0, center=[47.0765, 14.3541], controls=(ZoomControl(options=['position', 'zoom_in_text', 'zo…"
      ]
     },
     "execution_count": 8,
     "metadata": {},
     "output_type": "execute_result"
    }
   ],
   "source": [
    "marker = Marker(location=location, draggable=False)\n",
    "m.add_layer(marker)\n",
    "m"
   ]
  },
  {
   "cell_type": "markdown",
   "id": "843cc15f",
   "metadata": {},
   "source": [
    "### Map styles - Interactive"
   ]
  },
  {
   "cell_type": "code",
   "execution_count": 9,
   "id": "25f7db0e",
   "metadata": {},
   "outputs": [],
   "source": [
    "zoom = 3\n",
    "location = [4.49998, 22.373178]\n",
    "\n",
    "africa = countries[countries.continent == 'Africa']\n",
    "africa_map = Map(basemap=basemaps.CartoDB.Positron, center = location, zoom=zoom)"
   ]
  },
  {
   "cell_type": "code",
   "execution_count": 10,
   "id": "ab003970",
   "metadata": {},
   "outputs": [
    {
     "data": {
      "application/vnd.jupyter.widget-view+json": {
       "model_id": "8ef96cf005df47e09853189c4b9bde04",
       "version_major": 2,
       "version_minor": 0
      },
      "text/plain": [
       "Map(center=[4.49998, 22.373178], controls=(ZoomControl(options=['position', 'zoom_in_text', 'zoom_in_title', '…"
      ]
     },
     "execution_count": 10,
     "metadata": {},
     "output_type": "execute_result"
    },
    {
     "ename": "TypeError",
     "evalue": "update_html() missing 1 required positional argument: 'feat'",
     "output_type": "error",
     "traceback": [
      "\u001b[0;31m---------------------------------------------------------------------------\u001b[0m",
      "\u001b[0;31mTypeError\u001b[0m                                 Traceback (most recent call last)",
      "\u001b[0;31mTypeError\u001b[0m: update_html() missing 1 required positional argument: 'feat'"
     ]
    },
    {
     "ename": "TypeError",
     "evalue": "update_html() missing 1 required positional argument: 'feat'",
     "output_type": "error",
     "traceback": [
      "\u001b[0;31m---------------------------------------------------------------------------\u001b[0m",
      "\u001b[0;31mTypeError\u001b[0m                                 Traceback (most recent call last)",
      "\u001b[0;31mTypeError\u001b[0m: update_html() missing 1 required positional argument: 'feat'"
     ]
    },
    {
     "ename": "TypeError",
     "evalue": "update_html() missing 1 required positional argument: 'feat'",
     "output_type": "error",
     "traceback": [
      "\u001b[0;31m---------------------------------------------------------------------------\u001b[0m",
      "\u001b[0;31mTypeError\u001b[0m                                 Traceback (most recent call last)",
      "\u001b[0;31mTypeError\u001b[0m: update_html() missing 1 required positional argument: 'feat'"
     ]
    },
    {
     "ename": "TypeError",
     "evalue": "update_html() missing 1 required positional argument: 'feat'",
     "output_type": "error",
     "traceback": [
      "\u001b[0;31m---------------------------------------------------------------------------\u001b[0m",
      "\u001b[0;31mTypeError\u001b[0m                                 Traceback (most recent call last)",
      "\u001b[0;31mTypeError\u001b[0m: update_html() missing 1 required positional argument: 'feat'"
     ]
    },
    {
     "ename": "TypeError",
     "evalue": "update_html() missing 1 required positional argument: 'feat'",
     "output_type": "error",
     "traceback": [
      "\u001b[0;31m---------------------------------------------------------------------------\u001b[0m",
      "\u001b[0;31mTypeError\u001b[0m                                 Traceback (most recent call last)",
      "\u001b[0;31mTypeError\u001b[0m: update_html() missing 1 required positional argument: 'feat'"
     ]
    },
    {
     "ename": "TypeError",
     "evalue": "update_html() missing 1 required positional argument: 'feat'",
     "output_type": "error",
     "traceback": [
      "\u001b[0;31m---------------------------------------------------------------------------\u001b[0m",
      "\u001b[0;31mTypeError\u001b[0m                                 Traceback (most recent call last)",
      "\u001b[0;31mTypeError\u001b[0m: update_html() missing 1 required positional argument: 'feat'"
     ]
    },
    {
     "ename": "TypeError",
     "evalue": "update_html() missing 1 required positional argument: 'feat'",
     "output_type": "error",
     "traceback": [
      "\u001b[0;31m---------------------------------------------------------------------------\u001b[0m",
      "\u001b[0;31mTypeError\u001b[0m                                 Traceback (most recent call last)",
      "\u001b[0;31mTypeError\u001b[0m: update_html() missing 1 required positional argument: 'feat'"
     ]
    },
    {
     "ename": "TypeError",
     "evalue": "update_html() missing 1 required positional argument: 'feat'",
     "output_type": "error",
     "traceback": [
      "\u001b[0;31m---------------------------------------------------------------------------\u001b[0m",
      "\u001b[0;31mTypeError\u001b[0m                                 Traceback (most recent call last)",
      "\u001b[0;31mTypeError\u001b[0m: update_html() missing 1 required positional argument: 'feat'"
     ]
    },
    {
     "ename": "TypeError",
     "evalue": "update_html() missing 1 required positional argument: 'feat'",
     "output_type": "error",
     "traceback": [
      "\u001b[0;31m---------------------------------------------------------------------------\u001b[0m",
      "\u001b[0;31mTypeError\u001b[0m                                 Traceback (most recent call last)",
      "\u001b[0;31mTypeError\u001b[0m: update_html() missing 1 required positional argument: 'feat'"
     ]
    },
    {
     "ename": "TypeError",
     "evalue": "update_html() missing 1 required positional argument: 'feat'",
     "output_type": "error",
     "traceback": [
      "\u001b[0;31m---------------------------------------------------------------------------\u001b[0m",
      "\u001b[0;31mTypeError\u001b[0m                                 Traceback (most recent call last)",
      "\u001b[0;31mTypeError\u001b[0m: update_html() missing 1 required positional argument: 'feat'"
     ]
    },
    {
     "ename": "TypeError",
     "evalue": "update_html() missing 1 required positional argument: 'feat'",
     "output_type": "error",
     "traceback": [
      "\u001b[0;31m---------------------------------------------------------------------------\u001b[0m",
      "\u001b[0;31mTypeError\u001b[0m                                 Traceback (most recent call last)",
      "\u001b[0;31mTypeError\u001b[0m: update_html() missing 1 required positional argument: 'feat'"
     ]
    },
    {
     "ename": "TypeError",
     "evalue": "update_html() missing 1 required positional argument: 'feat'",
     "output_type": "error",
     "traceback": [
      "\u001b[0;31m---------------------------------------------------------------------------\u001b[0m",
      "\u001b[0;31mTypeError\u001b[0m                                 Traceback (most recent call last)",
      "\u001b[0;31mTypeError\u001b[0m: update_html() missing 1 required positional argument: 'feat'"
     ]
    },
    {
     "ename": "TypeError",
     "evalue": "update_html() missing 1 required positional argument: 'feat'",
     "output_type": "error",
     "traceback": [
      "\u001b[0;31m---------------------------------------------------------------------------\u001b[0m",
      "\u001b[0;31mTypeError\u001b[0m                                 Traceback (most recent call last)",
      "\u001b[0;31mTypeError\u001b[0m: update_html() missing 1 required positional argument: 'feat'"
     ]
    },
    {
     "ename": "TypeError",
     "evalue": "update_html() missing 1 required positional argument: 'feat'",
     "output_type": "error",
     "traceback": [
      "\u001b[0;31m---------------------------------------------------------------------------\u001b[0m",
      "\u001b[0;31mTypeError\u001b[0m                                 Traceback (most recent call last)",
      "\u001b[0;31mTypeError\u001b[0m: update_html() missing 1 required positional argument: 'feat'"
     ]
    },
    {
     "ename": "TypeError",
     "evalue": "update_html() missing 1 required positional argument: 'feat'",
     "output_type": "error",
     "traceback": [
      "\u001b[0;31m---------------------------------------------------------------------------\u001b[0m",
      "\u001b[0;31mTypeError\u001b[0m                                 Traceback (most recent call last)",
      "\u001b[0;31mTypeError\u001b[0m: update_html() missing 1 required positional argument: 'feat'"
     ]
    },
    {
     "ename": "TypeError",
     "evalue": "update_html() missing 1 required positional argument: 'feat'",
     "output_type": "error",
     "traceback": [
      "\u001b[0;31m---------------------------------------------------------------------------\u001b[0m",
      "\u001b[0;31mTypeError\u001b[0m                                 Traceback (most recent call last)",
      "\u001b[0;31mTypeError\u001b[0m: update_html() missing 1 required positional argument: 'feat'"
     ]
    },
    {
     "ename": "TypeError",
     "evalue": "update_html() missing 1 required positional argument: 'feat'",
     "output_type": "error",
     "traceback": [
      "\u001b[0;31m---------------------------------------------------------------------------\u001b[0m",
      "\u001b[0;31mTypeError\u001b[0m                                 Traceback (most recent call last)",
      "\u001b[0;31mTypeError\u001b[0m: update_html() missing 1 required positional argument: 'feat'"
     ]
    },
    {
     "ename": "TypeError",
     "evalue": "update_html() missing 1 required positional argument: 'feat'",
     "output_type": "error",
     "traceback": [
      "\u001b[0;31m---------------------------------------------------------------------------\u001b[0m",
      "\u001b[0;31mTypeError\u001b[0m                                 Traceback (most recent call last)",
      "\u001b[0;31mTypeError\u001b[0m: update_html() missing 1 required positional argument: 'feat'"
     ]
    },
    {
     "ename": "TypeError",
     "evalue": "update_html() missing 1 required positional argument: 'feat'",
     "output_type": "error",
     "traceback": [
      "\u001b[0;31m---------------------------------------------------------------------------\u001b[0m",
      "\u001b[0;31mTypeError\u001b[0m                                 Traceback (most recent call last)",
      "\u001b[0;31mTypeError\u001b[0m: update_html() missing 1 required positional argument: 'feat'"
     ]
    },
    {
     "ename": "TypeError",
     "evalue": "update_html() missing 1 required positional argument: 'feat'",
     "output_type": "error",
     "traceback": [
      "\u001b[0;31m---------------------------------------------------------------------------\u001b[0m",
      "\u001b[0;31mTypeError\u001b[0m                                 Traceback (most recent call last)",
      "\u001b[0;31mTypeError\u001b[0m: update_html() missing 1 required positional argument: 'feat'"
     ]
    },
    {
     "ename": "TypeError",
     "evalue": "update_html() missing 1 required positional argument: 'feat'",
     "output_type": "error",
     "traceback": [
      "\u001b[0;31m---------------------------------------------------------------------------\u001b[0m",
      "\u001b[0;31mTypeError\u001b[0m                                 Traceback (most recent call last)",
      "\u001b[0;31mTypeError\u001b[0m: update_html() missing 1 required positional argument: 'feat'"
     ]
    },
    {
     "ename": "TypeError",
     "evalue": "update_html() missing 1 required positional argument: 'feat'",
     "output_type": "error",
     "traceback": [
      "\u001b[0;31m---------------------------------------------------------------------------\u001b[0m",
      "\u001b[0;31mTypeError\u001b[0m                                 Traceback (most recent call last)",
      "\u001b[0;31mTypeError\u001b[0m: update_html() missing 1 required positional argument: 'feat'"
     ]
    },
    {
     "ename": "TypeError",
     "evalue": "update_html() missing 1 required positional argument: 'feat'",
     "output_type": "error",
     "traceback": [
      "\u001b[0;31m---------------------------------------------------------------------------\u001b[0m",
      "\u001b[0;31mTypeError\u001b[0m                                 Traceback (most recent call last)",
      "\u001b[0;31mTypeError\u001b[0m: update_html() missing 1 required positional argument: 'feat'"
     ]
    },
    {
     "ename": "TypeError",
     "evalue": "update_html() missing 1 required positional argument: 'feat'",
     "output_type": "error",
     "traceback": [
      "\u001b[0;31m---------------------------------------------------------------------------\u001b[0m",
      "\u001b[0;31mTypeError\u001b[0m                                 Traceback (most recent call last)",
      "\u001b[0;31mTypeError\u001b[0m: update_html() missing 1 required positional argument: 'feat'"
     ]
    },
    {
     "ename": "TypeError",
     "evalue": "update_html() missing 1 required positional argument: 'feat'",
     "output_type": "error",
     "traceback": [
      "\u001b[0;31m---------------------------------------------------------------------------\u001b[0m",
      "\u001b[0;31mTypeError\u001b[0m                                 Traceback (most recent call last)",
      "\u001b[0;31mTypeError\u001b[0m: update_html() missing 1 required positional argument: 'feat'"
     ]
    },
    {
     "ename": "TypeError",
     "evalue": "update_html() missing 1 required positional argument: 'feat'",
     "output_type": "error",
     "traceback": [
      "\u001b[0;31m---------------------------------------------------------------------------\u001b[0m",
      "\u001b[0;31mTypeError\u001b[0m                                 Traceback (most recent call last)",
      "\u001b[0;31mTypeError\u001b[0m: update_html() missing 1 required positional argument: 'feat'"
     ]
    },
    {
     "ename": "TypeError",
     "evalue": "update_html() missing 1 required positional argument: 'feat'",
     "output_type": "error",
     "traceback": [
      "\u001b[0;31m---------------------------------------------------------------------------\u001b[0m",
      "\u001b[0;31mTypeError\u001b[0m                                 Traceback (most recent call last)",
      "\u001b[0;31mTypeError\u001b[0m: update_html() missing 1 required positional argument: 'feat'"
     ]
    },
    {
     "ename": "TypeError",
     "evalue": "update_html() missing 1 required positional argument: 'feat'",
     "output_type": "error",
     "traceback": [
      "\u001b[0;31m---------------------------------------------------------------------------\u001b[0m",
      "\u001b[0;31mTypeError\u001b[0m                                 Traceback (most recent call last)",
      "\u001b[0;31mTypeError\u001b[0m: update_html() missing 1 required positional argument: 'feat'"
     ]
    },
    {
     "ename": "TypeError",
     "evalue": "update_html() missing 1 required positional argument: 'feat'",
     "output_type": "error",
     "traceback": [
      "\u001b[0;31m---------------------------------------------------------------------------\u001b[0m",
      "\u001b[0;31mTypeError\u001b[0m                                 Traceback (most recent call last)",
      "\u001b[0;31mTypeError\u001b[0m: update_html() missing 1 required positional argument: 'feat'"
     ]
    },
    {
     "ename": "TypeError",
     "evalue": "update_html() missing 1 required positional argument: 'feat'",
     "output_type": "error",
     "traceback": [
      "\u001b[0;31m---------------------------------------------------------------------------\u001b[0m",
      "\u001b[0;31mTypeError\u001b[0m                                 Traceback (most recent call last)",
      "\u001b[0;31mTypeError\u001b[0m: update_html() missing 1 required positional argument: 'feat'"
     ]
    },
    {
     "ename": "TypeError",
     "evalue": "update_html() missing 1 required positional argument: 'feat'",
     "output_type": "error",
     "traceback": [
      "\u001b[0;31m---------------------------------------------------------------------------\u001b[0m",
      "\u001b[0;31mTypeError\u001b[0m                                 Traceback (most recent call last)",
      "\u001b[0;31mTypeError\u001b[0m: update_html() missing 1 required positional argument: 'feat'"
     ]
    },
    {
     "ename": "TypeError",
     "evalue": "update_html() missing 1 required positional argument: 'feat'",
     "output_type": "error",
     "traceback": [
      "\u001b[0;31m---------------------------------------------------------------------------\u001b[0m",
      "\u001b[0;31mTypeError\u001b[0m                                 Traceback (most recent call last)",
      "\u001b[0;31mTypeError\u001b[0m: update_html() missing 1 required positional argument: 'feat'"
     ]
    },
    {
     "ename": "TypeError",
     "evalue": "update_html() missing 1 required positional argument: 'feat'",
     "output_type": "error",
     "traceback": [
      "\u001b[0;31m---------------------------------------------------------------------------\u001b[0m",
      "\u001b[0;31mTypeError\u001b[0m                                 Traceback (most recent call last)",
      "\u001b[0;31mTypeError\u001b[0m: update_html() missing 1 required positional argument: 'feat'"
     ]
    },
    {
     "ename": "TypeError",
     "evalue": "update_html() missing 1 required positional argument: 'feat'",
     "output_type": "error",
     "traceback": [
      "\u001b[0;31m---------------------------------------------------------------------------\u001b[0m",
      "\u001b[0;31mTypeError\u001b[0m                                 Traceback (most recent call last)",
      "\u001b[0;31mTypeError\u001b[0m: update_html() missing 1 required positional argument: 'feat'"
     ]
    },
    {
     "ename": "TypeError",
     "evalue": "update_html() missing 1 required positional argument: 'feat'",
     "output_type": "error",
     "traceback": [
      "\u001b[0;31m---------------------------------------------------------------------------\u001b[0m",
      "\u001b[0;31mTypeError\u001b[0m                                 Traceback (most recent call last)",
      "\u001b[0;31mTypeError\u001b[0m: update_html() missing 1 required positional argument: 'feat'"
     ]
    },
    {
     "ename": "TypeError",
     "evalue": "update_html() missing 1 required positional argument: 'feat'",
     "output_type": "error",
     "traceback": [
      "\u001b[0;31m---------------------------------------------------------------------------\u001b[0m",
      "\u001b[0;31mTypeError\u001b[0m                                 Traceback (most recent call last)",
      "\u001b[0;31mTypeError\u001b[0m: update_html() missing 1 required positional argument: 'feat'"
     ]
    },
    {
     "ename": "TypeError",
     "evalue": "update_html() missing 1 required positional argument: 'feat'",
     "output_type": "error",
     "traceback": [
      "\u001b[0;31m---------------------------------------------------------------------------\u001b[0m",
      "\u001b[0;31mTypeError\u001b[0m                                 Traceback (most recent call last)",
      "\u001b[0;31mTypeError\u001b[0m: update_html() missing 1 required positional argument: 'feat'"
     ]
    },
    {
     "ename": "TypeError",
     "evalue": "update_html() missing 1 required positional argument: 'feat'",
     "output_type": "error",
     "traceback": [
      "\u001b[0;31m---------------------------------------------------------------------------\u001b[0m",
      "\u001b[0;31mTypeError\u001b[0m                                 Traceback (most recent call last)",
      "\u001b[0;31mTypeError\u001b[0m: update_html() missing 1 required positional argument: 'feat'"
     ]
    },
    {
     "ename": "TypeError",
     "evalue": "update_html() missing 1 required positional argument: 'feat'",
     "output_type": "error",
     "traceback": [
      "\u001b[0;31m---------------------------------------------------------------------------\u001b[0m",
      "\u001b[0;31mTypeError\u001b[0m                                 Traceback (most recent call last)",
      "\u001b[0;31mTypeError\u001b[0m: update_html() missing 1 required positional argument: 'feat'"
     ]
    },
    {
     "ename": "TypeError",
     "evalue": "update_html() missing 1 required positional argument: 'feat'",
     "output_type": "error",
     "traceback": [
      "\u001b[0;31m---------------------------------------------------------------------------\u001b[0m",
      "\u001b[0;31mTypeError\u001b[0m                                 Traceback (most recent call last)",
      "\u001b[0;31mTypeError\u001b[0m: update_html() missing 1 required positional argument: 'feat'"
     ]
    },
    {
     "ename": "TypeError",
     "evalue": "update_html() missing 1 required positional argument: 'feat'",
     "output_type": "error",
     "traceback": [
      "\u001b[0;31m---------------------------------------------------------------------------\u001b[0m",
      "\u001b[0;31mTypeError\u001b[0m                                 Traceback (most recent call last)",
      "\u001b[0;31mTypeError\u001b[0m: update_html() missing 1 required positional argument: 'feat'"
     ]
    },
    {
     "ename": "TypeError",
     "evalue": "update_html() missing 1 required positional argument: 'feat'",
     "output_type": "error",
     "traceback": [
      "\u001b[0;31m---------------------------------------------------------------------------\u001b[0m",
      "\u001b[0;31mTypeError\u001b[0m                                 Traceback (most recent call last)",
      "\u001b[0;31mTypeError\u001b[0m: update_html() missing 1 required positional argument: 'feat'"
     ]
    },
    {
     "ename": "TypeError",
     "evalue": "update_html() missing 1 required positional argument: 'feat'",
     "output_type": "error",
     "traceback": [
      "\u001b[0;31m---------------------------------------------------------------------------\u001b[0m",
      "\u001b[0;31mTypeError\u001b[0m                                 Traceback (most recent call last)",
      "\u001b[0;31mTypeError\u001b[0m: update_html() missing 1 required positional argument: 'feat'"
     ]
    },
    {
     "ename": "TypeError",
     "evalue": "update_html() missing 1 required positional argument: 'feat'",
     "output_type": "error",
     "traceback": [
      "\u001b[0;31m---------------------------------------------------------------------------\u001b[0m",
      "\u001b[0;31mTypeError\u001b[0m                                 Traceback (most recent call last)",
      "\u001b[0;31mTypeError\u001b[0m: update_html() missing 1 required positional argument: 'feat'"
     ]
    },
    {
     "ename": "TypeError",
     "evalue": "update_html() missing 1 required positional argument: 'feat'",
     "output_type": "error",
     "traceback": [
      "\u001b[0;31m---------------------------------------------------------------------------\u001b[0m",
      "\u001b[0;31mTypeError\u001b[0m                                 Traceback (most recent call last)",
      "\u001b[0;31mTypeError\u001b[0m: update_html() missing 1 required positional argument: 'feat'"
     ]
    },
    {
     "ename": "TypeError",
     "evalue": "update_html() missing 1 required positional argument: 'feat'",
     "output_type": "error",
     "traceback": [
      "\u001b[0;31m---------------------------------------------------------------------------\u001b[0m",
      "\u001b[0;31mTypeError\u001b[0m                                 Traceback (most recent call last)",
      "\u001b[0;31mTypeError\u001b[0m: update_html() missing 1 required positional argument: 'feat'"
     ]
    },
    {
     "ename": "TypeError",
     "evalue": "update_html() missing 1 required positional argument: 'feat'",
     "output_type": "error",
     "traceback": [
      "\u001b[0;31m---------------------------------------------------------------------------\u001b[0m",
      "\u001b[0;31mTypeError\u001b[0m                                 Traceback (most recent call last)",
      "\u001b[0;31mTypeError\u001b[0m: update_html() missing 1 required positional argument: 'feat'"
     ]
    },
    {
     "ename": "TypeError",
     "evalue": "update_html() missing 1 required positional argument: 'feat'",
     "output_type": "error",
     "traceback": [
      "\u001b[0;31m---------------------------------------------------------------------------\u001b[0m",
      "\u001b[0;31mTypeError\u001b[0m                                 Traceback (most recent call last)",
      "\u001b[0;31mTypeError\u001b[0m: update_html() missing 1 required positional argument: 'feat'"
     ]
    },
    {
     "ename": "TypeError",
     "evalue": "update_html() missing 1 required positional argument: 'feat'",
     "output_type": "error",
     "traceback": [
      "\u001b[0;31m---------------------------------------------------------------------------\u001b[0m",
      "\u001b[0;31mTypeError\u001b[0m                                 Traceback (most recent call last)",
      "\u001b[0;31mTypeError\u001b[0m: update_html() missing 1 required positional argument: 'feat'"
     ]
    },
    {
     "ename": "TypeError",
     "evalue": "update_html() missing 1 required positional argument: 'feat'",
     "output_type": "error",
     "traceback": [
      "\u001b[0;31m---------------------------------------------------------------------------\u001b[0m",
      "\u001b[0;31mTypeError\u001b[0m                                 Traceback (most recent call last)",
      "\u001b[0;31mTypeError\u001b[0m: update_html() missing 1 required positional argument: 'feat'"
     ]
    },
    {
     "ename": "TypeError",
     "evalue": "update_html() missing 1 required positional argument: 'feat'",
     "output_type": "error",
     "traceback": [
      "\u001b[0;31m---------------------------------------------------------------------------\u001b[0m",
      "\u001b[0;31mTypeError\u001b[0m                                 Traceback (most recent call last)",
      "\u001b[0;31mTypeError\u001b[0m: update_html() missing 1 required positional argument: 'feat'"
     ]
    },
    {
     "ename": "TypeError",
     "evalue": "update_html() missing 1 required positional argument: 'feat'",
     "output_type": "error",
     "traceback": [
      "\u001b[0;31m---------------------------------------------------------------------------\u001b[0m",
      "\u001b[0;31mTypeError\u001b[0m                                 Traceback (most recent call last)",
      "\u001b[0;31mTypeError\u001b[0m: update_html() missing 1 required positional argument: 'feat'"
     ]
    },
    {
     "ename": "TypeError",
     "evalue": "update_html() missing 1 required positional argument: 'feat'",
     "output_type": "error",
     "traceback": [
      "\u001b[0;31m---------------------------------------------------------------------------\u001b[0m",
      "\u001b[0;31mTypeError\u001b[0m                                 Traceback (most recent call last)",
      "\u001b[0;31mTypeError\u001b[0m: update_html() missing 1 required positional argument: 'feat'"
     ]
    },
    {
     "ename": "TypeError",
     "evalue": "update_html() missing 1 required positional argument: 'feat'",
     "output_type": "error",
     "traceback": [
      "\u001b[0;31m---------------------------------------------------------------------------\u001b[0m",
      "\u001b[0;31mTypeError\u001b[0m                                 Traceback (most recent call last)",
      "\u001b[0;31mTypeError\u001b[0m: update_html() missing 1 required positional argument: 'feat'"
     ]
    },
    {
     "ename": "TypeError",
     "evalue": "update_html() missing 1 required positional argument: 'feat'",
     "output_type": "error",
     "traceback": [
      "\u001b[0;31m---------------------------------------------------------------------------\u001b[0m",
      "\u001b[0;31mTypeError\u001b[0m                                 Traceback (most recent call last)",
      "\u001b[0;31mTypeError\u001b[0m: update_html() missing 1 required positional argument: 'feat'"
     ]
    },
    {
     "ename": "TypeError",
     "evalue": "update_html() missing 1 required positional argument: 'feat'",
     "output_type": "error",
     "traceback": [
      "\u001b[0;31m---------------------------------------------------------------------------\u001b[0m",
      "\u001b[0;31mTypeError\u001b[0m                                 Traceback (most recent call last)",
      "\u001b[0;31mTypeError\u001b[0m: update_html() missing 1 required positional argument: 'feat'"
     ]
    },
    {
     "ename": "TypeError",
     "evalue": "update_html() missing 1 required positional argument: 'feat'",
     "output_type": "error",
     "traceback": [
      "\u001b[0;31m---------------------------------------------------------------------------\u001b[0m",
      "\u001b[0;31mTypeError\u001b[0m                                 Traceback (most recent call last)",
      "\u001b[0;31mTypeError\u001b[0m: update_html() missing 1 required positional argument: 'feat'"
     ]
    },
    {
     "ename": "TypeError",
     "evalue": "update_html() missing 1 required positional argument: 'feat'",
     "output_type": "error",
     "traceback": [
      "\u001b[0;31m---------------------------------------------------------------------------\u001b[0m",
      "\u001b[0;31mTypeError\u001b[0m                                 Traceback (most recent call last)",
      "\u001b[0;31mTypeError\u001b[0m: update_html() missing 1 required positional argument: 'feat'"
     ]
    },
    {
     "ename": "TypeError",
     "evalue": "update_html() missing 1 required positional argument: 'feat'",
     "output_type": "error",
     "traceback": [
      "\u001b[0;31m---------------------------------------------------------------------------\u001b[0m",
      "\u001b[0;31mTypeError\u001b[0m                                 Traceback (most recent call last)",
      "\u001b[0;31mTypeError\u001b[0m: update_html() missing 1 required positional argument: 'feat'"
     ]
    },
    {
     "ename": "TypeError",
     "evalue": "update_html() missing 1 required positional argument: 'feat'",
     "output_type": "error",
     "traceback": [
      "\u001b[0;31m---------------------------------------------------------------------------\u001b[0m",
      "\u001b[0;31mTypeError\u001b[0m                                 Traceback (most recent call last)",
      "\u001b[0;31mTypeError\u001b[0m: update_html() missing 1 required positional argument: 'feat'"
     ]
    },
    {
     "ename": "TypeError",
     "evalue": "update_html() missing 1 required positional argument: 'feat'",
     "output_type": "error",
     "traceback": [
      "\u001b[0;31m---------------------------------------------------------------------------\u001b[0m",
      "\u001b[0;31mTypeError\u001b[0m                                 Traceback (most recent call last)",
      "\u001b[0;31mTypeError\u001b[0m: update_html() missing 1 required positional argument: 'feat'"
     ]
    },
    {
     "ename": "TypeError",
     "evalue": "update_html() missing 1 required positional argument: 'feat'",
     "output_type": "error",
     "traceback": [
      "\u001b[0;31m---------------------------------------------------------------------------\u001b[0m",
      "\u001b[0;31mTypeError\u001b[0m                                 Traceback (most recent call last)",
      "\u001b[0;31mTypeError\u001b[0m: update_html() missing 1 required positional argument: 'feat'"
     ]
    },
    {
     "ename": "TypeError",
     "evalue": "update_html() missing 1 required positional argument: 'feat'",
     "output_type": "error",
     "traceback": [
      "\u001b[0;31m---------------------------------------------------------------------------\u001b[0m",
      "\u001b[0;31mTypeError\u001b[0m                                 Traceback (most recent call last)",
      "\u001b[0;31mTypeError\u001b[0m: update_html() missing 1 required positional argument: 'feat'"
     ]
    },
    {
     "ename": "TypeError",
     "evalue": "update_html() missing 1 required positional argument: 'feat'",
     "output_type": "error",
     "traceback": [
      "\u001b[0;31m---------------------------------------------------------------------------\u001b[0m",
      "\u001b[0;31mTypeError\u001b[0m                                 Traceback (most recent call last)",
      "\u001b[0;31mTypeError\u001b[0m: update_html() missing 1 required positional argument: 'feat'"
     ]
    },
    {
     "ename": "TypeError",
     "evalue": "update_html() missing 1 required positional argument: 'feat'",
     "output_type": "error",
     "traceback": [
      "\u001b[0;31m---------------------------------------------------------------------------\u001b[0m",
      "\u001b[0;31mTypeError\u001b[0m                                 Traceback (most recent call last)",
      "\u001b[0;31mTypeError\u001b[0m: update_html() missing 1 required positional argument: 'feat'"
     ]
    },
    {
     "ename": "TypeError",
     "evalue": "update_html() missing 1 required positional argument: 'feat'",
     "output_type": "error",
     "traceback": [
      "\u001b[0;31m---------------------------------------------------------------------------\u001b[0m",
      "\u001b[0;31mTypeError\u001b[0m                                 Traceback (most recent call last)",
      "\u001b[0;31mTypeError\u001b[0m: update_html() missing 1 required positional argument: 'feat'"
     ]
    },
    {
     "ename": "TypeError",
     "evalue": "update_html() missing 1 required positional argument: 'feat'",
     "output_type": "error",
     "traceback": [
      "\u001b[0;31m---------------------------------------------------------------------------\u001b[0m",
      "\u001b[0;31mTypeError\u001b[0m                                 Traceback (most recent call last)",
      "\u001b[0;31mTypeError\u001b[0m: update_html() missing 1 required positional argument: 'feat'"
     ]
    },
    {
     "ename": "TypeError",
     "evalue": "update_html() missing 1 required positional argument: 'feat'",
     "output_type": "error",
     "traceback": [
      "\u001b[0;31m---------------------------------------------------------------------------\u001b[0m",
      "\u001b[0;31mTypeError\u001b[0m                                 Traceback (most recent call last)",
      "\u001b[0;31mTypeError\u001b[0m: update_html() missing 1 required positional argument: 'feat'"
     ]
    },
    {
     "ename": "TypeError",
     "evalue": "update_html() missing 1 required positional argument: 'feat'",
     "output_type": "error",
     "traceback": [
      "\u001b[0;31m---------------------------------------------------------------------------\u001b[0m",
      "\u001b[0;31mTypeError\u001b[0m                                 Traceback (most recent call last)",
      "\u001b[0;31mTypeError\u001b[0m: update_html() missing 1 required positional argument: 'feat'"
     ]
    },
    {
     "ename": "TypeError",
     "evalue": "update_html() missing 1 required positional argument: 'feat'",
     "output_type": "error",
     "traceback": [
      "\u001b[0;31m---------------------------------------------------------------------------\u001b[0m",
      "\u001b[0;31mTypeError\u001b[0m                                 Traceback (most recent call last)",
      "\u001b[0;31mTypeError\u001b[0m: update_html() missing 1 required positional argument: 'feat'"
     ]
    },
    {
     "ename": "TypeError",
     "evalue": "update_html() missing 1 required positional argument: 'feat'",
     "output_type": "error",
     "traceback": [
      "\u001b[0;31m---------------------------------------------------------------------------\u001b[0m",
      "\u001b[0;31mTypeError\u001b[0m                                 Traceback (most recent call last)",
      "\u001b[0;31mTypeError\u001b[0m: update_html() missing 1 required positional argument: 'feat'"
     ]
    },
    {
     "ename": "TypeError",
     "evalue": "update_html() missing 1 required positional argument: 'feat'",
     "output_type": "error",
     "traceback": [
      "\u001b[0;31m---------------------------------------------------------------------------\u001b[0m",
      "\u001b[0;31mTypeError\u001b[0m                                 Traceback (most recent call last)",
      "\u001b[0;31mTypeError\u001b[0m: update_html() missing 1 required positional argument: 'feat'"
     ]
    },
    {
     "ename": "TypeError",
     "evalue": "update_html() missing 1 required positional argument: 'feat'",
     "output_type": "error",
     "traceback": [
      "\u001b[0;31m---------------------------------------------------------------------------\u001b[0m",
      "\u001b[0;31mTypeError\u001b[0m                                 Traceback (most recent call last)",
      "\u001b[0;31mTypeError\u001b[0m: update_html() missing 1 required positional argument: 'feat'"
     ]
    },
    {
     "ename": "TypeError",
     "evalue": "update_html() missing 1 required positional argument: 'feat'",
     "output_type": "error",
     "traceback": [
      "\u001b[0;31m---------------------------------------------------------------------------\u001b[0m",
      "\u001b[0;31mTypeError\u001b[0m                                 Traceback (most recent call last)",
      "\u001b[0;31mTypeError\u001b[0m: update_html() missing 1 required positional argument: 'feat'"
     ]
    },
    {
     "ename": "TypeError",
     "evalue": "update_html() missing 1 required positional argument: 'feat'",
     "output_type": "error",
     "traceback": [
      "\u001b[0;31m---------------------------------------------------------------------------\u001b[0m",
      "\u001b[0;31mTypeError\u001b[0m                                 Traceback (most recent call last)",
      "\u001b[0;31mTypeError\u001b[0m: update_html() missing 1 required positional argument: 'feat'"
     ]
    },
    {
     "ename": "TypeError",
     "evalue": "update_html() missing 1 required positional argument: 'feat'",
     "output_type": "error",
     "traceback": [
      "\u001b[0;31m---------------------------------------------------------------------------\u001b[0m",
      "\u001b[0;31mTypeError\u001b[0m                                 Traceback (most recent call last)",
      "\u001b[0;31mTypeError\u001b[0m: update_html() missing 1 required positional argument: 'feat'"
     ]
    },
    {
     "ename": "TypeError",
     "evalue": "update_html() missing 1 required positional argument: 'feat'",
     "output_type": "error",
     "traceback": [
      "\u001b[0;31m---------------------------------------------------------------------------\u001b[0m",
      "\u001b[0;31mTypeError\u001b[0m                                 Traceback (most recent call last)",
      "\u001b[0;31mTypeError\u001b[0m: update_html() missing 1 required positional argument: 'feat'"
     ]
    },
    {
     "ename": "TypeError",
     "evalue": "update_html() missing 1 required positional argument: 'feat'",
     "output_type": "error",
     "traceback": [
      "\u001b[0;31m---------------------------------------------------------------------------\u001b[0m",
      "\u001b[0;31mTypeError\u001b[0m                                 Traceback (most recent call last)",
      "\u001b[0;31mTypeError\u001b[0m: update_html() missing 1 required positional argument: 'feat'"
     ]
    },
    {
     "ename": "TypeError",
     "evalue": "update_html() missing 1 required positional argument: 'feat'",
     "output_type": "error",
     "traceback": [
      "\u001b[0;31m---------------------------------------------------------------------------\u001b[0m",
      "\u001b[0;31mTypeError\u001b[0m                                 Traceback (most recent call last)",
      "\u001b[0;31mTypeError\u001b[0m: update_html() missing 1 required positional argument: 'feat'"
     ]
    },
    {
     "ename": "TypeError",
     "evalue": "update_html() missing 1 required positional argument: 'feat'",
     "output_type": "error",
     "traceback": [
      "\u001b[0;31m---------------------------------------------------------------------------\u001b[0m",
      "\u001b[0;31mTypeError\u001b[0m                                 Traceback (most recent call last)",
      "\u001b[0;31mTypeError\u001b[0m: update_html() missing 1 required positional argument: 'feat'"
     ]
    },
    {
     "ename": "TypeError",
     "evalue": "update_html() missing 1 required positional argument: 'feat'",
     "output_type": "error",
     "traceback": [
      "\u001b[0;31m---------------------------------------------------------------------------\u001b[0m",
      "\u001b[0;31mTypeError\u001b[0m                                 Traceback (most recent call last)",
      "\u001b[0;31mTypeError\u001b[0m: update_html() missing 1 required positional argument: 'feat'"
     ]
    },
    {
     "ename": "TypeError",
     "evalue": "update_html() missing 1 required positional argument: 'feat'",
     "output_type": "error",
     "traceback": [
      "\u001b[0;31m---------------------------------------------------------------------------\u001b[0m",
      "\u001b[0;31mTypeError\u001b[0m                                 Traceback (most recent call last)",
      "\u001b[0;31mTypeError\u001b[0m: update_html() missing 1 required positional argument: 'feat'"
     ]
    },
    {
     "ename": "TypeError",
     "evalue": "update_html() missing 1 required positional argument: 'feat'",
     "output_type": "error",
     "traceback": [
      "\u001b[0;31m---------------------------------------------------------------------------\u001b[0m",
      "\u001b[0;31mTypeError\u001b[0m                                 Traceback (most recent call last)",
      "\u001b[0;31mTypeError\u001b[0m: update_html() missing 1 required positional argument: 'feat'"
     ]
    },
    {
     "ename": "TypeError",
     "evalue": "update_html() missing 1 required positional argument: 'feat'",
     "output_type": "error",
     "traceback": [
      "\u001b[0;31m---------------------------------------------------------------------------\u001b[0m",
      "\u001b[0;31mTypeError\u001b[0m                                 Traceback (most recent call last)",
      "\u001b[0;31mTypeError\u001b[0m: update_html() missing 1 required positional argument: 'feat'"
     ]
    },
    {
     "ename": "TypeError",
     "evalue": "update_html() missing 1 required positional argument: 'feat'",
     "output_type": "error",
     "traceback": [
      "\u001b[0;31m---------------------------------------------------------------------------\u001b[0m",
      "\u001b[0;31mTypeError\u001b[0m                                 Traceback (most recent call last)",
      "\u001b[0;31mTypeError\u001b[0m: update_html() missing 1 required positional argument: 'feat'"
     ]
    },
    {
     "ename": "TypeError",
     "evalue": "update_html() missing 1 required positional argument: 'feat'",
     "output_type": "error",
     "traceback": [
      "\u001b[0;31m---------------------------------------------------------------------------\u001b[0m",
      "\u001b[0;31mTypeError\u001b[0m                                 Traceback (most recent call last)",
      "\u001b[0;31mTypeError\u001b[0m: update_html() missing 1 required positional argument: 'feat'"
     ]
    },
    {
     "ename": "TypeError",
     "evalue": "update_html() missing 1 required positional argument: 'feat'",
     "output_type": "error",
     "traceback": [
      "\u001b[0;31m---------------------------------------------------------------------------\u001b[0m",
      "\u001b[0;31mTypeError\u001b[0m                                 Traceback (most recent call last)",
      "\u001b[0;31mTypeError\u001b[0m: update_html() missing 1 required positional argument: 'feat'"
     ]
    },
    {
     "ename": "TypeError",
     "evalue": "update_html() missing 1 required positional argument: 'feat'",
     "output_type": "error",
     "traceback": [
      "\u001b[0;31m---------------------------------------------------------------------------\u001b[0m",
      "\u001b[0;31mTypeError\u001b[0m                                 Traceback (most recent call last)",
      "\u001b[0;31mTypeError\u001b[0m: update_html() missing 1 required positional argument: 'feat'"
     ]
    },
    {
     "ename": "TypeError",
     "evalue": "update_html() missing 1 required positional argument: 'feat'",
     "output_type": "error",
     "traceback": [
      "\u001b[0;31m---------------------------------------------------------------------------\u001b[0m",
      "\u001b[0;31mTypeError\u001b[0m                                 Traceback (most recent call last)",
      "\u001b[0;31mTypeError\u001b[0m: update_html() missing 1 required positional argument: 'feat'"
     ]
    },
    {
     "ename": "TypeError",
     "evalue": "update_html() missing 1 required positional argument: 'feat'",
     "output_type": "error",
     "traceback": [
      "\u001b[0;31m---------------------------------------------------------------------------\u001b[0m",
      "\u001b[0;31mTypeError\u001b[0m                                 Traceback (most recent call last)",
      "\u001b[0;31mTypeError\u001b[0m: update_html() missing 1 required positional argument: 'feat'"
     ]
    },
    {
     "ename": "TypeError",
     "evalue": "update_html() missing 1 required positional argument: 'feat'",
     "output_type": "error",
     "traceback": [
      "\u001b[0;31m---------------------------------------------------------------------------\u001b[0m",
      "\u001b[0;31mTypeError\u001b[0m                                 Traceback (most recent call last)",
      "\u001b[0;31mTypeError\u001b[0m: update_html() missing 1 required positional argument: 'feat'"
     ]
    },
    {
     "ename": "TypeError",
     "evalue": "update_html() missing 1 required positional argument: 'feat'",
     "output_type": "error",
     "traceback": [
      "\u001b[0;31m---------------------------------------------------------------------------\u001b[0m",
      "\u001b[0;31mTypeError\u001b[0m                                 Traceback (most recent call last)",
      "\u001b[0;31mTypeError\u001b[0m: update_html() missing 1 required positional argument: 'feat'"
     ]
    },
    {
     "ename": "TypeError",
     "evalue": "update_html() missing 1 required positional argument: 'feat'",
     "output_type": "error",
     "traceback": [
      "\u001b[0;31m---------------------------------------------------------------------------\u001b[0m",
      "\u001b[0;31mTypeError\u001b[0m                                 Traceback (most recent call last)",
      "\u001b[0;31mTypeError\u001b[0m: update_html() missing 1 required positional argument: 'feat'"
     ]
    },
    {
     "ename": "TypeError",
     "evalue": "update_html() missing 1 required positional argument: 'feat'",
     "output_type": "error",
     "traceback": [
      "\u001b[0;31m---------------------------------------------------------------------------\u001b[0m",
      "\u001b[0;31mTypeError\u001b[0m                                 Traceback (most recent call last)",
      "\u001b[0;31mTypeError\u001b[0m: update_html() missing 1 required positional argument: 'feat'"
     ]
    },
    {
     "ename": "TypeError",
     "evalue": "update_html() missing 1 required positional argument: 'feat'",
     "output_type": "error",
     "traceback": [
      "\u001b[0;31m---------------------------------------------------------------------------\u001b[0m",
      "\u001b[0;31mTypeError\u001b[0m                                 Traceback (most recent call last)",
      "\u001b[0;31mTypeError\u001b[0m: update_html() missing 1 required positional argument: 'feat'"
     ]
    },
    {
     "ename": "TypeError",
     "evalue": "update_html() missing 1 required positional argument: 'feat'",
     "output_type": "error",
     "traceback": [
      "\u001b[0;31m---------------------------------------------------------------------------\u001b[0m",
      "\u001b[0;31mTypeError\u001b[0m                                 Traceback (most recent call last)",
      "\u001b[0;31mTypeError\u001b[0m: update_html() missing 1 required positional argument: 'feat'"
     ]
    },
    {
     "ename": "TypeError",
     "evalue": "update_html() missing 1 required positional argument: 'feat'",
     "output_type": "error",
     "traceback": [
      "\u001b[0;31m---------------------------------------------------------------------------\u001b[0m",
      "\u001b[0;31mTypeError\u001b[0m                                 Traceback (most recent call last)",
      "\u001b[0;31mTypeError\u001b[0m: update_html() missing 1 required positional argument: 'feat'"
     ]
    },
    {
     "ename": "TypeError",
     "evalue": "update_html() missing 1 required positional argument: 'feat'",
     "output_type": "error",
     "traceback": [
      "\u001b[0;31m---------------------------------------------------------------------------\u001b[0m",
      "\u001b[0;31mTypeError\u001b[0m                                 Traceback (most recent call last)",
      "\u001b[0;31mTypeError\u001b[0m: update_html() missing 1 required positional argument: 'feat'"
     ]
    },
    {
     "ename": "TypeError",
     "evalue": "update_html() missing 1 required positional argument: 'feat'",
     "output_type": "error",
     "traceback": [
      "\u001b[0;31m---------------------------------------------------------------------------\u001b[0m",
      "\u001b[0;31mTypeError\u001b[0m                                 Traceback (most recent call last)",
      "\u001b[0;31mTypeError\u001b[0m: update_html() missing 1 required positional argument: 'feat'"
     ]
    },
    {
     "ename": "TypeError",
     "evalue": "update_html() missing 1 required positional argument: 'feat'",
     "output_type": "error",
     "traceback": [
      "\u001b[0;31m---------------------------------------------------------------------------\u001b[0m",
      "\u001b[0;31mTypeError\u001b[0m                                 Traceback (most recent call last)",
      "\u001b[0;31mTypeError\u001b[0m: update_html() missing 1 required positional argument: 'feat'"
     ]
    },
    {
     "ename": "TypeError",
     "evalue": "update_html() missing 1 required positional argument: 'feat'",
     "output_type": "error",
     "traceback": [
      "\u001b[0;31m---------------------------------------------------------------------------\u001b[0m",
      "\u001b[0;31mTypeError\u001b[0m                                 Traceback (most recent call last)",
      "\u001b[0;31mTypeError\u001b[0m: update_html() missing 1 required positional argument: 'feat'"
     ]
    },
    {
     "ename": "TypeError",
     "evalue": "update_html() missing 1 required positional argument: 'feat'",
     "output_type": "error",
     "traceback": [
      "\u001b[0;31m---------------------------------------------------------------------------\u001b[0m",
      "\u001b[0;31mTypeError\u001b[0m                                 Traceback (most recent call last)",
      "\u001b[0;31mTypeError\u001b[0m: update_html() missing 1 required positional argument: 'feat'"
     ]
    },
    {
     "ename": "TypeError",
     "evalue": "update_html() missing 1 required positional argument: 'feat'",
     "output_type": "error",
     "traceback": [
      "\u001b[0;31m---------------------------------------------------------------------------\u001b[0m",
      "\u001b[0;31mTypeError\u001b[0m                                 Traceback (most recent call last)",
      "\u001b[0;31mTypeError\u001b[0m: update_html() missing 1 required positional argument: 'feat'"
     ]
    },
    {
     "ename": "TypeError",
     "evalue": "update_html() missing 1 required positional argument: 'feat'",
     "output_type": "error",
     "traceback": [
      "\u001b[0;31m---------------------------------------------------------------------------\u001b[0m",
      "\u001b[0;31mTypeError\u001b[0m                                 Traceback (most recent call last)",
      "\u001b[0;31mTypeError\u001b[0m: update_html() missing 1 required positional argument: 'feat'"
     ]
    },
    {
     "ename": "TypeError",
     "evalue": "update_html() missing 1 required positional argument: 'feat'",
     "output_type": "error",
     "traceback": [
      "\u001b[0;31m---------------------------------------------------------------------------\u001b[0m",
      "\u001b[0;31mTypeError\u001b[0m                                 Traceback (most recent call last)",
      "\u001b[0;31mTypeError\u001b[0m: update_html() missing 1 required positional argument: 'feat'"
     ]
    },
    {
     "ename": "TypeError",
     "evalue": "update_html() missing 1 required positional argument: 'feat'",
     "output_type": "error",
     "traceback": [
      "\u001b[0;31m---------------------------------------------------------------------------\u001b[0m",
      "\u001b[0;31mTypeError\u001b[0m                                 Traceback (most recent call last)",
      "\u001b[0;31mTypeError\u001b[0m: update_html() missing 1 required positional argument: 'feat'"
     ]
    },
    {
     "ename": "TypeError",
     "evalue": "update_html() missing 1 required positional argument: 'feat'",
     "output_type": "error",
     "traceback": [
      "\u001b[0;31m---------------------------------------------------------------------------\u001b[0m",
      "\u001b[0;31mTypeError\u001b[0m                                 Traceback (most recent call last)",
      "\u001b[0;31mTypeError\u001b[0m: update_html() missing 1 required positional argument: 'feat'"
     ]
    },
    {
     "ename": "TypeError",
     "evalue": "update_html() missing 1 required positional argument: 'feat'",
     "output_type": "error",
     "traceback": [
      "\u001b[0;31m---------------------------------------------------------------------------\u001b[0m",
      "\u001b[0;31mTypeError\u001b[0m                                 Traceback (most recent call last)",
      "\u001b[0;31mTypeError\u001b[0m: update_html() missing 1 required positional argument: 'feat'"
     ]
    },
    {
     "ename": "TypeError",
     "evalue": "update_html() missing 1 required positional argument: 'feat'",
     "output_type": "error",
     "traceback": [
      "\u001b[0;31m---------------------------------------------------------------------------\u001b[0m",
      "\u001b[0;31mTypeError\u001b[0m                                 Traceback (most recent call last)",
      "\u001b[0;31mTypeError\u001b[0m: update_html() missing 1 required positional argument: 'feat'"
     ]
    },
    {
     "ename": "TypeError",
     "evalue": "update_html() missing 1 required positional argument: 'feat'",
     "output_type": "error",
     "traceback": [
      "\u001b[0;31m---------------------------------------------------------------------------\u001b[0m",
      "\u001b[0;31mTypeError\u001b[0m                                 Traceback (most recent call last)",
      "\u001b[0;31mTypeError\u001b[0m: update_html() missing 1 required positional argument: 'feat'"
     ]
    },
    {
     "ename": "TypeError",
     "evalue": "update_html() missing 1 required positional argument: 'feat'",
     "output_type": "error",
     "traceback": [
      "\u001b[0;31m---------------------------------------------------------------------------\u001b[0m",
      "\u001b[0;31mTypeError\u001b[0m                                 Traceback (most recent call last)",
      "\u001b[0;31mTypeError\u001b[0m: update_html() missing 1 required positional argument: 'feat'"
     ]
    },
    {
     "ename": "TypeError",
     "evalue": "update_html() missing 1 required positional argument: 'feat'",
     "output_type": "error",
     "traceback": [
      "\u001b[0;31m---------------------------------------------------------------------------\u001b[0m",
      "\u001b[0;31mTypeError\u001b[0m                                 Traceback (most recent call last)",
      "\u001b[0;31mTypeError\u001b[0m: update_html() missing 1 required positional argument: 'feat'"
     ]
    },
    {
     "ename": "TypeError",
     "evalue": "update_html() missing 1 required positional argument: 'feat'",
     "output_type": "error",
     "traceback": [
      "\u001b[0;31m---------------------------------------------------------------------------\u001b[0m",
      "\u001b[0;31mTypeError\u001b[0m                                 Traceback (most recent call last)",
      "\u001b[0;31mTypeError\u001b[0m: update_html() missing 1 required positional argument: 'feat'"
     ]
    },
    {
     "ename": "TypeError",
     "evalue": "update_html() missing 1 required positional argument: 'feat'",
     "output_type": "error",
     "traceback": [
      "\u001b[0;31m---------------------------------------------------------------------------\u001b[0m",
      "\u001b[0;31mTypeError\u001b[0m                                 Traceback (most recent call last)",
      "\u001b[0;31mTypeError\u001b[0m: update_html() missing 1 required positional argument: 'feat'"
     ]
    },
    {
     "ename": "TypeError",
     "evalue": "update_html() missing 1 required positional argument: 'feat'",
     "output_type": "error",
     "traceback": [
      "\u001b[0;31m---------------------------------------------------------------------------\u001b[0m",
      "\u001b[0;31mTypeError\u001b[0m                                 Traceback (most recent call last)",
      "\u001b[0;31mTypeError\u001b[0m: update_html() missing 1 required positional argument: 'feat'"
     ]
    },
    {
     "ename": "TypeError",
     "evalue": "update_html() missing 1 required positional argument: 'feat'",
     "output_type": "error",
     "traceback": [
      "\u001b[0;31m---------------------------------------------------------------------------\u001b[0m",
      "\u001b[0;31mTypeError\u001b[0m                                 Traceback (most recent call last)",
      "\u001b[0;31mTypeError\u001b[0m: update_html() missing 1 required positional argument: 'feat'"
     ]
    },
    {
     "ename": "TypeError",
     "evalue": "update_html() missing 1 required positional argument: 'feat'",
     "output_type": "error",
     "traceback": [
      "\u001b[0;31m---------------------------------------------------------------------------\u001b[0m",
      "\u001b[0;31mTypeError\u001b[0m                                 Traceback (most recent call last)",
      "\u001b[0;31mTypeError\u001b[0m: update_html() missing 1 required positional argument: 'feat'"
     ]
    },
    {
     "ename": "TypeError",
     "evalue": "update_html() missing 1 required positional argument: 'feat'",
     "output_type": "error",
     "traceback": [
      "\u001b[0;31m---------------------------------------------------------------------------\u001b[0m",
      "\u001b[0;31mTypeError\u001b[0m                                 Traceback (most recent call last)",
      "\u001b[0;31mTypeError\u001b[0m: update_html() missing 1 required positional argument: 'feat'"
     ]
    },
    {
     "ename": "TypeError",
     "evalue": "update_html() missing 1 required positional argument: 'feat'",
     "output_type": "error",
     "traceback": [
      "\u001b[0;31m---------------------------------------------------------------------------\u001b[0m",
      "\u001b[0;31mTypeError\u001b[0m                                 Traceback (most recent call last)",
      "\u001b[0;31mTypeError\u001b[0m: update_html() missing 1 required positional argument: 'feat'"
     ]
    },
    {
     "ename": "TypeError",
     "evalue": "update_html() missing 1 required positional argument: 'feat'",
     "output_type": "error",
     "traceback": [
      "\u001b[0;31m---------------------------------------------------------------------------\u001b[0m",
      "\u001b[0;31mTypeError\u001b[0m                                 Traceback (most recent call last)",
      "\u001b[0;31mTypeError\u001b[0m: update_html() missing 1 required positional argument: 'feat'"
     ]
    },
    {
     "ename": "TypeError",
     "evalue": "update_html() missing 1 required positional argument: 'feat'",
     "output_type": "error",
     "traceback": [
      "\u001b[0;31m---------------------------------------------------------------------------\u001b[0m",
      "\u001b[0;31mTypeError\u001b[0m                                 Traceback (most recent call last)",
      "\u001b[0;31mTypeError\u001b[0m: update_html() missing 1 required positional argument: 'feat'"
     ]
    },
    {
     "ename": "TypeError",
     "evalue": "update_html() missing 1 required positional argument: 'feat'",
     "output_type": "error",
     "traceback": [
      "\u001b[0;31m---------------------------------------------------------------------------\u001b[0m",
      "\u001b[0;31mTypeError\u001b[0m                                 Traceback (most recent call last)",
      "\u001b[0;31mTypeError\u001b[0m: update_html() missing 1 required positional argument: 'feat'"
     ]
    },
    {
     "ename": "TypeError",
     "evalue": "update_html() missing 1 required positional argument: 'feat'",
     "output_type": "error",
     "traceback": [
      "\u001b[0;31m---------------------------------------------------------------------------\u001b[0m",
      "\u001b[0;31mTypeError\u001b[0m                                 Traceback (most recent call last)",
      "\u001b[0;31mTypeError\u001b[0m: update_html() missing 1 required positional argument: 'feat'"
     ]
    },
    {
     "ename": "TypeError",
     "evalue": "update_html() missing 1 required positional argument: 'feat'",
     "output_type": "error",
     "traceback": [
      "\u001b[0;31m---------------------------------------------------------------------------\u001b[0m",
      "\u001b[0;31mTypeError\u001b[0m                                 Traceback (most recent call last)",
      "\u001b[0;31mTypeError\u001b[0m: update_html() missing 1 required positional argument: 'feat'"
     ]
    },
    {
     "ename": "TypeError",
     "evalue": "update_html() missing 1 required positional argument: 'feat'",
     "output_type": "error",
     "traceback": [
      "\u001b[0;31m---------------------------------------------------------------------------\u001b[0m",
      "\u001b[0;31mTypeError\u001b[0m                                 Traceback (most recent call last)",
      "\u001b[0;31mTypeError\u001b[0m: update_html() missing 1 required positional argument: 'feat'"
     ]
    },
    {
     "ename": "TypeError",
     "evalue": "update_html() missing 1 required positional argument: 'feat'",
     "output_type": "error",
     "traceback": [
      "\u001b[0;31m---------------------------------------------------------------------------\u001b[0m",
      "\u001b[0;31mTypeError\u001b[0m                                 Traceback (most recent call last)",
      "\u001b[0;31mTypeError\u001b[0m: update_html() missing 1 required positional argument: 'feat'"
     ]
    },
    {
     "ename": "TypeError",
     "evalue": "update_html() missing 1 required positional argument: 'feat'",
     "output_type": "error",
     "traceback": [
      "\u001b[0;31m---------------------------------------------------------------------------\u001b[0m",
      "\u001b[0;31mTypeError\u001b[0m                                 Traceback (most recent call last)",
      "\u001b[0;31mTypeError\u001b[0m: update_html() missing 1 required positional argument: 'feat'"
     ]
    },
    {
     "ename": "TypeError",
     "evalue": "update_html() missing 1 required positional argument: 'feat'",
     "output_type": "error",
     "traceback": [
      "\u001b[0;31m---------------------------------------------------------------------------\u001b[0m",
      "\u001b[0;31mTypeError\u001b[0m                                 Traceback (most recent call last)",
      "\u001b[0;31mTypeError\u001b[0m: update_html() missing 1 required positional argument: 'feat'"
     ]
    },
    {
     "ename": "TypeError",
     "evalue": "update_html() missing 1 required positional argument: 'feat'",
     "output_type": "error",
     "traceback": [
      "\u001b[0;31m---------------------------------------------------------------------------\u001b[0m",
      "\u001b[0;31mTypeError\u001b[0m                                 Traceback (most recent call last)",
      "\u001b[0;31mTypeError\u001b[0m: update_html() missing 1 required positional argument: 'feat'"
     ]
    },
    {
     "ename": "TypeError",
     "evalue": "update_html() missing 1 required positional argument: 'feat'",
     "output_type": "error",
     "traceback": [
      "\u001b[0;31m---------------------------------------------------------------------------\u001b[0m",
      "\u001b[0;31mTypeError\u001b[0m                                 Traceback (most recent call last)",
      "\u001b[0;31mTypeError\u001b[0m: update_html() missing 1 required positional argument: 'feat'"
     ]
    },
    {
     "ename": "TypeError",
     "evalue": "update_html() missing 1 required positional argument: 'feat'",
     "output_type": "error",
     "traceback": [
      "\u001b[0;31m---------------------------------------------------------------------------\u001b[0m",
      "\u001b[0;31mTypeError\u001b[0m                                 Traceback (most recent call last)",
      "\u001b[0;31mTypeError\u001b[0m: update_html() missing 1 required positional argument: 'feat'"
     ]
    },
    {
     "ename": "TypeError",
     "evalue": "update_html() missing 1 required positional argument: 'feat'",
     "output_type": "error",
     "traceback": [
      "\u001b[0;31m---------------------------------------------------------------------------\u001b[0m",
      "\u001b[0;31mTypeError\u001b[0m                                 Traceback (most recent call last)",
      "\u001b[0;31mTypeError\u001b[0m: update_html() missing 1 required positional argument: 'feat'"
     ]
    },
    {
     "ename": "TypeError",
     "evalue": "update_html() missing 1 required positional argument: 'feat'",
     "output_type": "error",
     "traceback": [
      "\u001b[0;31m---------------------------------------------------------------------------\u001b[0m",
      "\u001b[0;31mTypeError\u001b[0m                                 Traceback (most recent call last)",
      "\u001b[0;31mTypeError\u001b[0m: update_html() missing 1 required positional argument: 'feat'"
     ]
    },
    {
     "ename": "TypeError",
     "evalue": "update_html() missing 1 required positional argument: 'feat'",
     "output_type": "error",
     "traceback": [
      "\u001b[0;31m---------------------------------------------------------------------------\u001b[0m",
      "\u001b[0;31mTypeError\u001b[0m                                 Traceback (most recent call last)",
      "\u001b[0;31mTypeError\u001b[0m: update_html() missing 1 required positional argument: 'feat'"
     ]
    },
    {
     "ename": "TypeError",
     "evalue": "update_html() missing 1 required positional argument: 'feat'",
     "output_type": "error",
     "traceback": [
      "\u001b[0;31m---------------------------------------------------------------------------\u001b[0m",
      "\u001b[0;31mTypeError\u001b[0m                                 Traceback (most recent call last)",
      "\u001b[0;31mTypeError\u001b[0m: update_html() missing 1 required positional argument: 'feat'"
     ]
    },
    {
     "ename": "TypeError",
     "evalue": "update_html() missing 1 required positional argument: 'feat'",
     "output_type": "error",
     "traceback": [
      "\u001b[0;31m---------------------------------------------------------------------------\u001b[0m",
      "\u001b[0;31mTypeError\u001b[0m                                 Traceback (most recent call last)",
      "\u001b[0;31mTypeError\u001b[0m: update_html() missing 1 required positional argument: 'feat'"
     ]
    },
    {
     "ename": "TypeError",
     "evalue": "update_html() missing 1 required positional argument: 'feat'",
     "output_type": "error",
     "traceback": [
      "\u001b[0;31m---------------------------------------------------------------------------\u001b[0m",
      "\u001b[0;31mTypeError\u001b[0m                                 Traceback (most recent call last)",
      "\u001b[0;31mTypeError\u001b[0m: update_html() missing 1 required positional argument: 'feat'"
     ]
    },
    {
     "ename": "TypeError",
     "evalue": "update_html() missing 1 required positional argument: 'feat'",
     "output_type": "error",
     "traceback": [
      "\u001b[0;31m---------------------------------------------------------------------------\u001b[0m",
      "\u001b[0;31mTypeError\u001b[0m                                 Traceback (most recent call last)",
      "\u001b[0;31mTypeError\u001b[0m: update_html() missing 1 required positional argument: 'feat'"
     ]
    },
    {
     "ename": "TypeError",
     "evalue": "update_html() missing 1 required positional argument: 'feat'",
     "output_type": "error",
     "traceback": [
      "\u001b[0;31m---------------------------------------------------------------------------\u001b[0m",
      "\u001b[0;31mTypeError\u001b[0m                                 Traceback (most recent call last)",
      "\u001b[0;31mTypeError\u001b[0m: update_html() missing 1 required positional argument: 'feat'"
     ]
    },
    {
     "ename": "TypeError",
     "evalue": "update_html() missing 1 required positional argument: 'feat'",
     "output_type": "error",
     "traceback": [
      "\u001b[0;31m---------------------------------------------------------------------------\u001b[0m",
      "\u001b[0;31mTypeError\u001b[0m                                 Traceback (most recent call last)",
      "\u001b[0;31mTypeError\u001b[0m: update_html() missing 1 required positional argument: 'feat'"
     ]
    },
    {
     "ename": "TypeError",
     "evalue": "update_html() missing 1 required positional argument: 'feat'",
     "output_type": "error",
     "traceback": [
      "\u001b[0;31m---------------------------------------------------------------------------\u001b[0m",
      "\u001b[0;31mTypeError\u001b[0m                                 Traceback (most recent call last)",
      "\u001b[0;31mTypeError\u001b[0m: update_html() missing 1 required positional argument: 'feat'"
     ]
    },
    {
     "ename": "TypeError",
     "evalue": "update_html() missing 1 required positional argument: 'feat'",
     "output_type": "error",
     "traceback": [
      "\u001b[0;31m---------------------------------------------------------------------------\u001b[0m",
      "\u001b[0;31mTypeError\u001b[0m                                 Traceback (most recent call last)",
      "\u001b[0;31mTypeError\u001b[0m: update_html() missing 1 required positional argument: 'feat'"
     ]
    },
    {
     "ename": "TypeError",
     "evalue": "update_html() missing 1 required positional argument: 'feat'",
     "output_type": "error",
     "traceback": [
      "\u001b[0;31m---------------------------------------------------------------------------\u001b[0m",
      "\u001b[0;31mTypeError\u001b[0m                                 Traceback (most recent call last)",
      "\u001b[0;31mTypeError\u001b[0m: update_html() missing 1 required positional argument: 'feat'"
     ]
    },
    {
     "ename": "TypeError",
     "evalue": "update_html() missing 1 required positional argument: 'feat'",
     "output_type": "error",
     "traceback": [
      "\u001b[0;31m---------------------------------------------------------------------------\u001b[0m",
      "\u001b[0;31mTypeError\u001b[0m                                 Traceback (most recent call last)",
      "\u001b[0;31mTypeError\u001b[0m: update_html() missing 1 required positional argument: 'feat'"
     ]
    },
    {
     "ename": "TypeError",
     "evalue": "update_html() missing 1 required positional argument: 'feat'",
     "output_type": "error",
     "traceback": [
      "\u001b[0;31m---------------------------------------------------------------------------\u001b[0m",
      "\u001b[0;31mTypeError\u001b[0m                                 Traceback (most recent call last)",
      "\u001b[0;31mTypeError\u001b[0m: update_html() missing 1 required positional argument: 'feat'"
     ]
    },
    {
     "ename": "TypeError",
     "evalue": "update_html() missing 1 required positional argument: 'feat'",
     "output_type": "error",
     "traceback": [
      "\u001b[0;31m---------------------------------------------------------------------------\u001b[0m",
      "\u001b[0;31mTypeError\u001b[0m                                 Traceback (most recent call last)",
      "\u001b[0;31mTypeError\u001b[0m: update_html() missing 1 required positional argument: 'feat'"
     ]
    },
    {
     "ename": "TypeError",
     "evalue": "update_html() missing 1 required positional argument: 'feat'",
     "output_type": "error",
     "traceback": [
      "\u001b[0;31m---------------------------------------------------------------------------\u001b[0m",
      "\u001b[0;31mTypeError\u001b[0m                                 Traceback (most recent call last)",
      "\u001b[0;31mTypeError\u001b[0m: update_html() missing 1 required positional argument: 'feat'"
     ]
    },
    {
     "ename": "TypeError",
     "evalue": "update_html() missing 1 required positional argument: 'feat'",
     "output_type": "error",
     "traceback": [
      "\u001b[0;31m---------------------------------------------------------------------------\u001b[0m",
      "\u001b[0;31mTypeError\u001b[0m                                 Traceback (most recent call last)",
      "\u001b[0;31mTypeError\u001b[0m: update_html() missing 1 required positional argument: 'feat'"
     ]
    },
    {
     "ename": "TypeError",
     "evalue": "update_html() missing 1 required positional argument: 'feat'",
     "output_type": "error",
     "traceback": [
      "\u001b[0;31m---------------------------------------------------------------------------\u001b[0m",
      "\u001b[0;31mTypeError\u001b[0m                                 Traceback (most recent call last)",
      "\u001b[0;31mTypeError\u001b[0m: update_html() missing 1 required positional argument: 'feat'"
     ]
    },
    {
     "ename": "TypeError",
     "evalue": "update_html() missing 1 required positional argument: 'feat'",
     "output_type": "error",
     "traceback": [
      "\u001b[0;31m---------------------------------------------------------------------------\u001b[0m",
      "\u001b[0;31mTypeError\u001b[0m                                 Traceback (most recent call last)",
      "\u001b[0;31mTypeError\u001b[0m: update_html() missing 1 required positional argument: 'feat'"
     ]
    },
    {
     "ename": "TypeError",
     "evalue": "update_html() missing 1 required positional argument: 'feat'",
     "output_type": "error",
     "traceback": [
      "\u001b[0;31m---------------------------------------------------------------------------\u001b[0m",
      "\u001b[0;31mTypeError\u001b[0m                                 Traceback (most recent call last)",
      "\u001b[0;31mTypeError\u001b[0m: update_html() missing 1 required positional argument: 'feat'"
     ]
    },
    {
     "ename": "TypeError",
     "evalue": "update_html() missing 1 required positional argument: 'feat'",
     "output_type": "error",
     "traceback": [
      "\u001b[0;31m---------------------------------------------------------------------------\u001b[0m",
      "\u001b[0;31mTypeError\u001b[0m                                 Traceback (most recent call last)",
      "\u001b[0;31mTypeError\u001b[0m: update_html() missing 1 required positional argument: 'feat'"
     ]
    },
    {
     "ename": "TypeError",
     "evalue": "update_html() missing 1 required positional argument: 'feat'",
     "output_type": "error",
     "traceback": [
      "\u001b[0;31m---------------------------------------------------------------------------\u001b[0m",
      "\u001b[0;31mTypeError\u001b[0m                                 Traceback (most recent call last)",
      "\u001b[0;31mTypeError\u001b[0m: update_html() missing 1 required positional argument: 'feat'"
     ]
    },
    {
     "ename": "TypeError",
     "evalue": "update_html() missing 1 required positional argument: 'feat'",
     "output_type": "error",
     "traceback": [
      "\u001b[0;31m---------------------------------------------------------------------------\u001b[0m",
      "\u001b[0;31mTypeError\u001b[0m                                 Traceback (most recent call last)",
      "\u001b[0;31mTypeError\u001b[0m: update_html() missing 1 required positional argument: 'feat'"
     ]
    },
    {
     "ename": "TypeError",
     "evalue": "update_html() missing 1 required positional argument: 'feat'",
     "output_type": "error",
     "traceback": [
      "\u001b[0;31m---------------------------------------------------------------------------\u001b[0m",
      "\u001b[0;31mTypeError\u001b[0m                                 Traceback (most recent call last)",
      "\u001b[0;31mTypeError\u001b[0m: update_html() missing 1 required positional argument: 'feat'"
     ]
    },
    {
     "ename": "TypeError",
     "evalue": "update_html() missing 1 required positional argument: 'feat'",
     "output_type": "error",
     "traceback": [
      "\u001b[0;31m---------------------------------------------------------------------------\u001b[0m",
      "\u001b[0;31mTypeError\u001b[0m                                 Traceback (most recent call last)",
      "\u001b[0;31mTypeError\u001b[0m: update_html() missing 1 required positional argument: 'feat'"
     ]
    },
    {
     "ename": "TypeError",
     "evalue": "update_html() missing 1 required positional argument: 'feat'",
     "output_type": "error",
     "traceback": [
      "\u001b[0;31m---------------------------------------------------------------------------\u001b[0m",
      "\u001b[0;31mTypeError\u001b[0m                                 Traceback (most recent call last)",
      "\u001b[0;31mTypeError\u001b[0m: update_html() missing 1 required positional argument: 'feat'"
     ]
    },
    {
     "ename": "TypeError",
     "evalue": "update_html() missing 1 required positional argument: 'feat'",
     "output_type": "error",
     "traceback": [
      "\u001b[0;31m---------------------------------------------------------------------------\u001b[0m",
      "\u001b[0;31mTypeError\u001b[0m                                 Traceback (most recent call last)",
      "\u001b[0;31mTypeError\u001b[0m: update_html() missing 1 required positional argument: 'feat'"
     ]
    },
    {
     "ename": "TypeError",
     "evalue": "update_html() missing 1 required positional argument: 'feat'",
     "output_type": "error",
     "traceback": [
      "\u001b[0;31m---------------------------------------------------------------------------\u001b[0m",
      "\u001b[0;31mTypeError\u001b[0m                                 Traceback (most recent call last)",
      "\u001b[0;31mTypeError\u001b[0m: update_html() missing 1 required positional argument: 'feat'"
     ]
    },
    {
     "ename": "TypeError",
     "evalue": "update_html() missing 1 required positional argument: 'feat'",
     "output_type": "error",
     "traceback": [
      "\u001b[0;31m---------------------------------------------------------------------------\u001b[0m",
      "\u001b[0;31mTypeError\u001b[0m                                 Traceback (most recent call last)",
      "\u001b[0;31mTypeError\u001b[0m: update_html() missing 1 required positional argument: 'feat'"
     ]
    },
    {
     "ename": "TypeError",
     "evalue": "update_html() missing 1 required positional argument: 'feat'",
     "output_type": "error",
     "traceback": [
      "\u001b[0;31m---------------------------------------------------------------------------\u001b[0m",
      "\u001b[0;31mTypeError\u001b[0m                                 Traceback (most recent call last)",
      "\u001b[0;31mTypeError\u001b[0m: update_html() missing 1 required positional argument: 'feat'"
     ]
    },
    {
     "ename": "TypeError",
     "evalue": "update_html() missing 1 required positional argument: 'feat'",
     "output_type": "error",
     "traceback": [
      "\u001b[0;31m---------------------------------------------------------------------------\u001b[0m",
      "\u001b[0;31mTypeError\u001b[0m                                 Traceback (most recent call last)",
      "\u001b[0;31mTypeError\u001b[0m: update_html() missing 1 required positional argument: 'feat'"
     ]
    },
    {
     "ename": "TypeError",
     "evalue": "update_html() missing 1 required positional argument: 'feat'",
     "output_type": "error",
     "traceback": [
      "\u001b[0;31m---------------------------------------------------------------------------\u001b[0m",
      "\u001b[0;31mTypeError\u001b[0m                                 Traceback (most recent call last)",
      "\u001b[0;31mTypeError\u001b[0m: update_html() missing 1 required positional argument: 'feat'"
     ]
    },
    {
     "ename": "TypeError",
     "evalue": "update_html() missing 1 required positional argument: 'feat'",
     "output_type": "error",
     "traceback": [
      "\u001b[0;31m---------------------------------------------------------------------------\u001b[0m",
      "\u001b[0;31mTypeError\u001b[0m                                 Traceback (most recent call last)",
      "\u001b[0;31mTypeError\u001b[0m: update_html() missing 1 required positional argument: 'feat'"
     ]
    },
    {
     "ename": "TypeError",
     "evalue": "update_html() missing 1 required positional argument: 'feat'",
     "output_type": "error",
     "traceback": [
      "\u001b[0;31m---------------------------------------------------------------------------\u001b[0m",
      "\u001b[0;31mTypeError\u001b[0m                                 Traceback (most recent call last)",
      "\u001b[0;31mTypeError\u001b[0m: update_html() missing 1 required positional argument: 'feat'"
     ]
    },
    {
     "ename": "TypeError",
     "evalue": "update_html() missing 1 required positional argument: 'feat'",
     "output_type": "error",
     "traceback": [
      "\u001b[0;31m---------------------------------------------------------------------------\u001b[0m",
      "\u001b[0;31mTypeError\u001b[0m                                 Traceback (most recent call last)",
      "\u001b[0;31mTypeError\u001b[0m: update_html() missing 1 required positional argument: 'feat'"
     ]
    },
    {
     "ename": "TypeError",
     "evalue": "update_html() missing 1 required positional argument: 'feat'",
     "output_type": "error",
     "traceback": [
      "\u001b[0;31m---------------------------------------------------------------------------\u001b[0m",
      "\u001b[0;31mTypeError\u001b[0m                                 Traceback (most recent call last)",
      "\u001b[0;31mTypeError\u001b[0m: update_html() missing 1 required positional argument: 'feat'"
     ]
    },
    {
     "ename": "TypeError",
     "evalue": "update_html() missing 1 required positional argument: 'feat'",
     "output_type": "error",
     "traceback": [
      "\u001b[0;31m---------------------------------------------------------------------------\u001b[0m",
      "\u001b[0;31mTypeError\u001b[0m                                 Traceback (most recent call last)",
      "\u001b[0;31mTypeError\u001b[0m: update_html() missing 1 required positional argument: 'feat'"
     ]
    }
   ],
   "source": [
    "geodata = GeoData(geo_dataframe = africa,\n",
    "                 style = {'color':'black',\n",
    "                          'fillColor':'pink',\n",
    "                          'opacity':0.03, \n",
    "                          'weight':1.9,\n",
    "                          'dashArray':'2',\n",
    "                          'fillOpacity': 0.3},\n",
    "                 hover_style = {'fillColor':'grey', 'fillOpacity':0.2},\n",
    "                 name='Countries')\n",
    "\n",
    "africa_map.add_layer(geodata)\n",
    "africa_map"
   ]
  },
  {
   "cell_type": "markdown",
   "id": "7225474e",
   "metadata": {},
   "source": [
    "#### Adding GDP and population: "
   ]
  },
  {
   "cell_type": "code",
   "execution_count": 14,
   "id": "cba96d8e",
   "metadata": {},
   "outputs": [],
   "source": [
    "html = HTML('''Hover Over Countries''')\n",
    "html.layout.margin = '0px 20px 20px 20px'\n",
    "control = WidgetControl(widget = html, position = 'topright')\n",
    "africa_map.add_control(control)\n",
    "\n",
    "def update_html(feature, **kwargs):\n",
    "    html.value = '''\n",
    "    <h3><b>{}</b></h3>\n",
    "    <h4>GDP: {: .2e} people</h4>\n",
    "    <h4>Population: {}</h4>\n",
    "    '''.format(feature['properties']['name'],\n",
    "               feature['properties']['gdp_md_est'], \n",
    "               feature['properties']['pop_est'])\n",
    "    \n",
    "geodata.on_hover(update_html)"
   ]
  },
  {
   "cell_type": "markdown",
   "id": "3f6d55db",
   "metadata": {},
   "source": [
    "### Choropleth Map"
   ]
  },
  {
   "cell_type": "markdown",
   "id": "a647922a",
   "metadata": {},
   "source": [
    "- requires data as .json file"
   ]
  },
  {
   "cell_type": "code",
   "execution_count": 18,
   "id": "c24ec85a",
   "metadata": {},
   "outputs": [],
   "source": [
    "africa.at[60, 'name'] = 'Ivory Coast'\n",
    "pop = dict(zip(africa['name'].to_list(), africa['pop_est'].to_list()))\n",
    "africa[['name', 'geometry']].to_file(f'{path}/outputs/africa.json',\n",
    "                                    driver='GeoJSON',\n",
    "                                    encoding='utf-8')"
   ]
  },
  {
   "cell_type": "code",
   "execution_count": 32,
   "id": "757f1b9e",
   "metadata": {},
   "outputs": [],
   "source": [
    "geojson_data = json.load(open('africa.json'))"
   ]
  },
  {
   "cell_type": "code",
   "execution_count": 33,
   "id": "f3d8ce9b",
   "metadata": {},
   "outputs": [],
   "source": [
    "for feature in geojson_data['features']:\n",
    "    properties = feature['properties']\n",
    "    feature.update(id=properties['name'])"
   ]
  },
  {
   "cell_type": "code",
   "execution_count": 37,
   "id": "4b0bf1e0",
   "metadata": {},
   "outputs": [],
   "source": [
    "choropleth = Choropleth(\n",
    "    geo_data = geojson_data,\n",
    "    choro_data = pop,\n",
    "    colormap = linear.YlOrRd_04, \n",
    "    style={'fillOpacity': 0.8, 'dashArray': '5, 5'}\n",
    ")"
   ]
  },
  {
   "cell_type": "code",
   "execution_count": 38,
   "id": "1c120df1",
   "metadata": {},
   "outputs": [
    {
     "data": {
      "application/vnd.jupyter.widget-view+json": {
       "model_id": "56821d297c574915a88075ca7d42fa55",
       "version_major": 2,
       "version_minor": 0
      },
      "text/plain": [
       "Map(center=[4.49998, 22.373178], controls=(ZoomControl(options=['position', 'zoom_in_text', 'zoom_in_title', '…"
      ]
     },
     "execution_count": 38,
     "metadata": {},
     "output_type": "execute_result"
    }
   ],
   "source": [
    "choro_map = Map(center = location, zoom= 3)\n",
    "choro_map.add_layer(choropleth)\n",
    "choro_map"
   ]
  },
  {
   "cell_type": "markdown",
   "id": "91989f5f",
   "metadata": {},
   "source": [
    "Data werent normalized but for making choropleth maps should be"
   ]
  },
  {
   "cell_type": "markdown",
   "id": "27e4d86a",
   "metadata": {},
   "source": [
    "### Clustered Maps"
   ]
  },
  {
   "cell_type": "code",
   "execution_count": 44,
   "id": "36b5c191",
   "metadata": {},
   "outputs": [
    {
     "data": {
      "application/vnd.jupyter.widget-view+json": {
       "model_id": "8b5d6cdb7e6d4b1b978802c72314291f",
       "version_major": 2,
       "version_minor": 0
      },
      "text/plain": [
       "Map(center=[4.49998, 22.373178], controls=(ZoomControl(options=['position', 'zoom_in_text', 'zoom_in_title', '…"
      ]
     },
     "execution_count": 44,
     "metadata": {},
     "output_type": "execute_result"
    }
   ],
   "source": [
    "pointMap = Map(basemap=basemaps.CartoDB.Positron, center = location, zoom=zoom)\n",
    "pointMap"
   ]
  },
  {
   "cell_type": "code",
   "execution_count": 46,
   "id": "64549bf6",
   "metadata": {},
   "outputs": [
    {
     "data": {
      "application/vnd.jupyter.widget-view+json": {
       "model_id": "8b5d6cdb7e6d4b1b978802c72314291f",
       "version_major": 2,
       "version_minor": 0
      },
      "text/plain": [
       "Map(bottom=959.0, center=[42.16340342422403, 69.25781250000001], controls=(ZoomControl(options=['position', 'z…"
      ]
     },
     "execution_count": 46,
     "metadata": {},
     "output_type": "execute_result"
    }
   ],
   "source": [
    "point_data = GeoData(geo_dataframe = asia_acled.sample(500), name = 'Countries')\n",
    "pointMap.add_layer(point_data)\n",
    "pointMap"
   ]
  },
  {
   "cell_type": "markdown",
   "id": "a25d5c0e",
   "metadata": {},
   "source": [
    "#### Controls"
   ]
  },
  {
   "cell_type": "code",
   "execution_count": 54,
   "id": "87b741cd",
   "metadata": {},
   "outputs": [
    {
     "data": {
      "application/vnd.jupyter.widget-view+json": {
       "model_id": "b8b7570646fe4806b511835bc49db691",
       "version_major": 2,
       "version_minor": 0
      },
      "text/plain": [
       "Map(center=[4.49998, 22.373178], controls=(ZoomControl(options=['position', 'zoom_in_text', 'zoom_in_title', '…"
      ]
     },
     "execution_count": 54,
     "metadata": {},
     "output_type": "execute_result"
    }
   ],
   "source": [
    "clusterMap = Map(center = location, zoom=3)\n",
    "clusterMap.add_layer(MarkerCluster(\n",
    "    markers=[Marker(location=geolocation.coords[0][::-1])\n",
    "            for geolocation in asia_acled.sample(1000).geometry])\n",
    "                    )\n",
    "\n",
    "clusterMap"
   ]
  },
  {
   "cell_type": "code",
   "execution_count": 55,
   "id": "ed62421d",
   "metadata": {},
   "outputs": [
    {
     "data": {
      "application/vnd.jupyter.widget-view+json": {
       "model_id": "b8b7570646fe4806b511835bc49db691",
       "version_major": 2,
       "version_minor": 0
      },
      "text/plain": [
       "Map(center=[4.49998, 22.373178], controls=(ZoomControl(options=['position', 'zoom_in_text', 'zoom_in_title', '…"
      ]
     },
     "execution_count": 55,
     "metadata": {},
     "output_type": "execute_result"
    }
   ],
   "source": [
    "search = SearchControl(position = 'topleft', \n",
    "                      url = 'https://nominatim.openstreetmap.org/search?format=json&q={s}',\n",
    "                       zoom=5,\n",
    "                       property_name='display_name',\n",
    "                       marker=marker)\n",
    "\n",
    "clusterMap.add_control(search)\n",
    "clusterMap"
   ]
  },
  {
   "cell_type": "code",
   "execution_count": null,
   "id": "b2d2f0ae",
   "metadata": {},
   "outputs": [],
   "source": []
  }
 ],
 "metadata": {
  "kernelspec": {
   "display_name": "spatial-ds-ws",
   "language": "python",
   "name": "spatial-ds-ws"
  },
  "language_info": {
   "codemirror_mode": {
    "name": "ipython",
    "version": 3
   },
   "file_extension": ".py",
   "mimetype": "text/x-python",
   "name": "python",
   "nbconvert_exporter": "python",
   "pygments_lexer": "ipython3",
   "version": "3.9.15"
  }
 },
 "nbformat": 4,
 "nbformat_minor": 5
}
