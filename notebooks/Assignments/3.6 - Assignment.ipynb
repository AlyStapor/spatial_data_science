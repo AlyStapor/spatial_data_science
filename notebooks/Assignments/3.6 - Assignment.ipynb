{
 "cells": [
  {
   "cell_type": "code",
   "execution_count": 5,
   "metadata": {},
   "outputs": [],
   "source": [
    "# Import these libraries: Geopandas, Pandas and Matplotlip.pyplot\n",
    "import geopandas as gpd \n",
    "import pandas as pd \n",
    "import matplotlib.pyplot as plt \n",
    "import os \n",
    "import pathlib"
   ]
  },
  {
   "cell_type": "code",
   "execution_count": 8,
   "metadata": {},
   "outputs": [],
   "source": [
    "os.chdir('..')\n",
    "path = pathlib.Path().resolve()"
   ]
  },
  {
   "cell_type": "markdown",
   "metadata": {},
   "source": [
    "<b>Instructions:</b> \n",
    "\n",
    "\n",
    "* <span style='font-family:Georgia'> Read the Swimming Pool Dataset in the AssignmentData folder\n",
    "    \n",
    "* <span style='font-family:Georgia'> Display the first few rows of the dataset.\n",
    " \n",
    "</div>"
   ]
  },
  {
   "cell_type": "code",
   "execution_count": 19,
   "metadata": {},
   "outputs": [
    {
     "data": {
      "text/html": [
       "<div>\n",
       "<style scoped>\n",
       "    .dataframe tbody tr th:only-of-type {\n",
       "        vertical-align: middle;\n",
       "    }\n",
       "\n",
       "    .dataframe tbody tr th {\n",
       "        vertical-align: top;\n",
       "    }\n",
       "\n",
       "    .dataframe thead th {\n",
       "        text-align: right;\n",
       "    }\n",
       "</style>\n",
       "<table border=\"1\" class=\"dataframe\">\n",
       "  <thead>\n",
       "    <tr style=\"text-align: right;\">\n",
       "      <th></th>\n",
       "      <th>OBJECTID</th>\n",
       "      <th>NAME</th>\n",
       "      <th>PARK_NAME</th>\n",
       "      <th>ADDRESS_91</th>\n",
       "      <th>ZIP_CODE</th>\n",
       "      <th>POOL_TYPE</th>\n",
       "      <th>POOL_STATU</th>\n",
       "      <th>COMMENTS</th>\n",
       "      <th>DATE_INSTA</th>\n",
       "      <th>DATA_SOURC</th>\n",
       "      <th>geometry</th>\n",
       "    </tr>\n",
       "  </thead>\n",
       "  <tbody>\n",
       "    <tr>\n",
       "      <th>0</th>\n",
       "      <td>1</td>\n",
       "      <td>Fox Chase Pool</td>\n",
       "      <td>Fox Chase Recreation Center</td>\n",
       "      <td>7901 RIDGEWAY ST</td>\n",
       "      <td>19111</td>\n",
       "      <td>OUTDOOR</td>\n",
       "      <td>ACTIVE</td>\n",
       "      <td>None</td>\n",
       "      <td>None</td>\n",
       "      <td>Finder; Previous GIS Data</td>\n",
       "      <td>POINT (-75.08232 40.07367)</td>\n",
       "    </tr>\n",
       "    <tr>\n",
       "      <th>1</th>\n",
       "      <td>2</td>\n",
       "      <td>Mitchell Pool</td>\n",
       "      <td>Thomas Mitchell Memorial Playground</td>\n",
       "      <td>3600 WHITEHALL LN</td>\n",
       "      <td>19114</td>\n",
       "      <td>OUTDOOR</td>\n",
       "      <td>ACTIVE</td>\n",
       "      <td>None</td>\n",
       "      <td>2012-01-01</td>\n",
       "      <td>Capital 2019; Finder</td>\n",
       "      <td>POINT (-74.99143 40.06830)</td>\n",
       "    </tr>\n",
       "    <tr>\n",
       "      <th>2</th>\n",
       "      <td>3</td>\n",
       "      <td>Jardel Pool</td>\n",
       "      <td>Thomas E. Jardel Memorial Field</td>\n",
       "      <td>1400 COTTMAN AVE</td>\n",
       "      <td>19111</td>\n",
       "      <td>OUTDOOR</td>\n",
       "      <td>ACTIVE</td>\n",
       "      <td>None</td>\n",
       "      <td>None</td>\n",
       "      <td>Finder; Previous GIS Data</td>\n",
       "      <td>POINT (-75.07590 40.05629)</td>\n",
       "    </tr>\n",
       "    <tr>\n",
       "      <th>3</th>\n",
       "      <td>4</td>\n",
       "      <td>Jacobs Pool</td>\n",
       "      <td>George Jacobs Playground</td>\n",
       "      <td>4500 LINDEN AVE</td>\n",
       "      <td>19136</td>\n",
       "      <td>OUTDOOR</td>\n",
       "      <td>ACTIVE</td>\n",
       "      <td>None</td>\n",
       "      <td>None</td>\n",
       "      <td>Aquatics 2019; Finder</td>\n",
       "      <td>POINT (-75.00284 40.05266)</td>\n",
       "    </tr>\n",
       "    <tr>\n",
       "      <th>4</th>\n",
       "      <td>5</td>\n",
       "      <td>Morris Estates Pool</td>\n",
       "      <td>Morris Estate Cultural Center</td>\n",
       "      <td>1610 CHELTEN AVE</td>\n",
       "      <td>19141</td>\n",
       "      <td>OUTDOOR</td>\n",
       "      <td>ACTIVE</td>\n",
       "      <td>Emergency access is from Chelten around the bu...</td>\n",
       "      <td>None</td>\n",
       "      <td>Finder; Administration</td>\n",
       "      <td>POINT (-75.14641 40.04992)</td>\n",
       "    </tr>\n",
       "  </tbody>\n",
       "</table>\n",
       "</div>"
      ],
      "text/plain": [
       "   OBJECTID                 NAME                            PARK_NAME  \\\n",
       "0         1       Fox Chase Pool          Fox Chase Recreation Center   \n",
       "1         2        Mitchell Pool  Thomas Mitchell Memorial Playground   \n",
       "2         3          Jardel Pool      Thomas E. Jardel Memorial Field   \n",
       "3         4          Jacobs Pool             George Jacobs Playground   \n",
       "4         5  Morris Estates Pool        Morris Estate Cultural Center   \n",
       "\n",
       "          ADDRESS_91  ZIP_CODE POOL_TYPE POOL_STATU  \\\n",
       "0   7901 RIDGEWAY ST     19111   OUTDOOR     ACTIVE   \n",
       "1  3600 WHITEHALL LN     19114   OUTDOOR     ACTIVE   \n",
       "2   1400 COTTMAN AVE     19111   OUTDOOR     ACTIVE   \n",
       "3    4500 LINDEN AVE     19136   OUTDOOR     ACTIVE   \n",
       "4   1610 CHELTEN AVE     19141   OUTDOOR     ACTIVE   \n",
       "\n",
       "                                            COMMENTS  DATE_INSTA  \\\n",
       "0                                               None        None   \n",
       "1                                               None  2012-01-01   \n",
       "2                                               None        None   \n",
       "3                                               None        None   \n",
       "4  Emergency access is from Chelten around the bu...        None   \n",
       "\n",
       "                  DATA_SOURC                    geometry  \n",
       "0  Finder; Previous GIS Data  POINT (-75.08232 40.07367)  \n",
       "1       Capital 2019; Finder  POINT (-74.99143 40.06830)  \n",
       "2  Finder; Previous GIS Data  POINT (-75.07590 40.05629)  \n",
       "3      Aquatics 2019; Finder  POINT (-75.00284 40.05266)  \n",
       "4     Finder; Administration  POINT (-75.14641 40.04992)  "
      ]
     },
     "execution_count": 19,
     "metadata": {},
     "output_type": "execute_result"
    }
   ],
   "source": [
    "pools = gpd.read_file(f'{path}/data/AssignmentData/swimming_pools.shp')\n",
    "pools.head()"
   ]
  },
  {
   "cell_type": "markdown",
   "metadata": {},
   "source": [
    "# 1. Buffer Analysis"
   ]
  },
  {
   "cell_type": "markdown",
   "metadata": {},
   "source": [
    "\n",
    "    \n",
    "* <span style='font-family:Georgia'> Plot the swimming pools data with Geopandas. \n",
    " \n",
    "</div>"
   ]
  },
  {
   "cell_type": "code",
   "execution_count": 20,
   "metadata": {},
   "outputs": [
    {
     "data": {
      "text/plain": [
       "<AxesSubplot: >"
      ]
     },
     "execution_count": 20,
     "metadata": {},
     "output_type": "execute_result"
    },
    {
     "data": {
      "image/png": "[encoded data removed]",
      "text/plain": [
       "<Figure size 432x288 with 1 Axes>"
      ]
     },
     "metadata": {
      "needs_background": "light"
     },
     "output_type": "display_data"
    }
   ],
   "source": [
    "pools.plot()"
   ]
  },
  {
   "cell_type": "markdown",
   "metadata": {},
   "source": [
    "* <span style='font-family:Georgia'> Find the the swimming pool with the following name \"Jardel Pool\". \n",
    " \n",
    "</div>"
   ]
  },
  {
   "cell_type": "code",
   "execution_count": 21,
   "metadata": {},
   "outputs": [],
   "source": [
    "jardel_pool = pools[pools.NAME == 'Jardel Pool']"
   ]
  },
  {
   "cell_type": "code",
   "execution_count": 22,
   "metadata": {},
   "outputs": [
    {
     "data": {
      "text/html": [
       "<div>\n",
       "<style scoped>\n",
       "    .dataframe tbody tr th:only-of-type {\n",
       "        vertical-align: middle;\n",
       "    }\n",
       "\n",
       "    .dataframe tbody tr th {\n",
       "        vertical-align: top;\n",
       "    }\n",
       "\n",
       "    .dataframe thead th {\n",
       "        text-align: right;\n",
       "    }\n",
       "</style>\n",
       "<table border=\"1\" class=\"dataframe\">\n",
       "  <thead>\n",
       "    <tr style=\"text-align: right;\">\n",
       "      <th></th>\n",
       "      <th>OBJECTID</th>\n",
       "      <th>NAME</th>\n",
       "      <th>PARK_NAME</th>\n",
       "      <th>ADDRESS_91</th>\n",
       "      <th>ZIP_CODE</th>\n",
       "      <th>POOL_TYPE</th>\n",
       "      <th>POOL_STATU</th>\n",
       "      <th>COMMENTS</th>\n",
       "      <th>DATE_INSTA</th>\n",
       "      <th>DATA_SOURC</th>\n",
       "      <th>geometry</th>\n",
       "    </tr>\n",
       "  </thead>\n",
       "  <tbody>\n",
       "    <tr>\n",
       "      <th>2</th>\n",
       "      <td>3</td>\n",
       "      <td>Jardel Pool</td>\n",
       "      <td>Thomas E. Jardel Memorial Field</td>\n",
       "      <td>1400 COTTMAN AVE</td>\n",
       "      <td>19111</td>\n",
       "      <td>OUTDOOR</td>\n",
       "      <td>ACTIVE</td>\n",
       "      <td>None</td>\n",
       "      <td>None</td>\n",
       "      <td>Finder; Previous GIS Data</td>\n",
       "      <td>POINT (-75.07590 40.05629)</td>\n",
       "    </tr>\n",
       "  </tbody>\n",
       "</table>\n",
       "</div>"
      ],
      "text/plain": [
       "   OBJECTID         NAME                        PARK_NAME        ADDRESS_91  \\\n",
       "2         3  Jardel Pool  Thomas E. Jardel Memorial Field  1400 COTTMAN AVE   \n",
       "\n",
       "   ZIP_CODE POOL_TYPE POOL_STATU COMMENTS DATE_INSTA  \\\n",
       "2     19111   OUTDOOR     ACTIVE     None       None   \n",
       "\n",
       "                  DATA_SOURC                    geometry  \n",
       "2  Finder; Previous GIS Data  POINT (-75.07590 40.05629)  "
      ]
     },
     "execution_count": 22,
     "metadata": {},
     "output_type": "execute_result"
    }
   ],
   "source": [
    "jardel_pool"
   ]
  },
  {
   "cell_type": "markdown",
   "metadata": {},
   "source": [
    "* <span style='font-family:Georgia'> Buffer the Jardel Pool with a distance of your choice. \n",
    " \n",
    "</div>"
   ]
  },
  {
   "cell_type": "code",
   "execution_count": 23,
   "metadata": {},
   "outputs": [
    {
     "data": {
      "text/plain": [
       "<Geographic 2D CRS: EPSG:4326>\n",
       "Name: WGS 84\n",
       "Axis Info [ellipsoidal]:\n",
       "- Lat[north]: Geodetic latitude (degree)\n",
       "- Lon[east]: Geodetic longitude (degree)\n",
       "Area of Use:\n",
       "- name: World.\n",
       "- bounds: (-180.0, -90.0, 180.0, 90.0)\n",
       "Datum: World Geodetic System 1984 ensemble\n",
       "- Ellipsoid: WGS 84\n",
       "- Prime Meridian: Greenwich"
      ]
     },
     "execution_count": 23,
     "metadata": {},
     "output_type": "execute_result"
    }
   ],
   "source": [
    "jardel_pool.crs"
   ]
  },
  {
   "cell_type": "code",
   "execution_count": 24,
   "metadata": {},
   "outputs": [],
   "source": [
    "# I can first plot buffer with degree distance, to this be more informative I would use however different crs and meters"
   ]
  },
  {
   "cell_type": "code",
   "execution_count": 25,
   "metadata": {},
   "outputs": [
    {
     "name": "stderr",
     "output_type": "stream",
     "text": [
      "/var/folders/2f/c6skwjt96m984f45rzp9_qw40000gn/T/ipykernel_8386/40251653.py:1: UserWarning: Geometry is in a geographic CRS. Results from 'buffer' are likely incorrect. Use 'GeoSeries.to_crs()' to re-project geometries to a projected CRS before this operation.\n",
      "\n",
      "  jardel_pool_buffered = jardel_pool.buffer(1)\n"
     ]
    }
   ],
   "source": [
    "jardel_pool_buffered = jardel_pool.buffer(1)"
   ]
  },
  {
   "cell_type": "markdown",
   "metadata": {},
   "source": [
    "\n",
    "\n",
    "\n",
    "<div class=\"alert alert-block alert-info\">\n",
    "    \n",
    "* <span style='font-family:Georgia'> Plot the buffered point. \n",
    " \n",
    "</div>\n"
   ]
  },
  {
   "cell_type": "code",
   "execution_count": 26,
   "metadata": {},
   "outputs": [
    {
     "data": {
      "text/plain": [
       "<AxesSubplot: >"
      ]
     },
     "execution_count": 26,
     "metadata": {},
     "output_type": "execute_result"
    },
    {
     "data": {
      "image/png": "[encoded data removed]",
      "text/plain": [
       "<Figure size 432x288 with 1 Axes>"
      ]
     },
     "metadata": {
      "needs_background": "light"
     },
     "output_type": "display_data"
    }
   ],
   "source": [
    "jardel_pool_buffered.plot()"
   ]
  },
  {
   "cell_type": "code",
   "execution_count": 6,
   "metadata": {},
   "outputs": [
    {
     "data": {
      "text/plain": [
       "<matplotlib.axes._subplots.AxesSubplot at 0x2430d231548>"
      ]
     },
     "execution_count": 6,
     "metadata": {},
     "output_type": "execute_result"
    },
    {
     "data": {
      "image/png": "[encoded data removed]",
      "text/plain": [
       "<Figure size 432x288 with 1 Axes>"
      ]
     },
     "metadata": {
      "needs_background": "light"
     },
     "output_type": "display_data"
    }
   ],
   "source": []
  },
  {
   "cell_type": "markdown",
   "metadata": {},
   "source": [
    "* <span style='font-family:Georgia'> Which number did you choose for the distance?. \n",
    " \n",
    "</div>"
   ]
  },
  {
   "cell_type": "markdown",
   "metadata": {},
   "source": [
    "One degree"
   ]
  },
  {
   "cell_type": "markdown",
   "metadata": {},
   "source": [
    "* <span style='font-family:Georgia'> Is it meters, Kilometers, foot or something else? How do you know it? (Hint: Check the CRS)\n",
    " \n",
    "</div>"
   ]
  },
  {
   "cell_type": "markdown",
   "metadata": {},
   "source": [
    "Degrees"
   ]
  },
  {
   "cell_type": "markdown",
   "metadata": {},
   "source": [
    "<b>Instructions:</b> \n",
    "\n",
    "\n",
    "* <span style='font-family:Georgia'> Can you find out a CRS for Phildelphia that uses Meters/foot as Unit of measurement? (Hint: search in https://epsg.io/)\n",
    "    \n",
    "* <span style='font-family:Georgia'> If you manage to find out a CRS that has meter as unit of measure, set the CRS of the swimming pool to the meter/foot based CRS. I am setting here a meter based units. You can use to_crs() \n",
    " \n",
    "</div>"
   ]
  },
  {
   "cell_type": "code",
   "execution_count": 28,
   "metadata": {},
   "outputs": [],
   "source": [
    "pools_meters = pools.to_crs(epsg=3651)"
   ]
  },
  {
   "cell_type": "markdown",
   "metadata": {},
   "source": [
    "    \n",
    "* <span style='font-family:Georgia'> Check if the CRS is changed and meter is the unit of measurement\n",
    " \n",
    "</div>"
   ]
  },
  {
   "cell_type": "code",
   "execution_count": 29,
   "metadata": {},
   "outputs": [
    {
     "data": {
      "text/plain": [
       "<Derived Projected CRS: EPSG:3651>\n",
       "Name: NAD83(NSRS2007) / Pennsylvania South\n",
       "Axis Info [cartesian]:\n",
       "- X[east]: Easting (metre)\n",
       "- Y[north]: Northing (metre)\n",
       "Area of Use:\n",
       "- name: United States (USA) - Pennsylvania - counties of Adams; Allegheny; Armstrong; Beaver; Bedford; Berks; Blair; Bucks; Butler; Cambria; Chester; Cumberland; Dauphin; Delaware; Fayette; Franklin; Fulton; Greene; Huntingdon; Indiana; Juniata; Lancaster; Lawrence; Lebanon; Lehigh; Mifflin; Montgomery; Northampton; Perry; Philadelphia; Schuylkill; Snyder; Somerset; Washington; Westmoreland; York.\n",
       "- bounds: (-80.53, 39.71, -74.72, 41.18)\n",
       "Coordinate Operation:\n",
       "- name: SPCS83 Pennsylvania South zone (meters)\n",
       "- method: Lambert Conic Conformal (2SP)\n",
       "Datum: NAD83 (National Spatial Reference System 2007)\n",
       "- Ellipsoid: GRS 1980\n",
       "- Prime Meridian: Greenwich"
      ]
     },
     "execution_count": 29,
     "metadata": {},
     "output_type": "execute_result"
    }
   ],
   "source": [
    "pools_meters.crs"
   ]
  },
  {
   "cell_type": "markdown",
   "metadata": {},
   "source": [
    "* <span style='font-family:Georgia'> Now, buffer a distance of your choice (meters) on Jardel swimming pool.\n",
    " \n",
    "</div>\n"
   ]
  },
  {
   "cell_type": "code",
   "execution_count": 30,
   "metadata": {},
   "outputs": [],
   "source": [
    "jardel_pool_meters = pools_meters[pools_meters.NAME == 'Jardel Pool'].buffer(1000)"
   ]
  },
  {
   "cell_type": "code",
   "execution_count": 31,
   "metadata": {},
   "outputs": [
    {
     "data": {
      "text/plain": [
       "2    POLYGON ((829125.291 83727.797, 829120.476 836...\n",
       "dtype: geometry"
      ]
     },
     "execution_count": 31,
     "metadata": {},
     "output_type": "execute_result"
    }
   ],
   "source": [
    "jardel_pool_meters"
   ]
  },
  {
   "cell_type": "markdown",
   "metadata": {},
   "source": [
    "\n",
    "* <span style='font-family:Georgia'> Plot the buffered point.\n",
    " \n",
    "</div>"
   ]
  },
  {
   "cell_type": "code",
   "execution_count": 32,
   "metadata": {},
   "outputs": [
    {
     "data": {
      "text/plain": [
       "<AxesSubplot: >"
      ]
     },
     "execution_count": 32,
     "metadata": {},
     "output_type": "execute_result"
    },
    {
     "data": {
      "image/png": "[encoded data removed]",
      "text/plain": [
       "<Figure size 432x288 with 1 Axes>"
      ]
     },
     "metadata": {
      "needs_background": "light"
     },
     "output_type": "display_data"
    }
   ],
   "source": [
    "jardel_pool_meters.plot()"
   ]
  },
  {
   "cell_type": "code",
   "execution_count": 11,
   "metadata": {},
   "outputs": [
    {
     "data": {
      "text/plain": [
       "<matplotlib.axes._subplots.AxesSubplot at 0x2430d365248>"
      ]
     },
     "execution_count": 11,
     "metadata": {},
     "output_type": "execute_result"
    },
    {
     "data": {
      "image/png": "[encoded data removed]",
      "text/plain": [
       "<Figure size 432x288 with 1 Axes>"
      ]
     },
     "metadata": {
      "needs_background": "light"
     },
     "output_type": "display_data"
    }
   ],
   "source": []
  },
  {
   "cell_type": "markdown",
   "metadata": {},
   "source": [
    "# 2. Spatial Join"
   ]
  },
  {
   "cell_type": "markdown",
   "metadata": {},
   "source": [
    "<b>Instructions:</b> \n",
    "    \n",
    "* <span style='font-family:Georgia'> Read the cleaned incidents dataset from the previous Excercise 2.7 Assignment.\n",
    "    \n",
    "* <span style='font-family:Georgia'> You might copy the shapefile to your current folder or copy the path of the dataset.\n",
    "    \n",
    "* <span style='font-family:Georgia'> Display the first few rows of the data. \n",
    "    \n",
    "</div>"
   ]
  },
  {
   "cell_type": "code",
   "execution_count": 41,
   "metadata": {},
   "outputs": [
    {
     "data": {
      "text/html": [
       "<div>\n",
       "<style scoped>\n",
       "    .dataframe tbody tr th:only-of-type {\n",
       "        vertical-align: middle;\n",
       "    }\n",
       "\n",
       "    .dataframe tbody tr th {\n",
       "        vertical-align: top;\n",
       "    }\n",
       "\n",
       "    .dataframe thead th {\n",
       "        text-align: right;\n",
       "    }\n",
       "</style>\n",
       "<table border=\"1\" class=\"dataframe\">\n",
       "  <thead>\n",
       "    <tr style=\"text-align: right;\">\n",
       "      <th></th>\n",
       "      <th>objectid</th>\n",
       "      <th>dc_dist</th>\n",
       "      <th>psa</th>\n",
       "      <th>dispatch_d</th>\n",
       "      <th>dispatch_1</th>\n",
       "      <th>dispatch_t</th>\n",
       "      <th>hour_</th>\n",
       "      <th>dc_key</th>\n",
       "      <th>location_b</th>\n",
       "      <th>ucr_genera</th>\n",
       "      <th>text_gener</th>\n",
       "      <th>point_x</th>\n",
       "      <th>point_y</th>\n",
       "      <th>lat</th>\n",
       "      <th>lng</th>\n",
       "      <th>geometry</th>\n",
       "    </tr>\n",
       "  </thead>\n",
       "  <tbody>\n",
       "    <tr>\n",
       "      <th>0</th>\n",
       "      <td>129</td>\n",
       "      <td>9</td>\n",
       "      <td>2</td>\n",
       "      <td>25/03/2020 18:32</td>\n",
       "      <td>25/03/2020</td>\n",
       "      <td>18:32:00</td>\n",
       "      <td>18</td>\n",
       "      <td>2.020090e+11</td>\n",
       "      <td>1400 BLOCK SPRING GARDEN ST</td>\n",
       "      <td>600</td>\n",
       "      <td>Theft from Vehicle</td>\n",
       "      <td>-75.161446</td>\n",
       "      <td>39.962334</td>\n",
       "      <td>39.962334</td>\n",
       "      <td>-75.161446</td>\n",
       "      <td>POINT (-75.16145 39.96233)</td>\n",
       "    </tr>\n",
       "    <tr>\n",
       "      <th>1</th>\n",
       "      <td>41</td>\n",
       "      <td>77</td>\n",
       "      <td>A</td>\n",
       "      <td>08/03/2020 19:08</td>\n",
       "      <td>08/03/2020</td>\n",
       "      <td>19:08:00</td>\n",
       "      <td>19</td>\n",
       "      <td>2.020770e+11</td>\n",
       "      <td>0 BLOCK PIA WAY</td>\n",
       "      <td>600</td>\n",
       "      <td>Thefts</td>\n",
       "      <td>-75.230706</td>\n",
       "      <td>39.883881</td>\n",
       "      <td>39.883881</td>\n",
       "      <td>-75.230706</td>\n",
       "      <td>POINT (-75.23071 39.88388)</td>\n",
       "    </tr>\n",
       "    <tr>\n",
       "      <th>2</th>\n",
       "      <td>42</td>\n",
       "      <td>77</td>\n",
       "      <td>A</td>\n",
       "      <td>15/03/2020 18:41</td>\n",
       "      <td>15/03/2020</td>\n",
       "      <td>18:41:00</td>\n",
       "      <td>18</td>\n",
       "      <td>2.020770e+11</td>\n",
       "      <td>0 BLOCK PIA WAY</td>\n",
       "      <td>600</td>\n",
       "      <td>Thefts</td>\n",
       "      <td>-75.230706</td>\n",
       "      <td>39.883881</td>\n",
       "      <td>39.883881</td>\n",
       "      <td>-75.230706</td>\n",
       "      <td>POINT (-75.23071 39.88388)</td>\n",
       "    </tr>\n",
       "    <tr>\n",
       "      <th>3</th>\n",
       "      <td>43</td>\n",
       "      <td>77</td>\n",
       "      <td>A</td>\n",
       "      <td>18/03/2020 08:17</td>\n",
       "      <td>18/03/2020</td>\n",
       "      <td>08:17:00</td>\n",
       "      <td>8</td>\n",
       "      <td>2.020770e+11</td>\n",
       "      <td>0 BLOCK PIA WAY</td>\n",
       "      <td>600</td>\n",
       "      <td>Thefts</td>\n",
       "      <td>-75.230706</td>\n",
       "      <td>39.883881</td>\n",
       "      <td>39.883881</td>\n",
       "      <td>-75.230706</td>\n",
       "      <td>POINT (-75.23071 39.88388)</td>\n",
       "    </tr>\n",
       "    <tr>\n",
       "      <th>4</th>\n",
       "      <td>44</td>\n",
       "      <td>77</td>\n",
       "      <td>A</td>\n",
       "      <td>03/04/2020 15:32</td>\n",
       "      <td>03/04/2020</td>\n",
       "      <td>15:32:33</td>\n",
       "      <td>15</td>\n",
       "      <td>2.020770e+11</td>\n",
       "      <td>0 BLOCK PIA WAY</td>\n",
       "      <td>600</td>\n",
       "      <td>Thefts</td>\n",
       "      <td>-75.230706</td>\n",
       "      <td>39.883881</td>\n",
       "      <td>39.883881</td>\n",
       "      <td>-75.230706</td>\n",
       "      <td>POINT (-75.23071 39.88388)</td>\n",
       "    </tr>\n",
       "  </tbody>\n",
       "</table>\n",
       "</div>"
      ],
      "text/plain": [
       "   objectid  dc_dist psa        dispatch_d  dispatch_1 dispatch_t  hour_  \\\n",
       "0       129        9   2  25/03/2020 18:32  25/03/2020   18:32:00     18   \n",
       "1        41       77   A  08/03/2020 19:08  08/03/2020   19:08:00     19   \n",
       "2        42       77   A  15/03/2020 18:41  15/03/2020   18:41:00     18   \n",
       "3        43       77   A  18/03/2020 08:17  18/03/2020   08:17:00      8   \n",
       "4        44       77   A  03/04/2020 15:32  03/04/2020   15:32:33     15   \n",
       "\n",
       "         dc_key                   location_b  ucr_genera          text_gener  \\\n",
       "0  2.020090e+11  1400 BLOCK SPRING GARDEN ST         600  Theft from Vehicle   \n",
       "1  2.020770e+11              0 BLOCK PIA WAY         600              Thefts   \n",
       "2  2.020770e+11              0 BLOCK PIA WAY         600              Thefts   \n",
       "3  2.020770e+11              0 BLOCK PIA WAY         600              Thefts   \n",
       "4  2.020770e+11              0 BLOCK PIA WAY         600              Thefts   \n",
       "\n",
       "     point_x    point_y        lat        lng                    geometry  \n",
       "0 -75.161446  39.962334  39.962334 -75.161446  POINT (-75.16145 39.96233)  \n",
       "1 -75.230706  39.883881  39.883881 -75.230706  POINT (-75.23071 39.88388)  \n",
       "2 -75.230706  39.883881  39.883881 -75.230706  POINT (-75.23071 39.88388)  \n",
       "3 -75.230706  39.883881  39.883881 -75.230706  POINT (-75.23071 39.88388)  \n",
       "4 -75.230706  39.883881  39.883881 -75.230706  POINT (-75.23071 39.88388)  "
      ]
     },
     "execution_count": 41,
     "metadata": {},
     "output_type": "execute_result"
    }
   ],
   "source": [
    "incidents = gpd.read_file(f'{path}/outputs/incidents_clean.shp') \n",
    "incidents.head()"
   ]
  },
  {
   "cell_type": "markdown",
   "metadata": {},
   "source": [
    "\n",
    "<b>Instructions:</b> \n",
    "    \n",
    "* <span style='font-family:Georgia'>Read the Neighbourhood data in \"AssignmentData/Neighborhoods_Philadelphia/ Folder.\n",
    "      \n",
    "* <span style='font-family:Georgia'> Display the first few rows of the data. \n",
    "    \n",
    "</div>"
   ]
  },
  {
   "cell_type": "code",
   "execution_count": 43,
   "metadata": {},
   "outputs": [],
   "source": [
    "neighbor = gpd.read_file(f'{path}/data/AssignmentData/Neighborhoods_Philadelphia/Neighborhoods_Philadelphia.shp') "
   ]
  },
  {
   "cell_type": "code",
   "execution_count": 45,
   "metadata": {},
   "outputs": [
    {
     "data": {
      "text/html": [
       "<div>\n",
       "<style scoped>\n",
       "    .dataframe tbody tr th:only-of-type {\n",
       "        vertical-align: middle;\n",
       "    }\n",
       "\n",
       "    .dataframe tbody tr th {\n",
       "        vertical-align: top;\n",
       "    }\n",
       "\n",
       "    .dataframe thead th {\n",
       "        text-align: right;\n",
       "    }\n",
       "</style>\n",
       "<table border=\"1\" class=\"dataframe\">\n",
       "  <thead>\n",
       "    <tr style=\"text-align: right;\">\n",
       "      <th></th>\n",
       "      <th>NAME</th>\n",
       "      <th>LISTNAME</th>\n",
       "      <th>MAPNAME</th>\n",
       "      <th>Shape_Leng</th>\n",
       "      <th>Shape_Area</th>\n",
       "      <th>geometry</th>\n",
       "    </tr>\n",
       "  </thead>\n",
       "  <tbody>\n",
       "    <tr>\n",
       "      <th>0</th>\n",
       "      <td>BRIDESBURG</td>\n",
       "      <td>Bridesburg</td>\n",
       "      <td>Bridesburg</td>\n",
       "      <td>27814.546521</td>\n",
       "      <td>4.458626e+07</td>\n",
       "      <td>POLYGON ((2719789.837 256235.538, 2719814.855 ...</td>\n",
       "    </tr>\n",
       "    <tr>\n",
       "      <th>1</th>\n",
       "      <td>BUSTLETON</td>\n",
       "      <td>Bustleton</td>\n",
       "      <td>Bustleton</td>\n",
       "      <td>48868.458365</td>\n",
       "      <td>1.140504e+08</td>\n",
       "      <td>POLYGON ((2733378.171 289259.945, 2732818.985 ...</td>\n",
       "    </tr>\n",
       "    <tr>\n",
       "      <th>2</th>\n",
       "      <td>CEDARBROOK</td>\n",
       "      <td>Cedarbrook</td>\n",
       "      <td>Cedarbrook</td>\n",
       "      <td>20021.415802</td>\n",
       "      <td>2.487174e+07</td>\n",
       "      <td>POLYGON ((2685267.950 279747.336, 2685272.265 ...</td>\n",
       "    </tr>\n",
       "    <tr>\n",
       "      <th>3</th>\n",
       "      <td>CHESTNUT_HILL</td>\n",
       "      <td>Chestnut Hill</td>\n",
       "      <td>Chestnut Hill</td>\n",
       "      <td>56394.297195</td>\n",
       "      <td>7.966498e+07</td>\n",
       "      <td>POLYGON ((2678490.151 284400.400, 2678518.732 ...</td>\n",
       "    </tr>\n",
       "    <tr>\n",
       "      <th>4</th>\n",
       "      <td>EAST_FALLS</td>\n",
       "      <td>East Falls</td>\n",
       "      <td>East Falls</td>\n",
       "      <td>27400.776417</td>\n",
       "      <td>4.057689e+07</td>\n",
       "      <td>POLYGON ((2686769.727 263625.367, 2686921.108 ...</td>\n",
       "    </tr>\n",
       "  </tbody>\n",
       "</table>\n",
       "</div>"
      ],
      "text/plain": [
       "            NAME       LISTNAME        MAPNAME    Shape_Leng    Shape_Area  \\\n",
       "0     BRIDESBURG     Bridesburg     Bridesburg  27814.546521  4.458626e+07   \n",
       "1      BUSTLETON      Bustleton      Bustleton  48868.458365  1.140504e+08   \n",
       "2     CEDARBROOK     Cedarbrook     Cedarbrook  20021.415802  2.487174e+07   \n",
       "3  CHESTNUT_HILL  Chestnut Hill  Chestnut Hill  56394.297195  7.966498e+07   \n",
       "4     EAST_FALLS     East Falls     East Falls  27400.776417  4.057689e+07   \n",
       "\n",
       "                                            geometry  \n",
       "0  POLYGON ((2719789.837 256235.538, 2719814.855 ...  \n",
       "1  POLYGON ((2733378.171 289259.945, 2732818.985 ...  \n",
       "2  POLYGON ((2685267.950 279747.336, 2685272.265 ...  \n",
       "3  POLYGON ((2678490.151 284400.400, 2678518.732 ...  \n",
       "4  POLYGON ((2686769.727 263625.367, 2686921.108 ...  "
      ]
     },
     "execution_count": 45,
     "metadata": {},
     "output_type": "execute_result"
    }
   ],
   "source": [
    "neighbor.head()"
   ]
  },
  {
   "cell_type": "markdown",
   "metadata": {},
   "source": [
    "\n",
    "    \n",
    "* <span style='font-family:Georgia'> Check if the incidents data and the neighbourhood data has the same CRS.\n",
    " \n",
    "</div>"
   ]
  },
  {
   "cell_type": "code",
   "execution_count": 47,
   "metadata": {},
   "outputs": [
    {
     "data": {
      "text/plain": [
       "<Geographic 2D CRS: EPSG:4326>\n",
       "Name: WGS 84\n",
       "Axis Info [ellipsoidal]:\n",
       "- Lat[north]: Geodetic latitude (degree)\n",
       "- Lon[east]: Geodetic longitude (degree)\n",
       "Area of Use:\n",
       "- name: World.\n",
       "- bounds: (-180.0, -90.0, 180.0, 90.0)\n",
       "Datum: World Geodetic System 1984 ensemble\n",
       "- Ellipsoid: WGS 84\n",
       "- Prime Meridian: Greenwich"
      ]
     },
     "execution_count": 47,
     "metadata": {},
     "output_type": "execute_result"
    }
   ],
   "source": [
    "incidents.crs"
   ]
  },
  {
   "cell_type": "code",
   "execution_count": 48,
   "metadata": {},
   "outputs": [
    {
     "data": {
      "text/plain": [
       "<Derived Projected CRS: EPSG:2272>\n",
       "Name: NAD83 / Pennsylvania South (ftUS)\n",
       "Axis Info [cartesian]:\n",
       "- X[east]: Easting (US survey foot)\n",
       "- Y[north]: Northing (US survey foot)\n",
       "Area of Use:\n",
       "- name: United States (USA) - Pennsylvania - counties of Adams; Allegheny; Armstrong; Beaver; Bedford; Berks; Blair; Bucks; Butler; Cambria; Chester; Cumberland; Dauphin; Delaware; Fayette; Franklin; Fulton; Greene; Huntingdon; Indiana; Juniata; Lancaster; Lawrence; Lebanon; Lehigh; Mifflin; Montgomery; Northampton; Perry; Philadelphia; Schuylkill; Snyder; Somerset; Washington; Westmoreland; York.\n",
       "- bounds: (-80.53, 39.71, -74.72, 41.18)\n",
       "Coordinate Operation:\n",
       "- name: SPCS83 Pennsylvania South zone (US Survey feet)\n",
       "- method: Lambert Conic Conformal (2SP)\n",
       "Datum: North American Datum 1983\n",
       "- Ellipsoid: GRS 1980\n",
       "- Prime Meridian: Greenwich"
      ]
     },
     "execution_count": 48,
     "metadata": {},
     "output_type": "execute_result"
    }
   ],
   "source": [
    "neighbor.crs"
   ]
  },
  {
   "cell_type": "markdown",
   "metadata": {},
   "source": [
    "\n",
    "<b>Alert:</b> They do not have the same CRS, so you need to reproject the incidents data from EPSG:4326 to EPSG:2272.\n",
    "</div>"
   ]
  },
  {
   "cell_type": "code",
   "execution_count": 49,
   "metadata": {},
   "outputs": [],
   "source": [
    "incidents = incidents.to_crs(epsg=2272)"
   ]
  },
  {
   "cell_type": "markdown",
   "metadata": {},
   "source": [
    "\n",
    "<b>Instructions:</b> \n",
    "    \n",
    "* <span style='font-family:Georgia'>Use this code if the points fall the same are as the neighbourhood areas. Change the POLYGON with the neighbourhoods Geodataframe and POINTS with the Incidents GeodataFrame.\n",
    "      \n",
    "\n",
    "    \n",
    "</div>"
   ]
  },
  {
   "cell_type": "code",
   "execution_count": 50,
   "metadata": {},
   "outputs": [
    {
     "data": {
      "text/plain": [
       "<AxesSubplot: >"
      ]
     },
     "execution_count": 50,
     "metadata": {},
     "output_type": "execute_result"
    },
    {
     "data": {
      "image/png": "[encoded data removed]",
      "text/plain": [
       "<Figure size 864x720 with 1 Axes>"
      ]
     },
     "metadata": {
      "needs_background": "light"
     },
     "output_type": "display_data"
    }
   ],
   "source": [
    "fig, ax = plt.subplots(figsize=(12,10))\n",
    "neighbor.plot(ax=ax, color=\"gray\")\n",
    "incidents.plot(ax=ax, markersize=0.2, color=\"Red\")"
   ]
  },
  {
   "cell_type": "markdown",
   "metadata": {},
   "source": [
    "\n",
    "<b>Instructions:</b> \n",
    "    \n",
    "* <span style='font-family:Georgia'> Use .sjoin() to join points dataset with the Neighbourhod dataset. Note that we want to determine which point is within which polygon.\n",
    "    \n",
    "* <span style='font-family:Georgia'>Remember to use the projected points.\n",
    "      \n",
    "* <span style='font-family:Georgia'> You might use these parameters: sjoin(point dataset(XXX -change the name), polygon dataset(XXX -change the name), how=\"inner\", op=\"within\"). Call the joined data what ever name you like. \n",
    "    \n",
    "</div>"
   ]
  },
  {
   "cell_type": "code",
   "execution_count": 51,
   "metadata": {},
   "outputs": [
    {
     "name": "stderr",
     "output_type": "stream",
     "text": [
      "/opt/anaconda3/envs/spatial-ds-ws/lib/python3.9/site-packages/IPython/core/interactiveshell.py:3337: FutureWarning: The `op` parameter is deprecated and will be removed in a future release. Please use the `predicate` parameter instead.\n",
      "  if await self.run_code(code, result, async_=asy):\n"
     ]
    }
   ],
   "source": [
    "joined = gpd.sjoin(incidents, neighbor, how='inner', op='within')"
   ]
  },
  {
   "cell_type": "code",
   "execution_count": 53,
   "metadata": {},
   "outputs": [
    {
     "data": {
      "text/html": [
       "<div>\n",
       "<style scoped>\n",
       "    .dataframe tbody tr th:only-of-type {\n",
       "        vertical-align: middle;\n",
       "    }\n",
       "\n",
       "    .dataframe tbody tr th {\n",
       "        vertical-align: top;\n",
       "    }\n",
       "\n",
       "    .dataframe thead th {\n",
       "        text-align: right;\n",
       "    }\n",
       "</style>\n",
       "<table border=\"1\" class=\"dataframe\">\n",
       "  <thead>\n",
       "    <tr style=\"text-align: right;\">\n",
       "      <th></th>\n",
       "      <th>objectid</th>\n",
       "      <th>dc_dist</th>\n",
       "      <th>psa</th>\n",
       "      <th>dispatch_d</th>\n",
       "      <th>dispatch_1</th>\n",
       "      <th>dispatch_t</th>\n",
       "      <th>hour_</th>\n",
       "      <th>dc_key</th>\n",
       "      <th>location_b</th>\n",
       "      <th>ucr_genera</th>\n",
       "      <th>...</th>\n",
       "      <th>point_y</th>\n",
       "      <th>lat</th>\n",
       "      <th>lng</th>\n",
       "      <th>geometry</th>\n",
       "      <th>index_right</th>\n",
       "      <th>NAME</th>\n",
       "      <th>LISTNAME</th>\n",
       "      <th>MAPNAME</th>\n",
       "      <th>Shape_Leng</th>\n",
       "      <th>Shape_Area</th>\n",
       "    </tr>\n",
       "  </thead>\n",
       "  <tbody>\n",
       "    <tr>\n",
       "      <th>0</th>\n",
       "      <td>129</td>\n",
       "      <td>9</td>\n",
       "      <td>2</td>\n",
       "      <td>25/03/2020 18:32</td>\n",
       "      <td>25/03/2020</td>\n",
       "      <td>18:32:00</td>\n",
       "      <td>18</td>\n",
       "      <td>2.020090e+11</td>\n",
       "      <td>1400 BLOCK SPRING GARDEN ST</td>\n",
       "      <td>600</td>\n",
       "      <td>...</td>\n",
       "      <td>39.962334</td>\n",
       "      <td>39.962334</td>\n",
       "      <td>-75.161446</td>\n",
       "      <td>POINT (2694008.319 239770.036)</td>\n",
       "      <td>97</td>\n",
       "      <td>SPRING_GARDEN</td>\n",
       "      <td>Spring Garden</td>\n",
       "      <td>Spring Garden</td>\n",
       "      <td>13574.806234</td>\n",
       "      <td>6.775876e+06</td>\n",
       "    </tr>\n",
       "    <tr>\n",
       "      <th>126</th>\n",
       "      <td>4224</td>\n",
       "      <td>9</td>\n",
       "      <td>3</td>\n",
       "      <td>03/01/2020 13:08</td>\n",
       "      <td>03/01/2020</td>\n",
       "      <td>13:08:00</td>\n",
       "      <td>13</td>\n",
       "      <td>2.020090e+11</td>\n",
       "      <td>2500 BLOCK PENNSYLVANIA AVE</td>\n",
       "      <td>600</td>\n",
       "      <td>...</td>\n",
       "      <td>39.966631</td>\n",
       "      <td>39.966631</td>\n",
       "      <td>-75.178832</td>\n",
       "      <td>POINT (2689091.108 241192.537)</td>\n",
       "      <td>97</td>\n",
       "      <td>SPRING_GARDEN</td>\n",
       "      <td>Spring Garden</td>\n",
       "      <td>Spring Garden</td>\n",
       "      <td>13574.806234</td>\n",
       "      <td>6.775876e+06</td>\n",
       "    </tr>\n",
       "    <tr>\n",
       "      <th>141</th>\n",
       "      <td>8977</td>\n",
       "      <td>9</td>\n",
       "      <td>3</td>\n",
       "      <td>09/01/2020 19:57</td>\n",
       "      <td>09/01/2020</td>\n",
       "      <td>19:57:00</td>\n",
       "      <td>19</td>\n",
       "      <td>2.020090e+11</td>\n",
       "      <td>2200 BLOCK FAIRMOUNT AVE</td>\n",
       "      <td>600</td>\n",
       "      <td>...</td>\n",
       "      <td>39.967146</td>\n",
       "      <td>39.967146</td>\n",
       "      <td>-75.175316</td>\n",
       "      <td>POINT (2690070.960 241408.843)</td>\n",
       "      <td>97</td>\n",
       "      <td>SPRING_GARDEN</td>\n",
       "      <td>Spring Garden</td>\n",
       "      <td>Spring Garden</td>\n",
       "      <td>13574.806234</td>\n",
       "      <td>6.775876e+06</td>\n",
       "    </tr>\n",
       "    <tr>\n",
       "      <th>616</th>\n",
       "      <td>39199</td>\n",
       "      <td>9</td>\n",
       "      <td>3</td>\n",
       "      <td>02/01/2020 21:25</td>\n",
       "      <td>02/01/2020</td>\n",
       "      <td>21:25:00</td>\n",
       "      <td>21</td>\n",
       "      <td>2.020090e+11</td>\n",
       "      <td>1900 BLOCK FAIRMOUNT AVE</td>\n",
       "      <td>600</td>\n",
       "      <td>...</td>\n",
       "      <td>39.967010</td>\n",
       "      <td>39.967010</td>\n",
       "      <td>-75.169684</td>\n",
       "      <td>POINT (2691650.359 241405.244)</td>\n",
       "      <td>97</td>\n",
       "      <td>SPRING_GARDEN</td>\n",
       "      <td>Spring Garden</td>\n",
       "      <td>Spring Garden</td>\n",
       "      <td>13574.806234</td>\n",
       "      <td>6.775876e+06</td>\n",
       "    </tr>\n",
       "    <tr>\n",
       "      <th>617</th>\n",
       "      <td>39200</td>\n",
       "      <td>9</td>\n",
       "      <td>3</td>\n",
       "      <td>05/01/2020 19:55</td>\n",
       "      <td>05/01/2020</td>\n",
       "      <td>19:55:00</td>\n",
       "      <td>19</td>\n",
       "      <td>2.020090e+11</td>\n",
       "      <td>1900 BLOCK FAIRMOUNT AVE</td>\n",
       "      <td>600</td>\n",
       "      <td>...</td>\n",
       "      <td>39.967010</td>\n",
       "      <td>39.967010</td>\n",
       "      <td>-75.169684</td>\n",
       "      <td>POINT (2691650.359 241405.244)</td>\n",
       "      <td>97</td>\n",
       "      <td>SPRING_GARDEN</td>\n",
       "      <td>Spring Garden</td>\n",
       "      <td>Spring Garden</td>\n",
       "      <td>13574.806234</td>\n",
       "      <td>6.775876e+06</td>\n",
       "    </tr>\n",
       "  </tbody>\n",
       "</table>\n",
       "<p>5 rows × 22 columns</p>\n",
       "</div>"
      ],
      "text/plain": [
       "     objectid  dc_dist psa        dispatch_d  dispatch_1 dispatch_t  hour_  \\\n",
       "0         129        9   2  25/03/2020 18:32  25/03/2020   18:32:00     18   \n",
       "126      4224        9   3  03/01/2020 13:08  03/01/2020   13:08:00     13   \n",
       "141      8977        9   3  09/01/2020 19:57  09/01/2020   19:57:00     19   \n",
       "616     39199        9   3  02/01/2020 21:25  02/01/2020   21:25:00     21   \n",
       "617     39200        9   3  05/01/2020 19:55  05/01/2020   19:55:00     19   \n",
       "\n",
       "           dc_key                   location_b  ucr_genera  ...    point_y  \\\n",
       "0    2.020090e+11  1400 BLOCK SPRING GARDEN ST         600  ...  39.962334   \n",
       "126  2.020090e+11  2500 BLOCK PENNSYLVANIA AVE         600  ...  39.966631   \n",
       "141  2.020090e+11     2200 BLOCK FAIRMOUNT AVE         600  ...  39.967146   \n",
       "616  2.020090e+11     1900 BLOCK FAIRMOUNT AVE         600  ...  39.967010   \n",
       "617  2.020090e+11     1900 BLOCK FAIRMOUNT AVE         600  ...  39.967010   \n",
       "\n",
       "           lat        lng                        geometry  index_right  \\\n",
       "0    39.962334 -75.161446  POINT (2694008.319 239770.036)           97   \n",
       "126  39.966631 -75.178832  POINT (2689091.108 241192.537)           97   \n",
       "141  39.967146 -75.175316  POINT (2690070.960 241408.843)           97   \n",
       "616  39.967010 -75.169684  POINT (2691650.359 241405.244)           97   \n",
       "617  39.967010 -75.169684  POINT (2691650.359 241405.244)           97   \n",
       "\n",
       "              NAME       LISTNAME        MAPNAME    Shape_Leng    Shape_Area  \n",
       "0    SPRING_GARDEN  Spring Garden  Spring Garden  13574.806234  6.775876e+06  \n",
       "126  SPRING_GARDEN  Spring Garden  Spring Garden  13574.806234  6.775876e+06  \n",
       "141  SPRING_GARDEN  Spring Garden  Spring Garden  13574.806234  6.775876e+06  \n",
       "616  SPRING_GARDEN  Spring Garden  Spring Garden  13574.806234  6.775876e+06  \n",
       "617  SPRING_GARDEN  Spring Garden  Spring Garden  13574.806234  6.775876e+06  \n",
       "\n",
       "[5 rows x 22 columns]"
      ]
     },
     "execution_count": 53,
     "metadata": {},
     "output_type": "execute_result"
    }
   ],
   "source": [
    "joined.head()"
   ]
  },
  {
   "cell_type": "markdown",
   "metadata": {},
   "source": [
    "  \n",
    "<b>Challenge: :</b> \n",
    "    \n",
    "* <span style='font-family:Georgia'> Can you count how many incidents are with in each neighbourhood? \n",
    "   \n",
    "* <span style='font-family:Georgia'>  You might use Pandas groupby  using NAME column and then calculate the size. * You will end up with a Series Datatype so you might also covert this to pandas dataframe using to_frame().reset_index.\n",
    "    \n",
    "* <span style='font-family:Georgia'>You can also give the your columns names using DF.columns = [\"XXX\", \"YYY\"].\n",
    "\n",
    "    \n",
    "</div>\n"
   ]
  },
  {
   "cell_type": "code",
   "execution_count": 65,
   "metadata": {},
   "outputs": [],
   "source": [
    "def get_incidents_per_area(gdf,name_col):\n",
    "    grouped = gdf.groupby(name_col)\n",
    "    grouped = grouped['NAME']\n",
    "    grouped.columns = ['COUNT']\n",
    "    return grouped.count()"
   ]
  },
  {
   "cell_type": "code",
   "execution_count": 66,
   "metadata": {},
   "outputs": [],
   "source": [
    "counts = get_incidents_per_area(gdf=joined, name_col='NAME')"
   ]
  },
  {
   "cell_type": "code",
   "execution_count": 82,
   "metadata": {},
   "outputs": [
    {
     "data": {
      "text/html": [
       "<div>\n",
       "<style scoped>\n",
       "    .dataframe tbody tr th:only-of-type {\n",
       "        vertical-align: middle;\n",
       "    }\n",
       "\n",
       "    .dataframe tbody tr th {\n",
       "        vertical-align: top;\n",
       "    }\n",
       "\n",
       "    .dataframe thead th {\n",
       "        text-align: right;\n",
       "    }\n",
       "</style>\n",
       "<table border=\"1\" class=\"dataframe\">\n",
       "  <thead>\n",
       "    <tr style=\"text-align: right;\">\n",
       "      <th></th>\n",
       "      <th>NAME</th>\n",
       "    </tr>\n",
       "    <tr>\n",
       "      <th>NAME</th>\n",
       "      <th></th>\n",
       "    </tr>\n",
       "  </thead>\n",
       "  <tbody>\n",
       "    <tr>\n",
       "      <th>ACADEMY_GARDENS</th>\n",
       "      <td>81</td>\n",
       "    </tr>\n",
       "    <tr>\n",
       "      <th>AIRPORT</th>\n",
       "      <td>162</td>\n",
       "    </tr>\n",
       "    <tr>\n",
       "      <th>ALLEGHENY_WEST</th>\n",
       "      <td>924</td>\n",
       "    </tr>\n",
       "    <tr>\n",
       "      <th>ANDORRA</th>\n",
       "      <td>56</td>\n",
       "    </tr>\n",
       "    <tr>\n",
       "      <th>ASTON_WOODBRIDGE</th>\n",
       "      <td>74</td>\n",
       "    </tr>\n",
       "    <tr>\n",
       "      <th>...</th>\n",
       "      <td>...</td>\n",
       "    </tr>\n",
       "    <tr>\n",
       "      <th>WISTER</th>\n",
       "      <td>272</td>\n",
       "    </tr>\n",
       "    <tr>\n",
       "      <th>WOODLAND_TERRACE</th>\n",
       "      <td>26</td>\n",
       "    </tr>\n",
       "    <tr>\n",
       "      <th>WYNNEFIELD</th>\n",
       "      <td>456</td>\n",
       "    </tr>\n",
       "    <tr>\n",
       "      <th>WYNNEFIELD_HEIGHTS</th>\n",
       "      <td>210</td>\n",
       "    </tr>\n",
       "    <tr>\n",
       "      <th>YORKTOWN</th>\n",
       "      <td>211</td>\n",
       "    </tr>\n",
       "  </tbody>\n",
       "</table>\n",
       "<p>158 rows × 1 columns</p>\n",
       "</div>"
      ],
      "text/plain": [
       "                    NAME\n",
       "NAME                    \n",
       "ACADEMY_GARDENS       81\n",
       "AIRPORT              162\n",
       "ALLEGHENY_WEST       924\n",
       "ANDORRA               56\n",
       "ASTON_WOODBRIDGE      74\n",
       "...                  ...\n",
       "WISTER               272\n",
       "WOODLAND_TERRACE      26\n",
       "WYNNEFIELD           456\n",
       "WYNNEFIELD_HEIGHTS   210\n",
       "YORKTOWN             211\n",
       "\n",
       "[158 rows x 1 columns]"
      ]
     },
     "execution_count": 82,
     "metadata": {},
     "output_type": "execute_result"
    }
   ],
   "source": [
    "counts = pd.DataFrame(counts)\n",
    "counts"
   ]
  },
  {
   "cell_type": "markdown",
   "metadata": {},
   "source": [
    "\n",
    "    \n",
    "* <span style='font-family:Georgia'> How many Incidents are in BREWERYTOWN\t neighbourhood.\n",
    " \n",
    "</div>"
   ]
  },
  {
   "cell_type": "code",
   "execution_count": 83,
   "metadata": {},
   "outputs": [
    {
     "data": {
      "text/html": [
       "<div>\n",
       "<style scoped>\n",
       "    .dataframe tbody tr th:only-of-type {\n",
       "        vertical-align: middle;\n",
       "    }\n",
       "\n",
       "    .dataframe tbody tr th {\n",
       "        vertical-align: top;\n",
       "    }\n",
       "\n",
       "    .dataframe thead th {\n",
       "        text-align: right;\n",
       "    }\n",
       "</style>\n",
       "<table border=\"1\" class=\"dataframe\">\n",
       "  <thead>\n",
       "    <tr style=\"text-align: right;\">\n",
       "      <th></th>\n",
       "      <th>NAME</th>\n",
       "    </tr>\n",
       "    <tr>\n",
       "      <th>NAME</th>\n",
       "      <th></th>\n",
       "    </tr>\n",
       "  </thead>\n",
       "  <tbody>\n",
       "    <tr>\n",
       "      <th>BREWERYTOWN</th>\n",
       "      <td>451</td>\n",
       "    </tr>\n",
       "  </tbody>\n",
       "</table>\n",
       "</div>"
      ],
      "text/plain": [
       "             NAME\n",
       "NAME             \n",
       "BREWERYTOWN   451"
      ]
     },
     "execution_count": 83,
     "metadata": {},
     "output_type": "execute_result"
    }
   ],
   "source": [
    "counts[counts.index == 'BREWERYTOWN']"
   ]
  },
  {
   "cell_type": "markdown",
   "metadata": {},
   "source": [
    "\n",
    "* <span style='font-family:Georgia'> Which Neighbourhood has the lowest Crime incidents? Which Neighbourhood has the highest Crime incidents?\n",
    "\n",
    " \n",
    "</div>"
   ]
  },
  {
   "cell_type": "code",
   "execution_count": 88,
   "metadata": {},
   "outputs": [
    {
     "data": {
      "text/html": [
       "<div>\n",
       "<style scoped>\n",
       "    .dataframe tbody tr th:only-of-type {\n",
       "        vertical-align: middle;\n",
       "    }\n",
       "\n",
       "    .dataframe tbody tr th {\n",
       "        vertical-align: top;\n",
       "    }\n",
       "\n",
       "    .dataframe thead th {\n",
       "        text-align: right;\n",
       "    }\n",
       "</style>\n",
       "<table border=\"1\" class=\"dataframe\">\n",
       "  <thead>\n",
       "    <tr style=\"text-align: right;\">\n",
       "      <th></th>\n",
       "      <th>NAME</th>\n",
       "    </tr>\n",
       "    <tr>\n",
       "      <th>NAME</th>\n",
       "      <th></th>\n",
       "    </tr>\n",
       "  </thead>\n",
       "  <tbody>\n",
       "    <tr>\n",
       "      <th>MECHANICSVILLE</th>\n",
       "      <td>3</td>\n",
       "    </tr>\n",
       "  </tbody>\n",
       "</table>\n",
       "</div>"
      ],
      "text/plain": [
       "                NAME\n",
       "NAME                \n",
       "MECHANICSVILLE     3"
      ]
     },
     "execution_count": 88,
     "metadata": {},
     "output_type": "execute_result"
    }
   ],
   "source": [
    "counts[counts.NAME == counts.NAME.min()]"
   ]
  },
  {
   "cell_type": "code",
   "execution_count": 89,
   "metadata": {},
   "outputs": [
    {
     "data": {
      "text/html": [
       "<div>\n",
       "<style scoped>\n",
       "    .dataframe tbody tr th:only-of-type {\n",
       "        vertical-align: middle;\n",
       "    }\n",
       "\n",
       "    .dataframe tbody tr th {\n",
       "        vertical-align: top;\n",
       "    }\n",
       "\n",
       "    .dataframe thead th {\n",
       "        text-align: right;\n",
       "    }\n",
       "</style>\n",
       "<table border=\"1\" class=\"dataframe\">\n",
       "  <thead>\n",
       "    <tr style=\"text-align: right;\">\n",
       "      <th></th>\n",
       "      <th>NAME</th>\n",
       "    </tr>\n",
       "    <tr>\n",
       "      <th>NAME</th>\n",
       "      <th></th>\n",
       "    </tr>\n",
       "  </thead>\n",
       "  <tbody>\n",
       "    <tr>\n",
       "      <th>UPPER_KENSINGTON</th>\n",
       "      <td>2228</td>\n",
       "    </tr>\n",
       "  </tbody>\n",
       "</table>\n",
       "</div>"
      ],
      "text/plain": [
       "                  NAME\n",
       "NAME                  \n",
       "UPPER_KENSINGTON  2228"
      ]
     },
     "execution_count": 89,
     "metadata": {},
     "output_type": "execute_result"
    }
   ],
   "source": [
    "counts[counts.NAME == counts.NAME.max()]"
   ]
  },
  {
   "cell_type": "markdown",
   "metadata": {},
   "source": [
    "\n",
    "    \n",
    "    MECHANICSVILLE Has only 3 incidents which is the lowest crime incidents per Neighbourhood.\n",
    "    \n",
    "    \n",
    "    UPPER_KENSINGTON has the Highest crime incidents in Philly with a record 2225 crime incidents.\n",
    "</div>\n"
   ]
  },
  {
   "cell_type": "markdown",
   "metadata": {},
   "source": [
    "\n",
    "    \n",
    "* <span style='font-family:Georgia'> Join the grouped count dataframe with the Original Neighbourhoods - the grouped data is Pandas dataframe and the Neighoburhoods are Geodataframe) So you can use a normal pandas merge. \n",
    "    \n",
    "* <span style='font-family:Georgia'> Use XXXX.merge(df, on=\"NAME\", how=\"outer\") --> XXXX is the Geodataframe. \n",
    "\n",
    "\n",
    " \n",
    "</div>"
   ]
  },
  {
   "cell_type": "code",
   "execution_count": 100,
   "metadata": {
    "collapsed": true,
    "jupyter": {
     "outputs_hidden": true
    },
    "tags": []
   },
   "outputs": [
    {
     "ename": "ValueError",
     "evalue": "Length mismatch: Expected axis has 2 elements, new values have 1 elements",
     "output_type": "error",
     "traceback": [
      "\u001b[0;31m---------------------------------------------------------------------------\u001b[0m",
      "\u001b[0;31mValueError\u001b[0m                                Traceback (most recent call last)",
      "Input \u001b[0;32mIn [100]\u001b[0m, in \u001b[0;36m<cell line: 1>\u001b[0;34m()\u001b[0m\n\u001b[0;32m----> 1\u001b[0m counts\u001b[38;5;241m.\u001b[39mcolumns \u001b[38;5;241m=\u001b[39m [\u001b[38;5;124m'\u001b[39m\u001b[38;5;124mCOUNT\u001b[39m\u001b[38;5;124m'\u001b[39m]\n\u001b[1;32m      2\u001b[0m counts \u001b[38;5;241m=\u001b[39m counts\u001b[38;5;241m.\u001b[39mreset_index()\n",
      "File \u001b[0;32m/opt/anaconda3/envs/spatial-ds-ws/lib/python3.9/site-packages/pandas/core/generic.py:5915\u001b[0m, in \u001b[0;36mNDFrame.__setattr__\u001b[0;34m(self, name, value)\u001b[0m\n\u001b[1;32m   5913\u001b[0m \u001b[38;5;28;01mtry\u001b[39;00m:\n\u001b[1;32m   5914\u001b[0m     \u001b[38;5;28mobject\u001b[39m\u001b[38;5;241m.\u001b[39m\u001b[38;5;21m__getattribute__\u001b[39m(\u001b[38;5;28mself\u001b[39m, name)\n\u001b[0;32m-> 5915\u001b[0m     \u001b[38;5;28;01mreturn\u001b[39;00m \u001b[38;5;28;43mobject\u001b[39;49m\u001b[38;5;241;43m.\u001b[39;49m\u001b[38;5;21;43m__setattr__\u001b[39;49m\u001b[43m(\u001b[49m\u001b[38;5;28;43mself\u001b[39;49m\u001b[43m,\u001b[49m\u001b[43m \u001b[49m\u001b[43mname\u001b[49m\u001b[43m,\u001b[49m\u001b[43m \u001b[49m\u001b[43mvalue\u001b[49m\u001b[43m)\u001b[49m\n\u001b[1;32m   5916\u001b[0m \u001b[38;5;28;01mexcept\u001b[39;00m \u001b[38;5;167;01mAttributeError\u001b[39;00m:\n\u001b[1;32m   5917\u001b[0m     \u001b[38;5;28;01mpass\u001b[39;00m\n",
      "File \u001b[0;32m/opt/anaconda3/envs/spatial-ds-ws/lib/python3.9/site-packages/pandas/_libs/properties.pyx:69\u001b[0m, in \u001b[0;36mpandas._libs.properties.AxisProperty.__set__\u001b[0;34m()\u001b[0m\n",
      "File \u001b[0;32m/opt/anaconda3/envs/spatial-ds-ws/lib/python3.9/site-packages/pandas/core/generic.py:823\u001b[0m, in \u001b[0;36mNDFrame._set_axis\u001b[0;34m(self, axis, labels)\u001b[0m\n\u001b[1;32m    821\u001b[0m \u001b[38;5;28;01mdef\u001b[39;00m \u001b[38;5;21m_set_axis\u001b[39m(\u001b[38;5;28mself\u001b[39m, axis: \u001b[38;5;28mint\u001b[39m, labels: AnyArrayLike \u001b[38;5;241m|\u001b[39m \u001b[38;5;28mlist\u001b[39m) \u001b[38;5;241m-\u001b[39m\u001b[38;5;241m>\u001b[39m \u001b[38;5;28;01mNone\u001b[39;00m:\n\u001b[1;32m    822\u001b[0m     labels \u001b[38;5;241m=\u001b[39m ensure_index(labels)\n\u001b[0;32m--> 823\u001b[0m     \u001b[38;5;28;43mself\u001b[39;49m\u001b[38;5;241;43m.\u001b[39;49m\u001b[43m_mgr\u001b[49m\u001b[38;5;241;43m.\u001b[39;49m\u001b[43mset_axis\u001b[49m\u001b[43m(\u001b[49m\u001b[43maxis\u001b[49m\u001b[43m,\u001b[49m\u001b[43m \u001b[49m\u001b[43mlabels\u001b[49m\u001b[43m)\u001b[49m\n\u001b[1;32m    824\u001b[0m     \u001b[38;5;28mself\u001b[39m\u001b[38;5;241m.\u001b[39m_clear_item_cache()\n",
      "File \u001b[0;32m/opt/anaconda3/envs/spatial-ds-ws/lib/python3.9/site-packages/pandas/core/internals/managers.py:230\u001b[0m, in \u001b[0;36mBaseBlockManager.set_axis\u001b[0;34m(self, axis, new_labels)\u001b[0m\n\u001b[1;32m    228\u001b[0m \u001b[38;5;28;01mdef\u001b[39;00m \u001b[38;5;21mset_axis\u001b[39m(\u001b[38;5;28mself\u001b[39m, axis: \u001b[38;5;28mint\u001b[39m, new_labels: Index) \u001b[38;5;241m-\u001b[39m\u001b[38;5;241m>\u001b[39m \u001b[38;5;28;01mNone\u001b[39;00m:\n\u001b[1;32m    229\u001b[0m     \u001b[38;5;66;03m# Caller is responsible for ensuring we have an Index object.\u001b[39;00m\n\u001b[0;32m--> 230\u001b[0m     \u001b[38;5;28;43mself\u001b[39;49m\u001b[38;5;241;43m.\u001b[39;49m\u001b[43m_validate_set_axis\u001b[49m\u001b[43m(\u001b[49m\u001b[43maxis\u001b[49m\u001b[43m,\u001b[49m\u001b[43m \u001b[49m\u001b[43mnew_labels\u001b[49m\u001b[43m)\u001b[49m\n\u001b[1;32m    231\u001b[0m     \u001b[38;5;28mself\u001b[39m\u001b[38;5;241m.\u001b[39maxes[axis] \u001b[38;5;241m=\u001b[39m new_labels\n",
      "File \u001b[0;32m/opt/anaconda3/envs/spatial-ds-ws/lib/python3.9/site-packages/pandas/core/internals/base.py:70\u001b[0m, in \u001b[0;36mDataManager._validate_set_axis\u001b[0;34m(self, axis, new_labels)\u001b[0m\n\u001b[1;32m     67\u001b[0m     \u001b[38;5;28;01mpass\u001b[39;00m\n\u001b[1;32m     69\u001b[0m \u001b[38;5;28;01melif\u001b[39;00m new_len \u001b[38;5;241m!=\u001b[39m old_len:\n\u001b[0;32m---> 70\u001b[0m     \u001b[38;5;28;01mraise\u001b[39;00m \u001b[38;5;167;01mValueError\u001b[39;00m(\n\u001b[1;32m     71\u001b[0m         \u001b[38;5;124mf\u001b[39m\u001b[38;5;124m\"\u001b[39m\u001b[38;5;124mLength mismatch: Expected axis has \u001b[39m\u001b[38;5;132;01m{\u001b[39;00mold_len\u001b[38;5;132;01m}\u001b[39;00m\u001b[38;5;124m elements, new \u001b[39m\u001b[38;5;124m\"\u001b[39m\n\u001b[1;32m     72\u001b[0m         \u001b[38;5;124mf\u001b[39m\u001b[38;5;124m\"\u001b[39m\u001b[38;5;124mvalues have \u001b[39m\u001b[38;5;132;01m{\u001b[39;00mnew_len\u001b[38;5;132;01m}\u001b[39;00m\u001b[38;5;124m elements\u001b[39m\u001b[38;5;124m\"\u001b[39m\n\u001b[1;32m     73\u001b[0m     )\n",
      "\u001b[0;31mValueError\u001b[0m: Length mismatch: Expected axis has 2 elements, new values have 1 elements"
     ]
    }
   ],
   "source": [
    "counts.columns = ['COUNT']\n",
    "counts = counts.reset_index()"
   ]
  },
  {
   "cell_type": "code",
   "execution_count": 101,
   "metadata": {},
   "outputs": [
    {
     "data": {
      "text/html": [
       "<div>\n",
       "<style scoped>\n",
       "    .dataframe tbody tr th:only-of-type {\n",
       "        vertical-align: middle;\n",
       "    }\n",
       "\n",
       "    .dataframe tbody tr th {\n",
       "        vertical-align: top;\n",
       "    }\n",
       "\n",
       "    .dataframe thead th {\n",
       "        text-align: right;\n",
       "    }\n",
       "</style>\n",
       "<table border=\"1\" class=\"dataframe\">\n",
       "  <thead>\n",
       "    <tr style=\"text-align: right;\">\n",
       "      <th></th>\n",
       "      <th>NAME</th>\n",
       "      <th>COUNT</th>\n",
       "    </tr>\n",
       "  </thead>\n",
       "  <tbody>\n",
       "    <tr>\n",
       "      <th>0</th>\n",
       "      <td>ACADEMY_GARDENS</td>\n",
       "      <td>81</td>\n",
       "    </tr>\n",
       "    <tr>\n",
       "      <th>1</th>\n",
       "      <td>AIRPORT</td>\n",
       "      <td>162</td>\n",
       "    </tr>\n",
       "    <tr>\n",
       "      <th>2</th>\n",
       "      <td>ALLEGHENY_WEST</td>\n",
       "      <td>924</td>\n",
       "    </tr>\n",
       "    <tr>\n",
       "      <th>3</th>\n",
       "      <td>ANDORRA</td>\n",
       "      <td>56</td>\n",
       "    </tr>\n",
       "    <tr>\n",
       "      <th>4</th>\n",
       "      <td>ASTON_WOODBRIDGE</td>\n",
       "      <td>74</td>\n",
       "    </tr>\n",
       "    <tr>\n",
       "      <th>...</th>\n",
       "      <td>...</td>\n",
       "      <td>...</td>\n",
       "    </tr>\n",
       "    <tr>\n",
       "      <th>153</th>\n",
       "      <td>WISTER</td>\n",
       "      <td>272</td>\n",
       "    </tr>\n",
       "    <tr>\n",
       "      <th>154</th>\n",
       "      <td>WOODLAND_TERRACE</td>\n",
       "      <td>26</td>\n",
       "    </tr>\n",
       "    <tr>\n",
       "      <th>155</th>\n",
       "      <td>WYNNEFIELD</td>\n",
       "      <td>456</td>\n",
       "    </tr>\n",
       "    <tr>\n",
       "      <th>156</th>\n",
       "      <td>WYNNEFIELD_HEIGHTS</td>\n",
       "      <td>210</td>\n",
       "    </tr>\n",
       "    <tr>\n",
       "      <th>157</th>\n",
       "      <td>YORKTOWN</td>\n",
       "      <td>211</td>\n",
       "    </tr>\n",
       "  </tbody>\n",
       "</table>\n",
       "<p>158 rows × 2 columns</p>\n",
       "</div>"
      ],
      "text/plain": [
       "                   NAME  COUNT\n",
       "0       ACADEMY_GARDENS     81\n",
       "1               AIRPORT    162\n",
       "2        ALLEGHENY_WEST    924\n",
       "3               ANDORRA     56\n",
       "4      ASTON_WOODBRIDGE     74\n",
       "..                  ...    ...\n",
       "153              WISTER    272\n",
       "154    WOODLAND_TERRACE     26\n",
       "155          WYNNEFIELD    456\n",
       "156  WYNNEFIELD_HEIGHTS    210\n",
       "157            YORKTOWN    211\n",
       "\n",
       "[158 rows x 2 columns]"
      ]
     },
     "execution_count": 101,
     "metadata": {},
     "output_type": "execute_result"
    }
   ],
   "source": [
    "counts"
   ]
  },
  {
   "cell_type": "code",
   "execution_count": 103,
   "metadata": {},
   "outputs": [
    {
     "data": {
      "text/html": [
       "<div>\n",
       "<style scoped>\n",
       "    .dataframe tbody tr th:only-of-type {\n",
       "        vertical-align: middle;\n",
       "    }\n",
       "\n",
       "    .dataframe tbody tr th {\n",
       "        vertical-align: top;\n",
       "    }\n",
       "\n",
       "    .dataframe thead th {\n",
       "        text-align: right;\n",
       "    }\n",
       "</style>\n",
       "<table border=\"1\" class=\"dataframe\">\n",
       "  <thead>\n",
       "    <tr style=\"text-align: right;\">\n",
       "      <th></th>\n",
       "      <th>NAME</th>\n",
       "      <th>LISTNAME</th>\n",
       "      <th>MAPNAME</th>\n",
       "      <th>Shape_Leng</th>\n",
       "      <th>Shape_Area</th>\n",
       "      <th>geometry</th>\n",
       "    </tr>\n",
       "  </thead>\n",
       "  <tbody>\n",
       "    <tr>\n",
       "      <th>0</th>\n",
       "      <td>BRIDESBURG</td>\n",
       "      <td>Bridesburg</td>\n",
       "      <td>Bridesburg</td>\n",
       "      <td>27814.546521</td>\n",
       "      <td>4.458626e+07</td>\n",
       "      <td>POLYGON ((2719789.837 256235.538, 2719814.855 ...</td>\n",
       "    </tr>\n",
       "    <tr>\n",
       "      <th>1</th>\n",
       "      <td>BUSTLETON</td>\n",
       "      <td>Bustleton</td>\n",
       "      <td>Bustleton</td>\n",
       "      <td>48868.458365</td>\n",
       "      <td>1.140504e+08</td>\n",
       "      <td>POLYGON ((2733378.171 289259.945, 2732818.985 ...</td>\n",
       "    </tr>\n",
       "    <tr>\n",
       "      <th>2</th>\n",
       "      <td>CEDARBROOK</td>\n",
       "      <td>Cedarbrook</td>\n",
       "      <td>Cedarbrook</td>\n",
       "      <td>20021.415802</td>\n",
       "      <td>2.487174e+07</td>\n",
       "      <td>POLYGON ((2685267.950 279747.336, 2685272.265 ...</td>\n",
       "    </tr>\n",
       "    <tr>\n",
       "      <th>3</th>\n",
       "      <td>CHESTNUT_HILL</td>\n",
       "      <td>Chestnut Hill</td>\n",
       "      <td>Chestnut Hill</td>\n",
       "      <td>56394.297195</td>\n",
       "      <td>7.966498e+07</td>\n",
       "      <td>POLYGON ((2678490.151 284400.400, 2678518.732 ...</td>\n",
       "    </tr>\n",
       "    <tr>\n",
       "      <th>4</th>\n",
       "      <td>EAST_FALLS</td>\n",
       "      <td>East Falls</td>\n",
       "      <td>East Falls</td>\n",
       "      <td>27400.776417</td>\n",
       "      <td>4.057689e+07</td>\n",
       "      <td>POLYGON ((2686769.727 263625.367, 2686921.108 ...</td>\n",
       "    </tr>\n",
       "    <tr>\n",
       "      <th>...</th>\n",
       "      <td>...</td>\n",
       "      <td>...</td>\n",
       "      <td>...</td>\n",
       "      <td>...</td>\n",
       "      <td>...</td>\n",
       "      <td>...</td>\n",
       "    </tr>\n",
       "    <tr>\n",
       "      <th>153</th>\n",
       "      <td>PACKER_PARK</td>\n",
       "      <td>Packer Park</td>\n",
       "      <td>Packer Park</td>\n",
       "      <td>21816.017948</td>\n",
       "      <td>2.888897e+07</td>\n",
       "      <td>POLYGON ((2688281.903 221811.423, 2688786.625 ...</td>\n",
       "    </tr>\n",
       "    <tr>\n",
       "      <th>154</th>\n",
       "      <td>PENNSPORT</td>\n",
       "      <td>Pennsport</td>\n",
       "      <td>Pennsport</td>\n",
       "      <td>11823.233108</td>\n",
       "      <td>6.492473e+06</td>\n",
       "      <td>POLYGON ((2698530.956 228135.894, 2698201.040 ...</td>\n",
       "    </tr>\n",
       "    <tr>\n",
       "      <th>155</th>\n",
       "      <td>NEWBOLD</td>\n",
       "      <td>Newbold</td>\n",
       "      <td>Newbold</td>\n",
       "      <td>10052.570885</td>\n",
       "      <td>5.876853e+06</td>\n",
       "      <td>POLYGON ((2692068.040 225421.124, 2691999.284 ...</td>\n",
       "    </tr>\n",
       "    <tr>\n",
       "      <th>156</th>\n",
       "      <td>WEST_PASSYUNK</td>\n",
       "      <td>West Passyunk</td>\n",
       "      <td>West Passyunk</td>\n",
       "      <td>10499.291848</td>\n",
       "      <td>6.494799e+06</td>\n",
       "      <td>POLYGON ((2690249.664 225781.392, 2689781.764 ...</td>\n",
       "    </tr>\n",
       "    <tr>\n",
       "      <th>157</th>\n",
       "      <td>EAST_PASSYUNK</td>\n",
       "      <td>East Passyunk</td>\n",
       "      <td>East Passyunk</td>\n",
       "      <td>10987.761846</td>\n",
       "      <td>6.502097e+06</td>\n",
       "      <td>POLYGON ((2695654.654 227659.753, 2695591.110 ...</td>\n",
       "    </tr>\n",
       "  </tbody>\n",
       "</table>\n",
       "<p>158 rows × 6 columns</p>\n",
       "</div>"
      ],
      "text/plain": [
       "              NAME       LISTNAME        MAPNAME    Shape_Leng    Shape_Area  \\\n",
       "0       BRIDESBURG     Bridesburg     Bridesburg  27814.546521  4.458626e+07   \n",
       "1        BUSTLETON      Bustleton      Bustleton  48868.458365  1.140504e+08   \n",
       "2       CEDARBROOK     Cedarbrook     Cedarbrook  20021.415802  2.487174e+07   \n",
       "3    CHESTNUT_HILL  Chestnut Hill  Chestnut Hill  56394.297195  7.966498e+07   \n",
       "4       EAST_FALLS     East Falls     East Falls  27400.776417  4.057689e+07   \n",
       "..             ...            ...            ...           ...           ...   \n",
       "153    PACKER_PARK    Packer Park    Packer Park  21816.017948  2.888897e+07   \n",
       "154      PENNSPORT      Pennsport      Pennsport  11823.233108  6.492473e+06   \n",
       "155        NEWBOLD        Newbold        Newbold  10052.570885  5.876853e+06   \n",
       "156  WEST_PASSYUNK  West Passyunk  West Passyunk  10499.291848  6.494799e+06   \n",
       "157  EAST_PASSYUNK  East Passyunk  East Passyunk  10987.761846  6.502097e+06   \n",
       "\n",
       "                                              geometry  \n",
       "0    POLYGON ((2719789.837 256235.538, 2719814.855 ...  \n",
       "1    POLYGON ((2733378.171 289259.945, 2732818.985 ...  \n",
       "2    POLYGON ((2685267.950 279747.336, 2685272.265 ...  \n",
       "3    POLYGON ((2678490.151 284400.400, 2678518.732 ...  \n",
       "4    POLYGON ((2686769.727 263625.367, 2686921.108 ...  \n",
       "..                                                 ...  \n",
       "153  POLYGON ((2688281.903 221811.423, 2688786.625 ...  \n",
       "154  POLYGON ((2698530.956 228135.894, 2698201.040 ...  \n",
       "155  POLYGON ((2692068.040 225421.124, 2691999.284 ...  \n",
       "156  POLYGON ((2690249.664 225781.392, 2689781.764 ...  \n",
       "157  POLYGON ((2695654.654 227659.753, 2695591.110 ...  \n",
       "\n",
       "[158 rows x 6 columns]"
      ]
     },
     "execution_count": 103,
     "metadata": {},
     "output_type": "execute_result"
    }
   ],
   "source": [
    "neighbor"
   ]
  },
  {
   "cell_type": "code",
   "execution_count": 112,
   "metadata": {},
   "outputs": [],
   "source": [
    "neighbor.NAME = neighbor.NAME.astype(str)"
   ]
  },
  {
   "cell_type": "code",
   "execution_count": 117,
   "metadata": {},
   "outputs": [],
   "source": [
    "counts.NAME = counts.NAME.astype(str)"
   ]
  },
  {
   "cell_type": "code",
   "execution_count": 120,
   "metadata": {
    "tags": []
   },
   "outputs": [
    {
     "data": {
      "text/html": [
       "<div>\n",
       "<style scoped>\n",
       "    .dataframe tbody tr th:only-of-type {\n",
       "        vertical-align: middle;\n",
       "    }\n",
       "\n",
       "    .dataframe tbody tr th {\n",
       "        vertical-align: top;\n",
       "    }\n",
       "\n",
       "    .dataframe thead th {\n",
       "        text-align: right;\n",
       "    }\n",
       "</style>\n",
       "<table border=\"1\" class=\"dataframe\">\n",
       "  <thead>\n",
       "    <tr style=\"text-align: right;\">\n",
       "      <th></th>\n",
       "      <th>NAME</th>\n",
       "      <th>LISTNAME</th>\n",
       "      <th>MAPNAME</th>\n",
       "      <th>Shape_Leng</th>\n",
       "      <th>Shape_Area</th>\n",
       "      <th>geometry</th>\n",
       "      <th>COUNT</th>\n",
       "    </tr>\n",
       "  </thead>\n",
       "  <tbody>\n",
       "    <tr>\n",
       "      <th>0</th>\n",
       "      <td>BRIDESBURG</td>\n",
       "      <td>Bridesburg</td>\n",
       "      <td>Bridesburg</td>\n",
       "      <td>27814.546521</td>\n",
       "      <td>4.458626e+07</td>\n",
       "      <td>POLYGON ((2719789.837 256235.538, 2719814.855 ...</td>\n",
       "      <td>142</td>\n",
       "    </tr>\n",
       "    <tr>\n",
       "      <th>1</th>\n",
       "      <td>BUSTLETON</td>\n",
       "      <td>Bustleton</td>\n",
       "      <td>Bustleton</td>\n",
       "      <td>48868.458365</td>\n",
       "      <td>1.140504e+08</td>\n",
       "      <td>POLYGON ((2733378.171 289259.945, 2732818.985 ...</td>\n",
       "      <td>413</td>\n",
       "    </tr>\n",
       "    <tr>\n",
       "      <th>2</th>\n",
       "      <td>CEDARBROOK</td>\n",
       "      <td>Cedarbrook</td>\n",
       "      <td>Cedarbrook</td>\n",
       "      <td>20021.415802</td>\n",
       "      <td>2.487174e+07</td>\n",
       "      <td>POLYGON ((2685267.950 279747.336, 2685272.265 ...</td>\n",
       "      <td>281</td>\n",
       "    </tr>\n",
       "    <tr>\n",
       "      <th>3</th>\n",
       "      <td>CHESTNUT_HILL</td>\n",
       "      <td>Chestnut Hill</td>\n",
       "      <td>Chestnut Hill</td>\n",
       "      <td>56394.297195</td>\n",
       "      <td>7.966498e+07</td>\n",
       "      <td>POLYGON ((2678490.151 284400.400, 2678518.732 ...</td>\n",
       "      <td>134</td>\n",
       "    </tr>\n",
       "    <tr>\n",
       "      <th>4</th>\n",
       "      <td>EAST_FALLS</td>\n",
       "      <td>East Falls</td>\n",
       "      <td>East Falls</td>\n",
       "      <td>27400.776417</td>\n",
       "      <td>4.057689e+07</td>\n",
       "      <td>POLYGON ((2686769.727 263625.367, 2686921.108 ...</td>\n",
       "      <td>279</td>\n",
       "    </tr>\n",
       "  </tbody>\n",
       "</table>\n",
       "</div>"
      ],
      "text/plain": [
       "            NAME       LISTNAME        MAPNAME    Shape_Leng    Shape_Area  \\\n",
       "0     BRIDESBURG     Bridesburg     Bridesburg  27814.546521  4.458626e+07   \n",
       "1      BUSTLETON      Bustleton      Bustleton  48868.458365  1.140504e+08   \n",
       "2     CEDARBROOK     Cedarbrook     Cedarbrook  20021.415802  2.487174e+07   \n",
       "3  CHESTNUT_HILL  Chestnut Hill  Chestnut Hill  56394.297195  7.966498e+07   \n",
       "4     EAST_FALLS     East Falls     East Falls  27400.776417  4.057689e+07   \n",
       "\n",
       "                                            geometry  COUNT  \n",
       "0  POLYGON ((2719789.837 256235.538, 2719814.855 ...    142  \n",
       "1  POLYGON ((2733378.171 289259.945, 2732818.985 ...    413  \n",
       "2  POLYGON ((2685267.950 279747.336, 2685272.265 ...    281  \n",
       "3  POLYGON ((2678490.151 284400.400, 2678518.732 ...    134  \n",
       "4  POLYGON ((2686769.727 263625.367, 2686921.108 ...    279  "
      ]
     },
     "execution_count": 120,
     "metadata": {},
     "output_type": "execute_result"
    }
   ],
   "source": [
    "neig_count = pd.merge(neighbor, counts, on='NAME', how='inner')\n",
    "neig_count.head()"
   ]
  },
  {
   "cell_type": "markdown",
   "metadata": {},
   "source": [
    "\n",
    "    \n",
    "* <span style='font-family:Georgia'> Check the type of the merged data ( Make sure it is GeoDataFrame)\n",
    "\n",
    " \n",
    "</div>"
   ]
  },
  {
   "cell_type": "code",
   "execution_count": 126,
   "metadata": {},
   "outputs": [
    {
     "name": "stdout",
     "output_type": "stream",
     "text": [
      "<class 'geopandas.geodataframe.GeoDataFrame'>\n"
     ]
    }
   ],
   "source": [
    "print(type(neig_count))"
   ]
  },
  {
   "cell_type": "markdown",
   "metadata": {},
   "source": [
    "\n",
    "* <span style='font-family:Georgia'>  Export the merged GeoDataframe as GeoJson, add driver='GeoJSON' in to_file() method. We will use this file Later\n",
    " \n",
    "</div>"
   ]
  },
  {
   "cell_type": "code",
   "execution_count": 127,
   "metadata": {},
   "outputs": [],
   "source": [
    "neig_count.to_file(f'{path}/outputs/neig_count.geojson', driver='GeoJSON')"
   ]
  }
 ],
 "metadata": {
  "hide_input": false,
  "kernelspec": {
   "display_name": "spatial-ds-ws",
   "language": "python",
   "name": "spatial-ds-ws"
  },
  "language_info": {
   "codemirror_mode": {
    "name": "ipython",
    "version": 3
   },
   "file_extension": ".py",
   "mimetype": "text/x-python",
   "name": "python",
   "nbconvert_exporter": "python",
   "pygments_lexer": "ipython3",
   "version": "3.9.15"
  }
 },
 "nbformat": 4,
 "nbformat_minor": 4
}
