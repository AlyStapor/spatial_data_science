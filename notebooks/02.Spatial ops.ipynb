{
 "cells": [
  {
   "cell_type": "markdown",
   "id": "933b6b04-2bf3-46c1-927e-436ffec6f447",
   "metadata": {},
   "source": [
    "### 2. Spatial Ops"
   ]
  },
  {
   "cell_type": "code",
   "execution_count": 57,
   "id": "df134ecb-03bc-4c88-a6b3-8b92e2672ee5",
   "metadata": {},
   "outputs": [],
   "source": [
    "import folium\n",
    "import geopandas as gpd\n",
    "import matplotlib.pyplot as plt\n",
    "import pandas as pd\n",
    "import os\n",
    "import pathlib\n",
    "\n",
    "from pyproj import Proj\n",
    "from shapely.ops import nearest_points\n",
    "from shapely.geometry import LineString"
   ]
  },
  {
   "cell_type": "code",
   "execution_count": 64,
   "id": "fb26e31e-465f-4616-b87f-1fdf072c268f",
   "metadata": {},
   "outputs": [],
   "source": [
    "os.chdir('..')\n",
    "path = pathlib.Path().resolve()"
   ]
  },
  {
   "cell_type": "markdown",
   "id": "f73d7eae-3278-40f0-b7a4-5963775cb3c0",
   "metadata": {},
   "source": [
    "#### 1. Spatial joins "
   ]
  },
  {
   "cell_type": "markdown",
   "id": "eb52eb04-bf50-4d96-861a-11b511a356b2",
   "metadata": {},
   "source": [
    "1.1. Load data"
   ]
  },
  {
   "cell_type": "code",
   "execution_count": 2,
   "id": "b782ca2c-b487-418c-a1ef-f53878830367",
   "metadata": {},
   "outputs": [],
   "source": [
    "countries = gpd.read_file(f'{path}/data/countries.shp')\n",
    "conflicts = gpd.read_file(f'{path}/data/acled2019.shp')"
   ]
  },
  {
   "cell_type": "code",
   "execution_count": 3,
   "id": "663a2c12-6f32-46d9-bb21-929ecd5d873a",
   "metadata": {},
   "outputs": [
    {
     "data": {
      "text/html": [
       "<div>\n",
       "<style scoped>\n",
       "    .dataframe tbody tr th:only-of-type {\n",
       "        vertical-align: middle;\n",
       "    }\n",
       "\n",
       "    .dataframe tbody tr th {\n",
       "        vertical-align: top;\n",
       "    }\n",
       "\n",
       "    .dataframe thead th {\n",
       "        text-align: right;\n",
       "    }\n",
       "</style>\n",
       "<table border=\"1\" class=\"dataframe\">\n",
       "  <thead>\n",
       "    <tr style=\"text-align: right;\">\n",
       "      <th></th>\n",
       "      <th>NAME</th>\n",
       "      <th>POP_EST</th>\n",
       "      <th>GDP_MD_EST</th>\n",
       "      <th>POP_YEAR</th>\n",
       "      <th>LASTCENSUS</th>\n",
       "      <th>GDP_YEAR</th>\n",
       "      <th>ECONOMY</th>\n",
       "      <th>INCOME_GRP</th>\n",
       "      <th>CONTINENT</th>\n",
       "      <th>REGION_UN</th>\n",
       "      <th>SUBREGION</th>\n",
       "      <th>geometry</th>\n",
       "    </tr>\n",
       "  </thead>\n",
       "  <tbody>\n",
       "    <tr>\n",
       "      <th>0</th>\n",
       "      <td>Indonesia</td>\n",
       "      <td>260580739</td>\n",
       "      <td>3028000.0</td>\n",
       "      <td>2017</td>\n",
       "      <td>2010</td>\n",
       "      <td>2016</td>\n",
       "      <td>4. Emerging region: MIKT</td>\n",
       "      <td>4. Lower middle income</td>\n",
       "      <td>Asia</td>\n",
       "      <td>Asia</td>\n",
       "      <td>South-Eastern Asia</td>\n",
       "      <td>MULTIPOLYGON (((117.70361 4.16341, 117.70361 4...</td>\n",
       "    </tr>\n",
       "    <tr>\n",
       "      <th>1</th>\n",
       "      <td>Malaysia</td>\n",
       "      <td>31381992</td>\n",
       "      <td>863000.0</td>\n",
       "      <td>2017</td>\n",
       "      <td>2010</td>\n",
       "      <td>2016</td>\n",
       "      <td>6. Developing region</td>\n",
       "      <td>3. Upper middle income</td>\n",
       "      <td>Asia</td>\n",
       "      <td>Asia</td>\n",
       "      <td>South-Eastern Asia</td>\n",
       "      <td>MULTIPOLYGON (((117.70361 4.16341, 117.69711 4...</td>\n",
       "    </tr>\n",
       "    <tr>\n",
       "      <th>2</th>\n",
       "      <td>Chile</td>\n",
       "      <td>17789267</td>\n",
       "      <td>436100.0</td>\n",
       "      <td>2017</td>\n",
       "      <td>2002</td>\n",
       "      <td>2016</td>\n",
       "      <td>5. Emerging region: G20</td>\n",
       "      <td>3. Upper middle income</td>\n",
       "      <td>South America</td>\n",
       "      <td>Americas</td>\n",
       "      <td>South America</td>\n",
       "      <td>MULTIPOLYGON (((-69.51009 -17.50659, -69.50611...</td>\n",
       "    </tr>\n",
       "    <tr>\n",
       "      <th>3</th>\n",
       "      <td>Bolivia</td>\n",
       "      <td>11138234</td>\n",
       "      <td>78350.0</td>\n",
       "      <td>2017</td>\n",
       "      <td>2001</td>\n",
       "      <td>2016</td>\n",
       "      <td>5. Emerging region: G20</td>\n",
       "      <td>4. Lower middle income</td>\n",
       "      <td>South America</td>\n",
       "      <td>Americas</td>\n",
       "      <td>South America</td>\n",
       "      <td>POLYGON ((-69.51009 -17.50659, -69.51009 -17.5...</td>\n",
       "    </tr>\n",
       "    <tr>\n",
       "      <th>4</th>\n",
       "      <td>Peru</td>\n",
       "      <td>31036656</td>\n",
       "      <td>410400.0</td>\n",
       "      <td>2017</td>\n",
       "      <td>2007</td>\n",
       "      <td>2016</td>\n",
       "      <td>5. Emerging region: G20</td>\n",
       "      <td>3. Upper middle income</td>\n",
       "      <td>South America</td>\n",
       "      <td>Americas</td>\n",
       "      <td>South America</td>\n",
       "      <td>MULTIPOLYGON (((-69.51009 -17.50659, -69.63832...</td>\n",
       "    </tr>\n",
       "  </tbody>\n",
       "</table>\n",
       "</div>"
      ],
      "text/plain": [
       "        NAME    POP_EST  GDP_MD_EST  POP_YEAR  LASTCENSUS  GDP_YEAR  \\\n",
       "0  Indonesia  260580739   3028000.0      2017        2010      2016   \n",
       "1   Malaysia   31381992    863000.0      2017        2010      2016   \n",
       "2      Chile   17789267    436100.0      2017        2002      2016   \n",
       "3    Bolivia   11138234     78350.0      2017        2001      2016   \n",
       "4       Peru   31036656    410400.0      2017        2007      2016   \n",
       "\n",
       "                    ECONOMY              INCOME_GRP      CONTINENT REGION_UN  \\\n",
       "0  4. Emerging region: MIKT  4. Lower middle income           Asia      Asia   \n",
       "1      6. Developing region  3. Upper middle income           Asia      Asia   \n",
       "2   5. Emerging region: G20  3. Upper middle income  South America  Americas   \n",
       "3   5. Emerging region: G20  4. Lower middle income  South America  Americas   \n",
       "4   5. Emerging region: G20  3. Upper middle income  South America  Americas   \n",
       "\n",
       "            SUBREGION                                           geometry  \n",
       "0  South-Eastern Asia  MULTIPOLYGON (((117.70361 4.16341, 117.70361 4...  \n",
       "1  South-Eastern Asia  MULTIPOLYGON (((117.70361 4.16341, 117.69711 4...  \n",
       "2       South America  MULTIPOLYGON (((-69.51009 -17.50659, -69.50611...  \n",
       "3       South America  POLYGON ((-69.51009 -17.50659, -69.51009 -17.5...  \n",
       "4       South America  MULTIPOLYGON (((-69.51009 -17.50659, -69.63832...  "
      ]
     },
     "execution_count": 3,
     "metadata": {},
     "output_type": "execute_result"
    }
   ],
   "source": [
    "countries.head()"
   ]
  },
  {
   "cell_type": "code",
   "execution_count": 4,
   "id": "0d01ba88-acf0-41dc-84f0-cf27120b9c0d",
   "metadata": {},
   "outputs": [
    {
     "data": {
      "text/html": [
       "<div>\n",
       "<style scoped>\n",
       "    .dataframe tbody tr th:only-of-type {\n",
       "        vertical-align: middle;\n",
       "    }\n",
       "\n",
       "    .dataframe tbody tr th {\n",
       "        vertical-align: top;\n",
       "    }\n",
       "\n",
       "    .dataframe thead th {\n",
       "        text-align: right;\n",
       "    }\n",
       "</style>\n",
       "<table border=\"1\" class=\"dataframe\">\n",
       "  <thead>\n",
       "    <tr style=\"text-align: right;\">\n",
       "      <th></th>\n",
       "      <th>data_id</th>\n",
       "      <th>iso</th>\n",
       "      <th>event_id_c</th>\n",
       "      <th>event_id_n</th>\n",
       "      <th>event_date</th>\n",
       "      <th>year</th>\n",
       "      <th>time_preci</th>\n",
       "      <th>event_type</th>\n",
       "      <th>sub_event_</th>\n",
       "      <th>actor1</th>\n",
       "      <th>...</th>\n",
       "      <th>latitude</th>\n",
       "      <th>longitude</th>\n",
       "      <th>geo_precis</th>\n",
       "      <th>source</th>\n",
       "      <th>source_sca</th>\n",
       "      <th>notes</th>\n",
       "      <th>fatalities</th>\n",
       "      <th>timestamp</th>\n",
       "      <th>iso3</th>\n",
       "      <th>geometry</th>\n",
       "    </tr>\n",
       "  </thead>\n",
       "  <tbody>\n",
       "    <tr>\n",
       "      <th>0</th>\n",
       "      <td>6768128</td>\n",
       "      <td>887</td>\n",
       "      <td>YEM45982</td>\n",
       "      <td>45982</td>\n",
       "      <td>31 December 2019</td>\n",
       "      <td>2019</td>\n",
       "      <td>1</td>\n",
       "      <td>Battles</td>\n",
       "      <td>Armed clash</td>\n",
       "      <td>Military Forces of Yemen (2012-)</td>\n",
       "      <td>...</td>\n",
       "      <td>14.3541</td>\n",
       "      <td>47.0765</td>\n",
       "      <td>2</td>\n",
       "      <td>Yemen Data Project; Aden al Ghad; Al Janoob al...</td>\n",
       "      <td>Local partner-National</td>\n",
       "      <td>On 31 December 2019, clashes reportedly erupte...</td>\n",
       "      <td>0</td>\n",
       "      <td>1580761030</td>\n",
       "      <td>YEM</td>\n",
       "      <td>POINT (47.07650 14.35410)</td>\n",
       "    </tr>\n",
       "    <tr>\n",
       "      <th>1</th>\n",
       "      <td>6768129</td>\n",
       "      <td>887</td>\n",
       "      <td>YEM45983</td>\n",
       "      <td>45983</td>\n",
       "      <td>31 December 2019</td>\n",
       "      <td>2019</td>\n",
       "      <td>1</td>\n",
       "      <td>Strategic developments</td>\n",
       "      <td>Change to group/activity</td>\n",
       "      <td>Military Forces of Yemen (2012-) Security Belt...</td>\n",
       "      <td>...</td>\n",
       "      <td>14.3541</td>\n",
       "      <td>47.0765</td>\n",
       "      <td>2</td>\n",
       "      <td>Al Janoob al Youm; Yemen Data Project</td>\n",
       "      <td>Local partner-National</td>\n",
       "      <td>On 31 December 2019, forces loyal to the South...</td>\n",
       "      <td>0</td>\n",
       "      <td>1580761030</td>\n",
       "      <td>YEM</td>\n",
       "      <td>POINT (47.07650 14.35410)</td>\n",
       "    </tr>\n",
       "    <tr>\n",
       "      <th>2</th>\n",
       "      <td>6768130</td>\n",
       "      <td>887</td>\n",
       "      <td>YEM45984</td>\n",
       "      <td>45984</td>\n",
       "      <td>31 December 2019</td>\n",
       "      <td>2019</td>\n",
       "      <td>1</td>\n",
       "      <td>Battles</td>\n",
       "      <td>Armed clash</td>\n",
       "      <td>Military Forces of Yemen (2012-)</td>\n",
       "      <td>...</td>\n",
       "      <td>14.2081</td>\n",
       "      <td>47.1570</td>\n",
       "      <td>1</td>\n",
       "      <td>Al Janoob al Youm; Aden al Ghad; Yemen Data Pr...</td>\n",
       "      <td>Local partner-National</td>\n",
       "      <td>On 31 December 2019, clashes reportedly erupte...</td>\n",
       "      <td>1</td>\n",
       "      <td>1580761030</td>\n",
       "      <td>YEM</td>\n",
       "      <td>POINT (47.15700 14.20810)</td>\n",
       "    </tr>\n",
       "    <tr>\n",
       "      <th>3</th>\n",
       "      <td>6715395</td>\n",
       "      <td>356</td>\n",
       "      <td>IND68948</td>\n",
       "      <td>68948</td>\n",
       "      <td>31 December 2019</td>\n",
       "      <td>2019</td>\n",
       "      <td>1</td>\n",
       "      <td>Protests</td>\n",
       "      <td>Peaceful protest</td>\n",
       "      <td>Protesters (India)</td>\n",
       "      <td>...</td>\n",
       "      <td>20.2724</td>\n",
       "      <td>85.8338</td>\n",
       "      <td>1</td>\n",
       "      <td>Pioneer (India)</td>\n",
       "      <td>National</td>\n",
       "      <td>On 31 December, students' wing of INC and Mili...</td>\n",
       "      <td>0</td>\n",
       "      <td>1578514389</td>\n",
       "      <td>IND</td>\n",
       "      <td>POINT (85.83380 20.27240)</td>\n",
       "    </tr>\n",
       "    <tr>\n",
       "      <th>4</th>\n",
       "      <td>6943236</td>\n",
       "      <td>222</td>\n",
       "      <td>SLV861</td>\n",
       "      <td>861</td>\n",
       "      <td>31 December 2019</td>\n",
       "      <td>2019</td>\n",
       "      <td>1</td>\n",
       "      <td>Violence against civilians</td>\n",
       "      <td>Attack</td>\n",
       "      <td>B-18: Barrio-18</td>\n",
       "      <td>...</td>\n",
       "      <td>13.5894</td>\n",
       "      <td>-89.2383</td>\n",
       "      <td>1</td>\n",
       "      <td>El Salvador.com</td>\n",
       "      <td>National</td>\n",
       "      <td>On 31th December 2019 in Huizucar (La Libertad...</td>\n",
       "      <td>1</td>\n",
       "      <td>1582839958</td>\n",
       "      <td>SLV</td>\n",
       "      <td>POINT (-89.23830 13.58940)</td>\n",
       "    </tr>\n",
       "  </tbody>\n",
       "</table>\n",
       "<p>5 rows × 32 columns</p>\n",
       "</div>"
      ],
      "text/plain": [
       "   data_id  iso event_id_c  event_id_n        event_date  year  time_preci  \\\n",
       "0  6768128  887   YEM45982       45982  31 December 2019  2019           1   \n",
       "1  6768129  887   YEM45983       45983  31 December 2019  2019           1   \n",
       "2  6768130  887   YEM45984       45984  31 December 2019  2019           1   \n",
       "3  6715395  356   IND68948       68948  31 December 2019  2019           1   \n",
       "4  6943236  222     SLV861         861  31 December 2019  2019           1   \n",
       "\n",
       "                   event_type                sub_event_  \\\n",
       "0                     Battles               Armed clash   \n",
       "1      Strategic developments  Change to group/activity   \n",
       "2                     Battles               Armed clash   \n",
       "3                    Protests          Peaceful protest   \n",
       "4  Violence against civilians                    Attack   \n",
       "\n",
       "                                              actor1  ... latitude  longitude  \\\n",
       "0                   Military Forces of Yemen (2012-)  ...  14.3541    47.0765   \n",
       "1  Military Forces of Yemen (2012-) Security Belt...  ...  14.3541    47.0765   \n",
       "2                   Military Forces of Yemen (2012-)  ...  14.2081    47.1570   \n",
       "3                                 Protesters (India)  ...  20.2724    85.8338   \n",
       "4                                    B-18: Barrio-18  ...  13.5894   -89.2383   \n",
       "\n",
       "  geo_precis                                             source  \\\n",
       "0          2  Yemen Data Project; Aden al Ghad; Al Janoob al...   \n",
       "1          2              Al Janoob al Youm; Yemen Data Project   \n",
       "2          1  Al Janoob al Youm; Aden al Ghad; Yemen Data Pr...   \n",
       "3          1                                    Pioneer (India)   \n",
       "4          1                                    El Salvador.com   \n",
       "\n",
       "               source_sca                                              notes  \\\n",
       "0  Local partner-National  On 31 December 2019, clashes reportedly erupte...   \n",
       "1  Local partner-National  On 31 December 2019, forces loyal to the South...   \n",
       "2  Local partner-National  On 31 December 2019, clashes reportedly erupte...   \n",
       "3                National  On 31 December, students' wing of INC and Mili...   \n",
       "4                National  On 31th December 2019 in Huizucar (La Libertad...   \n",
       "\n",
       "  fatalities   timestamp iso3                    geometry  \n",
       "0          0  1580761030  YEM   POINT (47.07650 14.35410)  \n",
       "1          0  1580761030  YEM   POINT (47.07650 14.35410)  \n",
       "2          1  1580761030  YEM   POINT (47.15700 14.20810)  \n",
       "3          0  1578514389  IND   POINT (85.83380 20.27240)  \n",
       "4          1  1582839958  SLV  POINT (-89.23830 13.58940)  \n",
       "\n",
       "[5 rows x 32 columns]"
      ]
     },
     "execution_count": 4,
     "metadata": {},
     "output_type": "execute_result"
    }
   ],
   "source": [
    "conflicts.head()"
   ]
  },
  {
   "cell_type": "markdown",
   "id": "b236f347-e341-4628-8590-d8620d7bc311",
   "metadata": {},
   "source": [
    "1.2. Regular Pandas merge"
   ]
  },
  {
   "cell_type": "code",
   "execution_count": 7,
   "id": "47601a83-dd10-48db-8127-fc071df2cba9",
   "metadata": {},
   "outputs": [],
   "source": [
    "country_shapes = countries[['geometry','NAME']]\n",
    "country_names = countries[['NAME','POP_EST']]"
   ]
  },
  {
   "cell_type": "markdown",
   "id": "85b61c9a-4108-4993-b7b5-6d52db68ac1a",
   "metadata": {},
   "source": [
    "It is regular Pandas merge. "
   ]
  },
  {
   "cell_type": "code",
   "execution_count": 10,
   "id": "a77b41c4-71ff-45ca-b029-a2d964e20585",
   "metadata": {},
   "outputs": [
    {
     "data": {
      "text/html": [
       "<div>\n",
       "<style scoped>\n",
       "    .dataframe tbody tr th:only-of-type {\n",
       "        vertical-align: middle;\n",
       "    }\n",
       "\n",
       "    .dataframe tbody tr th {\n",
       "        vertical-align: top;\n",
       "    }\n",
       "\n",
       "    .dataframe thead th {\n",
       "        text-align: right;\n",
       "    }\n",
       "</style>\n",
       "<table border=\"1\" class=\"dataframe\">\n",
       "  <thead>\n",
       "    <tr style=\"text-align: right;\">\n",
       "      <th></th>\n",
       "      <th>geometry</th>\n",
       "      <th>NAME</th>\n",
       "      <th>POP_EST</th>\n",
       "    </tr>\n",
       "  </thead>\n",
       "  <tbody>\n",
       "    <tr>\n",
       "      <th>0</th>\n",
       "      <td>MULTIPOLYGON (((117.70361 4.16341, 117.70361 4...</td>\n",
       "      <td>Indonesia</td>\n",
       "      <td>260580739</td>\n",
       "    </tr>\n",
       "    <tr>\n",
       "      <th>1</th>\n",
       "      <td>MULTIPOLYGON (((117.70361 4.16341, 117.69711 4...</td>\n",
       "      <td>Malaysia</td>\n",
       "      <td>31381992</td>\n",
       "    </tr>\n",
       "    <tr>\n",
       "      <th>2</th>\n",
       "      <td>MULTIPOLYGON (((-69.51009 -17.50659, -69.50611...</td>\n",
       "      <td>Chile</td>\n",
       "      <td>17789267</td>\n",
       "    </tr>\n",
       "    <tr>\n",
       "      <th>3</th>\n",
       "      <td>POLYGON ((-69.51009 -17.50659, -69.51009 -17.5...</td>\n",
       "      <td>Bolivia</td>\n",
       "      <td>11138234</td>\n",
       "    </tr>\n",
       "    <tr>\n",
       "      <th>4</th>\n",
       "      <td>MULTIPOLYGON (((-69.51009 -17.50659, -69.63832...</td>\n",
       "      <td>Peru</td>\n",
       "      <td>31036656</td>\n",
       "    </tr>\n",
       "  </tbody>\n",
       "</table>\n",
       "</div>"
      ],
      "text/plain": [
       "                                            geometry       NAME    POP_EST\n",
       "0  MULTIPOLYGON (((117.70361 4.16341, 117.70361 4...  Indonesia  260580739\n",
       "1  MULTIPOLYGON (((117.70361 4.16341, 117.69711 4...   Malaysia   31381992\n",
       "2  MULTIPOLYGON (((-69.51009 -17.50659, -69.50611...      Chile   17789267\n",
       "3  POLYGON ((-69.51009 -17.50659, -69.51009 -17.5...    Bolivia   11138234\n",
       "4  MULTIPOLYGON (((-69.51009 -17.50659, -69.63832...       Peru   31036656"
      ]
     },
     "execution_count": 10,
     "metadata": {},
     "output_type": "execute_result"
    }
   ],
   "source": [
    "merged = country_shapes.merge(country_names, on = 'NAME')\n",
    "merged.head()"
   ]
  },
  {
   "cell_type": "code",
   "execution_count": 11,
   "id": "56b5dd1c-081c-4838-a03f-7b90938e5d27",
   "metadata": {},
   "outputs": [
    {
     "data": {
      "text/plain": [
       "geopandas.geodataframe.GeoDataFrame"
      ]
     },
     "execution_count": 11,
     "metadata": {},
     "output_type": "execute_result"
    }
   ],
   "source": [
    "type(merged)"
   ]
  },
  {
   "cell_type": "markdown",
   "id": "0712b79c-a760-490f-bc77-a86ca7a2598a",
   "metadata": {},
   "source": [
    "1.3. Spatial join\n",
    "- method used is `.sjoin`"
   ]
  },
  {
   "cell_type": "code",
   "execution_count": 14,
   "id": "9df36831-57c3-4e38-ab8b-6b16b122f254",
   "metadata": {},
   "outputs": [
    {
     "data": {
      "text/plain": [
       "Index(['geometry', 'NAME', 'POP_EST'], dtype='object')"
      ]
     },
     "execution_count": 14,
     "metadata": {},
     "output_type": "execute_result"
    }
   ],
   "source": [
    "merged.columns"
   ]
  },
  {
   "cell_type": "code",
   "execution_count": 15,
   "id": "64242ec4-1901-42c6-9526-849532280ab8",
   "metadata": {},
   "outputs": [
    {
     "data": {
      "text/plain": [
       "Index(['data_id', 'iso', 'event_id_c', 'event_id_n', 'event_date', 'year',\n",
       "       'time_preci', 'event_type', 'sub_event_', 'actor1', 'assoc_acto',\n",
       "       'inter1', 'actor2', 'assoc_ac_1', 'inter2', 'interactio', 'region',\n",
       "       'country', 'admin1', 'admin2', 'admin3', 'location', 'latitude',\n",
       "       'longitude', 'geo_precis', 'source', 'source_sca', 'notes',\n",
       "       'fatalities', 'timestamp', 'iso3', 'geometry'],\n",
       "      dtype='object')"
      ]
     },
     "execution_count": 15,
     "metadata": {},
     "output_type": "execute_result"
    }
   ],
   "source": [
    "conflicts.columns"
   ]
  },
  {
   "cell_type": "markdown",
   "id": "95a29267-79ba-4311-ae25-c808f44b3f3b",
   "metadata": {},
   "source": [
    "- In the `sjoin` function we need to specify two GeoPandas dataframes.\n",
    "- `op` means `opstring` \n",
    "- object.within(other) Returns True if the object’s boundary and interior intersect only with the interior of the other (not its boundary or exterior).\n",
    "- In our case means that takes conflict point that are within a countires polygon. If we use `op=contain` and find out which countries contain the city points. "
   ]
  },
  {
   "cell_type": "code",
   "execution_count": 16,
   "id": "b4b87467-7252-41fa-bfbd-45a504f65763",
   "metadata": {},
   "outputs": [
    {
     "name": "stderr",
     "output_type": "stream",
     "text": [
      "/opt/anaconda3/envs/spatial-ds-ws/lib/python3.9/site-packages/IPython/core/interactiveshell.py:3337: FutureWarning: The `op` parameter is deprecated and will be removed in a future release. Please use the `predicate` parameter instead.\n",
      "  if await self.run_code(code, result, async_=asy):\n"
     ]
    }
   ],
   "source": [
    "conflicts_in_countries = gpd.sjoin(conflicts, country_shapes, how='inner', op='within')"
   ]
  },
  {
   "cell_type": "code",
   "execution_count": 17,
   "id": "b7a3c34c-1e56-4bac-8d00-8509fdf7e2ae",
   "metadata": {},
   "outputs": [
    {
     "data": {
      "text/html": [
       "<div>\n",
       "<style scoped>\n",
       "    .dataframe tbody tr th:only-of-type {\n",
       "        vertical-align: middle;\n",
       "    }\n",
       "\n",
       "    .dataframe tbody tr th {\n",
       "        vertical-align: top;\n",
       "    }\n",
       "\n",
       "    .dataframe thead th {\n",
       "        text-align: right;\n",
       "    }\n",
       "</style>\n",
       "<table border=\"1\" class=\"dataframe\">\n",
       "  <thead>\n",
       "    <tr style=\"text-align: right;\">\n",
       "      <th></th>\n",
       "      <th>data_id</th>\n",
       "      <th>iso</th>\n",
       "      <th>event_id_c</th>\n",
       "      <th>event_id_n</th>\n",
       "      <th>event_date</th>\n",
       "      <th>year</th>\n",
       "      <th>time_preci</th>\n",
       "      <th>event_type</th>\n",
       "      <th>sub_event_</th>\n",
       "      <th>actor1</th>\n",
       "      <th>...</th>\n",
       "      <th>geo_precis</th>\n",
       "      <th>source</th>\n",
       "      <th>source_sca</th>\n",
       "      <th>notes</th>\n",
       "      <th>fatalities</th>\n",
       "      <th>timestamp</th>\n",
       "      <th>iso3</th>\n",
       "      <th>geometry</th>\n",
       "      <th>index_right</th>\n",
       "      <th>NAME</th>\n",
       "    </tr>\n",
       "  </thead>\n",
       "  <tbody>\n",
       "    <tr>\n",
       "      <th>0</th>\n",
       "      <td>6768128</td>\n",
       "      <td>887</td>\n",
       "      <td>YEM45982</td>\n",
       "      <td>45982</td>\n",
       "      <td>31 December 2019</td>\n",
       "      <td>2019</td>\n",
       "      <td>1</td>\n",
       "      <td>Battles</td>\n",
       "      <td>Armed clash</td>\n",
       "      <td>Military Forces of Yemen (2012-)</td>\n",
       "      <td>...</td>\n",
       "      <td>2</td>\n",
       "      <td>Yemen Data Project; Aden al Ghad; Al Janoob al...</td>\n",
       "      <td>Local partner-National</td>\n",
       "      <td>On 31 December 2019, clashes reportedly erupte...</td>\n",
       "      <td>0</td>\n",
       "      <td>1580761030</td>\n",
       "      <td>YEM</td>\n",
       "      <td>POINT (47.07650 14.35410)</td>\n",
       "      <td>161</td>\n",
       "      <td>Yemen</td>\n",
       "    </tr>\n",
       "    <tr>\n",
       "      <th>1</th>\n",
       "      <td>6768129</td>\n",
       "      <td>887</td>\n",
       "      <td>YEM45983</td>\n",
       "      <td>45983</td>\n",
       "      <td>31 December 2019</td>\n",
       "      <td>2019</td>\n",
       "      <td>1</td>\n",
       "      <td>Strategic developments</td>\n",
       "      <td>Change to group/activity</td>\n",
       "      <td>Military Forces of Yemen (2012-) Security Belt...</td>\n",
       "      <td>...</td>\n",
       "      <td>2</td>\n",
       "      <td>Al Janoob al Youm; Yemen Data Project</td>\n",
       "      <td>Local partner-National</td>\n",
       "      <td>On 31 December 2019, forces loyal to the South...</td>\n",
       "      <td>0</td>\n",
       "      <td>1580761030</td>\n",
       "      <td>YEM</td>\n",
       "      <td>POINT (47.07650 14.35410)</td>\n",
       "      <td>161</td>\n",
       "      <td>Yemen</td>\n",
       "    </tr>\n",
       "    <tr>\n",
       "      <th>2</th>\n",
       "      <td>6768130</td>\n",
       "      <td>887</td>\n",
       "      <td>YEM45984</td>\n",
       "      <td>45984</td>\n",
       "      <td>31 December 2019</td>\n",
       "      <td>2019</td>\n",
       "      <td>1</td>\n",
       "      <td>Battles</td>\n",
       "      <td>Armed clash</td>\n",
       "      <td>Military Forces of Yemen (2012-)</td>\n",
       "      <td>...</td>\n",
       "      <td>1</td>\n",
       "      <td>Al Janoob al Youm; Aden al Ghad; Yemen Data Pr...</td>\n",
       "      <td>Local partner-National</td>\n",
       "      <td>On 31 December 2019, clashes reportedly erupte...</td>\n",
       "      <td>1</td>\n",
       "      <td>1580761030</td>\n",
       "      <td>YEM</td>\n",
       "      <td>POINT (47.15700 14.20810)</td>\n",
       "      <td>161</td>\n",
       "      <td>Yemen</td>\n",
       "    </tr>\n",
       "    <tr>\n",
       "      <th>15</th>\n",
       "      <td>6760978</td>\n",
       "      <td>887</td>\n",
       "      <td>YEM45977</td>\n",
       "      <td>45977</td>\n",
       "      <td>31 December 2019</td>\n",
       "      <td>2019</td>\n",
       "      <td>1</td>\n",
       "      <td>Strategic developments</td>\n",
       "      <td>Change to group/activity</td>\n",
       "      <td>Operation Restoring Hope</td>\n",
       "      <td>...</td>\n",
       "      <td>1</td>\n",
       "      <td>YNP; Yemen Data Project; Al Masdar</td>\n",
       "      <td>Local partner-National</td>\n",
       "      <td>On 31 December 2019, Sudanese forces reportedl...</td>\n",
       "      <td>0</td>\n",
       "      <td>1580153672</td>\n",
       "      <td>YEM</td>\n",
       "      <td>POINT (46.67110 14.94030)</td>\n",
       "      <td>161</td>\n",
       "      <td>Yemen</td>\n",
       "    </tr>\n",
       "    <tr>\n",
       "      <th>35</th>\n",
       "      <td>6711837</td>\n",
       "      <td>887</td>\n",
       "      <td>YEM45956</td>\n",
       "      <td>45956</td>\n",
       "      <td>31 December 2019</td>\n",
       "      <td>2019</td>\n",
       "      <td>1</td>\n",
       "      <td>Protests</td>\n",
       "      <td>Peaceful protest</td>\n",
       "      <td>Protesters (Yemen)</td>\n",
       "      <td>...</td>\n",
       "      <td>1</td>\n",
       "      <td>Aden al Ghad</td>\n",
       "      <td>Subnational</td>\n",
       "      <td>On 31 December, students from the Aden Communi...</td>\n",
       "      <td>0</td>\n",
       "      <td>1578511259</td>\n",
       "      <td>YEM</td>\n",
       "      <td>POINT (44.99050 12.88530)</td>\n",
       "      <td>161</td>\n",
       "      <td>Yemen</td>\n",
       "    </tr>\n",
       "    <tr>\n",
       "      <th>...</th>\n",
       "      <td>...</td>\n",
       "      <td>...</td>\n",
       "      <td>...</td>\n",
       "      <td>...</td>\n",
       "      <td>...</td>\n",
       "      <td>...</td>\n",
       "      <td>...</td>\n",
       "      <td>...</td>\n",
       "      <td>...</td>\n",
       "      <td>...</td>\n",
       "      <td>...</td>\n",
       "      <td>...</td>\n",
       "      <td>...</td>\n",
       "      <td>...</td>\n",
       "      <td>...</td>\n",
       "      <td>...</td>\n",
       "      <td>...</td>\n",
       "      <td>...</td>\n",
       "      <td>...</td>\n",
       "      <td>...</td>\n",
       "      <td>...</td>\n",
       "    </tr>\n",
       "    <tr>\n",
       "      <th>182389</th>\n",
       "      <td>6226968</td>\n",
       "      <td>196</td>\n",
       "      <td>CYP114</td>\n",
       "      <td>114</td>\n",
       "      <td>01 February 2019</td>\n",
       "      <td>2019</td>\n",
       "      <td>1</td>\n",
       "      <td>Strategic developments</td>\n",
       "      <td>Change to group/activity</td>\n",
       "      <td>Military Forces of Turkey (2016-)</td>\n",
       "      <td>...</td>\n",
       "      <td>2</td>\n",
       "      <td>Cyprus News Agency; To Vima; Ekathimerini; Har...</td>\n",
       "      <td>National-Regional</td>\n",
       "      <td>On Feb. 1 2019, Turkish military forces moved ...</td>\n",
       "      <td>0</td>\n",
       "      <td>1572403605</td>\n",
       "      <td>CYP</td>\n",
       "      <td>POINT (33.90000 35.09500)</td>\n",
       "      <td>6</td>\n",
       "      <td>Dhekelia</td>\n",
       "    </tr>\n",
       "    <tr>\n",
       "      <th>159163</th>\n",
       "      <td>6722068</td>\n",
       "      <td>226</td>\n",
       "      <td>EQG60</td>\n",
       "      <td>60</td>\n",
       "      <td>15 March 2019</td>\n",
       "      <td>2019</td>\n",
       "      <td>3</td>\n",
       "      <td>Violence against civilians</td>\n",
       "      <td>Attack</td>\n",
       "      <td>Police Forces of Equatorial Guinea (1979-) Pri...</td>\n",
       "      <td>...</td>\n",
       "      <td>1</td>\n",
       "      <td>Diario Rombe</td>\n",
       "      <td>National</td>\n",
       "      <td>Month of March. Police forces torture a Camero...</td>\n",
       "      <td>1</td>\n",
       "      <td>1579553202</td>\n",
       "      <td>GNQ</td>\n",
       "      <td>POINT (8.78330 3.75000)</td>\n",
       "      <td>163</td>\n",
       "      <td>Eq. Guinea</td>\n",
       "    </tr>\n",
       "    <tr>\n",
       "      <th>167924</th>\n",
       "      <td>6722069</td>\n",
       "      <td>226</td>\n",
       "      <td>EQG59</td>\n",
       "      <td>59</td>\n",
       "      <td>27 February 2019</td>\n",
       "      <td>2019</td>\n",
       "      <td>1</td>\n",
       "      <td>Violence against civilians</td>\n",
       "      <td>Attack</td>\n",
       "      <td>Military Forces of Equatorial Guinea (1979-)</td>\n",
       "      <td>...</td>\n",
       "      <td>1</td>\n",
       "      <td>Diario Rombe</td>\n",
       "      <td>National</td>\n",
       "      <td>27 February. A critical journalist, Paysa Elo ...</td>\n",
       "      <td>0</td>\n",
       "      <td>1579553202</td>\n",
       "      <td>GNQ</td>\n",
       "      <td>POINT (8.78330 3.75000)</td>\n",
       "      <td>163</td>\n",
       "      <td>Eq. Guinea</td>\n",
       "    </tr>\n",
       "    <tr>\n",
       "      <th>183413</th>\n",
       "      <td>6722078</td>\n",
       "      <td>226</td>\n",
       "      <td>EQG58</td>\n",
       "      <td>58</td>\n",
       "      <td>30 January 2019</td>\n",
       "      <td>2019</td>\n",
       "      <td>1</td>\n",
       "      <td>Protests</td>\n",
       "      <td>Peaceful protest</td>\n",
       "      <td>Protesters (Equatorial Guinea)</td>\n",
       "      <td>...</td>\n",
       "      <td>1</td>\n",
       "      <td>Jeune Afrique</td>\n",
       "      <td>Regional</td>\n",
       "      <td>30 January. Protesters with the CPDS hang post...</td>\n",
       "      <td>0</td>\n",
       "      <td>1579553202</td>\n",
       "      <td>GNQ</td>\n",
       "      <td>POINT (8.78330 3.75000)</td>\n",
       "      <td>163</td>\n",
       "      <td>Eq. Guinea</td>\n",
       "    </tr>\n",
       "    <tr>\n",
       "      <th>194194</th>\n",
       "      <td>6934225</td>\n",
       "      <td>136</td>\n",
       "      <td>CYM1</td>\n",
       "      <td>1</td>\n",
       "      <td>10 January 2019</td>\n",
       "      <td>2019</td>\n",
       "      <td>1</td>\n",
       "      <td>Protests</td>\n",
       "      <td>Peaceful protest</td>\n",
       "      <td>Protesters (Cuba)</td>\n",
       "      <td>...</td>\n",
       "      <td>1</td>\n",
       "      <td>CubaNet</td>\n",
       "      <td>Regional</td>\n",
       "      <td>On January 10 2019, Cuban immigrants in Cayman...</td>\n",
       "      <td>0</td>\n",
       "      <td>1582839804</td>\n",
       "      <td>CYM</td>\n",
       "      <td>POINT (-81.37440 19.28660)</td>\n",
       "      <td>211</td>\n",
       "      <td>Cayman Is.</td>\n",
       "    </tr>\n",
       "  </tbody>\n",
       "</table>\n",
       "<p>196422 rows × 34 columns</p>\n",
       "</div>"
      ],
      "text/plain": [
       "        data_id  iso event_id_c  event_id_n        event_date  year  \\\n",
       "0       6768128  887   YEM45982       45982  31 December 2019  2019   \n",
       "1       6768129  887   YEM45983       45983  31 December 2019  2019   \n",
       "2       6768130  887   YEM45984       45984  31 December 2019  2019   \n",
       "15      6760978  887   YEM45977       45977  31 December 2019  2019   \n",
       "35      6711837  887   YEM45956       45956  31 December 2019  2019   \n",
       "...         ...  ...        ...         ...               ...   ...   \n",
       "182389  6226968  196     CYP114         114  01 February 2019  2019   \n",
       "159163  6722068  226      EQG60          60     15 March 2019  2019   \n",
       "167924  6722069  226      EQG59          59  27 February 2019  2019   \n",
       "183413  6722078  226      EQG58          58   30 January 2019  2019   \n",
       "194194  6934225  136       CYM1           1   10 January 2019  2019   \n",
       "\n",
       "        time_preci                  event_type                sub_event_  \\\n",
       "0                1                     Battles               Armed clash   \n",
       "1                1      Strategic developments  Change to group/activity   \n",
       "2                1                     Battles               Armed clash   \n",
       "15               1      Strategic developments  Change to group/activity   \n",
       "35               1                    Protests          Peaceful protest   \n",
       "...            ...                         ...                       ...   \n",
       "182389           1      Strategic developments  Change to group/activity   \n",
       "159163           3  Violence against civilians                    Attack   \n",
       "167924           1  Violence against civilians                    Attack   \n",
       "183413           1                    Protests          Peaceful protest   \n",
       "194194           1                    Protests          Peaceful protest   \n",
       "\n",
       "                                                   actor1  ... geo_precis  \\\n",
       "0                        Military Forces of Yemen (2012-)  ...          2   \n",
       "1       Military Forces of Yemen (2012-) Security Belt...  ...          2   \n",
       "2                        Military Forces of Yemen (2012-)  ...          1   \n",
       "15                               Operation Restoring Hope  ...          1   \n",
       "35                                     Protesters (Yemen)  ...          1   \n",
       "...                                                   ...  ...        ...   \n",
       "182389                  Military Forces of Turkey (2016-)  ...          2   \n",
       "159163  Police Forces of Equatorial Guinea (1979-) Pri...  ...          1   \n",
       "167924       Military Forces of Equatorial Guinea (1979-)  ...          1   \n",
       "183413                     Protesters (Equatorial Guinea)  ...          1   \n",
       "194194                                  Protesters (Cuba)  ...          1   \n",
       "\n",
       "                                                   source  \\\n",
       "0       Yemen Data Project; Aden al Ghad; Al Janoob al...   \n",
       "1                   Al Janoob al Youm; Yemen Data Project   \n",
       "2       Al Janoob al Youm; Aden al Ghad; Yemen Data Pr...   \n",
       "15                     YNP; Yemen Data Project; Al Masdar   \n",
       "35                                           Aden al Ghad   \n",
       "...                                                   ...   \n",
       "182389  Cyprus News Agency; To Vima; Ekathimerini; Har...   \n",
       "159163                                       Diario Rombe   \n",
       "167924                                       Diario Rombe   \n",
       "183413                                      Jeune Afrique   \n",
       "194194                                            CubaNet   \n",
       "\n",
       "                    source_sca  \\\n",
       "0       Local partner-National   \n",
       "1       Local partner-National   \n",
       "2       Local partner-National   \n",
       "15      Local partner-National   \n",
       "35                 Subnational   \n",
       "...                        ...   \n",
       "182389       National-Regional   \n",
       "159163                National   \n",
       "167924                National   \n",
       "183413                Regional   \n",
       "194194                Regional   \n",
       "\n",
       "                                                    notes  fatalities  \\\n",
       "0       On 31 December 2019, clashes reportedly erupte...           0   \n",
       "1       On 31 December 2019, forces loyal to the South...           0   \n",
       "2       On 31 December 2019, clashes reportedly erupte...           1   \n",
       "15      On 31 December 2019, Sudanese forces reportedl...           0   \n",
       "35      On 31 December, students from the Aden Communi...           0   \n",
       "...                                                   ...         ...   \n",
       "182389  On Feb. 1 2019, Turkish military forces moved ...           0   \n",
       "159163  Month of March. Police forces torture a Camero...           1   \n",
       "167924  27 February. A critical journalist, Paysa Elo ...           0   \n",
       "183413  30 January. Protesters with the CPDS hang post...           0   \n",
       "194194  On January 10 2019, Cuban immigrants in Cayman...           0   \n",
       "\n",
       "         timestamp iso3                    geometry index_right        NAME  \n",
       "0       1580761030  YEM   POINT (47.07650 14.35410)         161       Yemen  \n",
       "1       1580761030  YEM   POINT (47.07650 14.35410)         161       Yemen  \n",
       "2       1580761030  YEM   POINT (47.15700 14.20810)         161       Yemen  \n",
       "15      1580153672  YEM   POINT (46.67110 14.94030)         161       Yemen  \n",
       "35      1578511259  YEM   POINT (44.99050 12.88530)         161       Yemen  \n",
       "...            ...  ...                         ...         ...         ...  \n",
       "182389  1572403605  CYP   POINT (33.90000 35.09500)           6    Dhekelia  \n",
       "159163  1579553202  GNQ     POINT (8.78330 3.75000)         163  Eq. Guinea  \n",
       "167924  1579553202  GNQ     POINT (8.78330 3.75000)         163  Eq. Guinea  \n",
       "183413  1579553202  GNQ     POINT (8.78330 3.75000)         163  Eq. Guinea  \n",
       "194194  1582839804  CYM  POINT (-81.37440 19.28660)         211  Cayman Is.  \n",
       "\n",
       "[196422 rows x 34 columns]"
      ]
     },
     "execution_count": 17,
     "metadata": {},
     "output_type": "execute_result"
    }
   ],
   "source": [
    "conflicts_in_countries"
   ]
  },
  {
   "cell_type": "markdown",
   "id": "8c7533ce-92bb-4774-801e-3a4712a7b2f8",
   "metadata": {},
   "source": [
    "### 2. Buffer analysis "
   ]
  },
  {
   "cell_type": "markdown",
   "id": "ea70d2f8-e8a3-4f6a-bc07-c06fabf5bf93",
   "metadata": {},
   "source": [
    "- proximity analysis\n",
    "- to get distance around a point / line / polygon \n",
    "- important to keep knowledge about CRS/projection "
   ]
  },
  {
   "cell_type": "markdown",
   "id": "b3c4ca5a-1a72-4469-9473-77d4e2331546",
   "metadata": {},
   "source": [
    "2.1.Finding centroid of polygons"
   ]
  },
  {
   "cell_type": "code",
   "execution_count": 19,
   "id": "4342e1b7-fa22-4478-9eef-2731862a3088",
   "metadata": {},
   "outputs": [
    {
     "name": "stderr",
     "output_type": "stream",
     "text": [
      "/var/folders/2f/c6skwjt96m984f45rzp9_qw40000gn/T/ipykernel_89987/786244657.py:1: UserWarning: Geometry is in a geographic CRS. Results from 'centroid' are likely incorrect. Use 'GeoSeries.to_crs()' to re-project geometries to a projected CRS before this operation.\n",
      "\n",
      "  country_centroids = countries.geometry.centroid\n"
     ]
    },
    {
     "data": {
      "text/plain": [
       "0     POINT (117.27043 -2.22296)\n",
       "1      POINT (109.69887 3.79239)\n",
       "2    POINT (-71.36437 -37.74361)\n",
       "3    POINT (-64.68475 -16.70688)\n",
       "4     POINT (-74.37806 -9.15439)\n",
       "dtype: geometry"
      ]
     },
     "execution_count": 19,
     "metadata": {},
     "output_type": "execute_result"
    }
   ],
   "source": [
    "country_centroids = countries.geometry.centroid\n",
    "country_centroids.head()"
   ]
  },
  {
   "cell_type": "markdown",
   "id": "4ef0284c-ed94-4dac-9281-417d77886425",
   "metadata": {},
   "source": [
    "Each dot will represent a center of the country: "
   ]
  },
  {
   "cell_type": "code",
   "execution_count": 23,
   "id": "49ee213d-d57a-466f-bb5e-d509e5d2fefa",
   "metadata": {},
   "outputs": [
    {
     "data": {
      "text/plain": [
       "<AxesSubplot: >"
      ]
     },
     "execution_count": 23,
     "metadata": {},
     "output_type": "execute_result"
    },
    {
     "data": {
      "image/png": "[encoded data removed]",
      "text/plain": [
       "<Figure size 864x720 with 1 Axes>"
      ]
     },
     "metadata": {
      "needs_background": "light"
     },
     "output_type": "display_data"
    }
   ],
   "source": [
    "fig, ax = plt.subplots(figsize=(12,10))\n",
    "countries.plot(ax=ax)\n",
    "country_centroids.plot(ax=ax, color='red', markersize=3)"
   ]
  },
  {
   "cell_type": "code",
   "execution_count": 24,
   "id": "c36517a4-694c-4d33-85ee-0fdbb685a817",
   "metadata": {},
   "outputs": [
    {
     "data": {
      "text/plain": [
       "<AxesSubplot: >"
      ]
     },
     "execution_count": 24,
     "metadata": {},
     "output_type": "execute_result"
    },
    {
     "data": {
      "image/png": "[encoded data removed]",
      "text/plain": [
       "<Figure size 432x288 with 1 Axes>"
      ]
     },
     "metadata": {
      "needs_background": "light"
     },
     "output_type": "display_data"
    }
   ],
   "source": [
    "poland = countries[countries.NAME == 'Poland']\n",
    "poland.plot()"
   ]
  },
  {
   "cell_type": "code",
   "execution_count": 25,
   "id": "264aa42a-fb4f-4830-99c5-2cb0706d99a0",
   "metadata": {},
   "outputs": [
    {
     "data": {
      "text/plain": [
       "<Geographic 2D CRS: EPSG:4326>\n",
       "Name: WGS 84\n",
       "Axis Info [ellipsoidal]:\n",
       "- Lat[north]: Geodetic latitude (degree)\n",
       "- Lon[east]: Geodetic longitude (degree)\n",
       "Area of Use:\n",
       "- name: World.\n",
       "- bounds: (-180.0, -90.0, 180.0, 90.0)\n",
       "Datum: World Geodetic System 1984 ensemble\n",
       "- Ellipsoid: WGS 84\n",
       "- Prime Meridian: Greenwich"
      ]
     },
     "execution_count": 25,
     "metadata": {},
     "output_type": "execute_result"
    }
   ],
   "source": [
    "poland.crs"
   ]
  },
  {
   "cell_type": "code",
   "execution_count": 27,
   "id": "089c2097-a34a-47ab-8ce8-77ba3dfebafc",
   "metadata": {},
   "outputs": [
    {
     "name": "stderr",
     "output_type": "stream",
     "text": [
      "/var/folders/2f/c6skwjt96m984f45rzp9_qw40000gn/T/ipykernel_89987/1955442022.py:1: UserWarning: Geometry is in a geographic CRS. Results from 'centroid' are likely incorrect. Use 'GeoSeries.to_crs()' to re-project geometries to a projected CRS before this operation.\n",
      "\n",
      "  center_point_poland = poland.geometry.centroid\n"
     ]
    },
    {
     "data": {
      "text/plain": [
       "77    POINT (19.39432 52.12477)\n",
       "dtype: geometry"
      ]
     },
     "execution_count": 27,
     "metadata": {},
     "output_type": "execute_result"
    }
   ],
   "source": [
    "center_point_poland = poland.geometry.centroid \n",
    "center_point_poland"
   ]
  },
  {
   "cell_type": "code",
   "execution_count": 28,
   "id": "77c42736-5cb4-42d2-bf2a-fc390828773e",
   "metadata": {},
   "outputs": [
    {
     "data": {
      "text/plain": [
       "<Geographic 2D CRS: EPSG:4326>\n",
       "Name: WGS 84\n",
       "Axis Info [ellipsoidal]:\n",
       "- Lat[north]: Geodetic latitude (degree)\n",
       "- Lon[east]: Geodetic longitude (degree)\n",
       "Area of Use:\n",
       "- name: World.\n",
       "- bounds: (-180.0, -90.0, 180.0, 90.0)\n",
       "Datum: World Geodetic System 1984 ensemble\n",
       "- Ellipsoid: WGS 84\n",
       "- Prime Meridian: Greenwich"
      ]
     },
     "execution_count": 28,
     "metadata": {},
     "output_type": "execute_result"
    }
   ],
   "source": [
    "center_point_poland.crs"
   ]
  },
  {
   "cell_type": "markdown",
   "id": "34115bfe-a735-4d60-a6e5-3399a798bf66",
   "metadata": {},
   "source": [
    "On this type of data calculating distance would be difficult, it depends on the CRS\n",
    "- below we creating buffers with 1 and 2 degree distances\n"
   ]
  },
  {
   "cell_type": "code",
   "execution_count": 32,
   "id": "eb606e43-f459-48c8-9c8f-940ec910b9de",
   "metadata": {},
   "outputs": [
    {
     "name": "stderr",
     "output_type": "stream",
     "text": [
      "/var/folders/2f/c6skwjt96m984f45rzp9_qw40000gn/T/ipykernel_89987/1639724299.py:1: UserWarning: Geometry is in a geographic CRS. Results from 'buffer' are likely incorrect. Use 'GeoSeries.to_crs()' to re-project geometries to a projected CRS before this operation.\n",
      "\n",
      "  poland_centroids_1_degree = center_point_poland.buffer(1)\n",
      "/var/folders/2f/c6skwjt96m984f45rzp9_qw40000gn/T/ipykernel_89987/1639724299.py:2: UserWarning: Geometry is in a geographic CRS. Results from 'buffer' are likely incorrect. Use 'GeoSeries.to_crs()' to re-project geometries to a projected CRS before this operation.\n",
      "\n",
      "  poland_centroids_2_degree = center_point_poland.buffer(2)\n"
     ]
    },
    {
     "data": {
      "text/plain": [
       "<AxesSubplot: >"
      ]
     },
     "execution_count": 32,
     "metadata": {},
     "output_type": "execute_result"
    },
    {
     "data": {
      "image/png": "[encoded data removed]",
      "text/plain": [
       "<Figure size 576x432 with 1 Axes>"
      ]
     },
     "metadata": {
      "needs_background": "light"
     },
     "output_type": "display_data"
    }
   ],
   "source": [
    "poland_centroids_1_degree = center_point_poland.buffer(1)\n",
    "poland_centroids_2_degree = center_point_poland.buffer(2)\n",
    "\n",
    "fig, ax = plt.subplots(figsize=(8,6)) \n",
    "poland.plot(ax=ax)\n",
    "poland_centroids_2_degree.plot(ax=ax, color='yellow')\n",
    "poland_centroids_1_degree.plot(ax=ax, color='green')"
   ]
  },
  {
   "cell_type": "markdown",
   "id": "461adc3e-83b3-44c5-9bff-dc4df13aea70",
   "metadata": {},
   "source": [
    "If we need calculations to be in meters we need to project the data. "
   ]
  },
  {
   "cell_type": "code",
   "execution_count": 35,
   "id": "2a8b7259-3933-49c4-bd3b-705f5271feae",
   "metadata": {},
   "outputs": [
    {
     "name": "stderr",
     "output_type": "stream",
     "text": [
      "/opt/anaconda3/envs/spatial-ds-ws/lib/python3.9/site-packages/pyproj/crs/crs.py:141: FutureWarning: '+init=<authority>:<code>' syntax is deprecated. '<authority>:<code>' is the preferred initialization method. When making the change, be mindful of axis order changes: https://pyproj4.github.io/pyproj/stable/gotchas.html#axis-order-changes-in-proj-6\n",
      "  in_crs_string = _prepare_from_proj_string(in_crs_string)\n"
     ]
    }
   ],
   "source": [
    "center_point_poland = center_point_poland.to_crs({'init':'epsg:2180'})\n",
    "poland_projected = poland.to_crs({'init':'epsg:2180'})"
   ]
  },
  {
   "cell_type": "code",
   "execution_count": 36,
   "id": "a37971cd-f5de-4ff0-9b9a-35e9cdcc83e8",
   "metadata": {},
   "outputs": [
    {
     "data": {
      "text/plain": [
       "<Derived Projected CRS: +init=epsg:2180 +type=crs>\n",
       "Name: ETRF2000-PL / CS92\n",
       "Axis Info [cartesian]:\n",
       "- E[east]: Easting (metre)\n",
       "- N[north]: Northing (metre)\n",
       "Area of Use:\n",
       "- name: Poland - onshore and offshore.\n",
       "- bounds: (14.14, 49.0, 24.15, 55.93)\n",
       "Coordinate Operation:\n",
       "- name: Poland CS92\n",
       "- method: Transverse Mercator\n",
       "Datum: ETRF2000 Poland\n",
       "- Ellipsoid: GRS 1980\n",
       "- Prime Meridian: Greenwich"
      ]
     },
     "execution_count": 36,
     "metadata": {},
     "output_type": "execute_result"
    }
   ],
   "source": [
    "poland_projected.crs"
   ]
  },
  {
   "cell_type": "markdown",
   "id": "04236a19-5b9f-4115-95aa-860db87fac96",
   "metadata": {},
   "source": [
    "It is projection based on meters"
   ]
  },
  {
   "cell_type": "markdown",
   "id": "d6487801-4acc-4999-b99e-86f284e840ed",
   "metadata": {},
   "source": [
    "Create buffers of 20 and 50km "
   ]
  },
  {
   "cell_type": "code",
   "execution_count": 37,
   "id": "dcdc40cd-7461-44b3-986e-f43ec58166f6",
   "metadata": {},
   "outputs": [],
   "source": [
    "poland_centre_20km = center_point_poland.buffer(20000)\n",
    "poland_centre_50km = center_point_poland.buffer(50000)"
   ]
  },
  {
   "cell_type": "code",
   "execution_count": 40,
   "id": "65c841d1-19cd-49dc-8944-c9bff8940782",
   "metadata": {},
   "outputs": [
    {
     "data": {
      "text/plain": [
       "<AxesSubplot: >"
      ]
     },
     "execution_count": 40,
     "metadata": {},
     "output_type": "execute_result"
    },
    {
     "data": {
      "image/png": "[encoded data removed]",
      "text/plain": [
       "<Figure size 576x432 with 1 Axes>"
      ]
     },
     "metadata": {
      "needs_background": "light"
     },
     "output_type": "display_data"
    }
   ],
   "source": [
    "fix, ax = plt.subplots(figsize=(8,6)) \n",
    "\n",
    "poland_projected.plot(ax=ax)\n",
    "poland_centre_50km.plot(ax=ax, color='red')\n",
    "poland_centre_20km.plot(ax=ax, color='yellow')"
   ]
  },
  {
   "cell_type": "markdown",
   "id": "119a5b6f-ac15-41ae-b47f-adc1a54d0e79",
   "metadata": {},
   "source": [
    "#### 3. Overlay analysis"
   ]
  },
  {
   "cell_type": "code",
   "execution_count": 42,
   "id": "48588ed4-8edb-4880-a6a7-c5845b988865",
   "metadata": {},
   "outputs": [
    {
     "data": {
      "text/plain": [
       "['naturalearth_cities', 'naturalearth_lowres', 'nybb']"
      ]
     },
     "execution_count": 42,
     "metadata": {},
     "output_type": "execute_result"
    }
   ],
   "source": [
    "gpd.datasets.available"
   ]
  },
  {
   "cell_type": "markdown",
   "id": "a4210119-6dda-4ec8-942f-f2a3dd05cc71",
   "metadata": {},
   "source": [
    "We can experiment on data provided with GeoPandas without downloading it locally "
   ]
  },
  {
   "cell_type": "code",
   "execution_count": 43,
   "id": "0a90f53b-ba75-4846-9929-78cea1f17d6c",
   "metadata": {},
   "outputs": [],
   "source": [
    "world = gpd.read_file(gpd.datasets.get_path('naturalearth_lowres')) \n",
    "capitals = gpd.read_file(gpd.datasets.get_path('naturalearth_cities')) "
   ]
  },
  {
   "cell_type": "code",
   "execution_count": 44,
   "id": "32447ce5-be68-4a59-a1b9-fd493678c599",
   "metadata": {},
   "outputs": [
    {
     "data": {
      "text/html": [
       "<div>\n",
       "<style scoped>\n",
       "    .dataframe tbody tr th:only-of-type {\n",
       "        vertical-align: middle;\n",
       "    }\n",
       "\n",
       "    .dataframe tbody tr th {\n",
       "        vertical-align: top;\n",
       "    }\n",
       "\n",
       "    .dataframe thead th {\n",
       "        text-align: right;\n",
       "    }\n",
       "</style>\n",
       "<table border=\"1\" class=\"dataframe\">\n",
       "  <thead>\n",
       "    <tr style=\"text-align: right;\">\n",
       "      <th></th>\n",
       "      <th>pop_est</th>\n",
       "      <th>continent</th>\n",
       "      <th>name</th>\n",
       "      <th>iso_a3</th>\n",
       "      <th>gdp_md_est</th>\n",
       "      <th>geometry</th>\n",
       "    </tr>\n",
       "  </thead>\n",
       "  <tbody>\n",
       "    <tr>\n",
       "      <th>0</th>\n",
       "      <td>889953.0</td>\n",
       "      <td>Oceania</td>\n",
       "      <td>Fiji</td>\n",
       "      <td>FJI</td>\n",
       "      <td>5496</td>\n",
       "      <td>MULTIPOLYGON (((180.00000 -16.06713, 180.00000...</td>\n",
       "    </tr>\n",
       "    <tr>\n",
       "      <th>1</th>\n",
       "      <td>58005463.0</td>\n",
       "      <td>Africa</td>\n",
       "      <td>Tanzania</td>\n",
       "      <td>TZA</td>\n",
       "      <td>63177</td>\n",
       "      <td>POLYGON ((33.90371 -0.95000, 34.07262 -1.05982...</td>\n",
       "    </tr>\n",
       "    <tr>\n",
       "      <th>2</th>\n",
       "      <td>603253.0</td>\n",
       "      <td>Africa</td>\n",
       "      <td>W. Sahara</td>\n",
       "      <td>ESH</td>\n",
       "      <td>907</td>\n",
       "      <td>POLYGON ((-8.66559 27.65643, -8.66512 27.58948...</td>\n",
       "    </tr>\n",
       "    <tr>\n",
       "      <th>3</th>\n",
       "      <td>37589262.0</td>\n",
       "      <td>North America</td>\n",
       "      <td>Canada</td>\n",
       "      <td>CAN</td>\n",
       "      <td>1736425</td>\n",
       "      <td>MULTIPOLYGON (((-122.84000 49.00000, -122.9742...</td>\n",
       "    </tr>\n",
       "    <tr>\n",
       "      <th>4</th>\n",
       "      <td>328239523.0</td>\n",
       "      <td>North America</td>\n",
       "      <td>United States of America</td>\n",
       "      <td>USA</td>\n",
       "      <td>21433226</td>\n",
       "      <td>MULTIPOLYGON (((-122.84000 49.00000, -120.0000...</td>\n",
       "    </tr>\n",
       "  </tbody>\n",
       "</table>\n",
       "</div>"
      ],
      "text/plain": [
       "       pop_est      continent                      name iso_a3  gdp_md_est  \\\n",
       "0     889953.0        Oceania                      Fiji    FJI        5496   \n",
       "1   58005463.0         Africa                  Tanzania    TZA       63177   \n",
       "2     603253.0         Africa                 W. Sahara    ESH         907   \n",
       "3   37589262.0  North America                    Canada    CAN     1736425   \n",
       "4  328239523.0  North America  United States of America    USA    21433226   \n",
       "\n",
       "                                            geometry  \n",
       "0  MULTIPOLYGON (((180.00000 -16.06713, 180.00000...  \n",
       "1  POLYGON ((33.90371 -0.95000, 34.07262 -1.05982...  \n",
       "2  POLYGON ((-8.66559 27.65643, -8.66512 27.58948...  \n",
       "3  MULTIPOLYGON (((-122.84000 49.00000, -122.9742...  \n",
       "4  MULTIPOLYGON (((-122.84000 49.00000, -120.0000...  "
      ]
     },
     "execution_count": 44,
     "metadata": {},
     "output_type": "execute_result"
    }
   ],
   "source": [
    "world.head()"
   ]
  },
  {
   "cell_type": "code",
   "execution_count": 45,
   "id": "4f423787-9e6b-4561-aee8-318611a6ad7a",
   "metadata": {},
   "outputs": [
    {
     "data": {
      "text/html": [
       "<div>\n",
       "<style scoped>\n",
       "    .dataframe tbody tr th:only-of-type {\n",
       "        vertical-align: middle;\n",
       "    }\n",
       "\n",
       "    .dataframe tbody tr th {\n",
       "        vertical-align: top;\n",
       "    }\n",
       "\n",
       "    .dataframe thead th {\n",
       "        text-align: right;\n",
       "    }\n",
       "</style>\n",
       "<table border=\"1\" class=\"dataframe\">\n",
       "  <thead>\n",
       "    <tr style=\"text-align: right;\">\n",
       "      <th></th>\n",
       "      <th>name</th>\n",
       "      <th>geometry</th>\n",
       "    </tr>\n",
       "  </thead>\n",
       "  <tbody>\n",
       "    <tr>\n",
       "      <th>0</th>\n",
       "      <td>Vatican City</td>\n",
       "      <td>POINT (12.45339 41.90328)</td>\n",
       "    </tr>\n",
       "    <tr>\n",
       "      <th>1</th>\n",
       "      <td>San Marino</td>\n",
       "      <td>POINT (12.44177 43.93610)</td>\n",
       "    </tr>\n",
       "    <tr>\n",
       "      <th>2</th>\n",
       "      <td>Vaduz</td>\n",
       "      <td>POINT (9.51667 47.13372)</td>\n",
       "    </tr>\n",
       "    <tr>\n",
       "      <th>3</th>\n",
       "      <td>Lobamba</td>\n",
       "      <td>POINT (31.20000 -26.46667)</td>\n",
       "    </tr>\n",
       "    <tr>\n",
       "      <th>4</th>\n",
       "      <td>Luxembourg</td>\n",
       "      <td>POINT (6.13000 49.61166)</td>\n",
       "    </tr>\n",
       "  </tbody>\n",
       "</table>\n",
       "</div>"
      ],
      "text/plain": [
       "           name                    geometry\n",
       "0  Vatican City   POINT (12.45339 41.90328)\n",
       "1    San Marino   POINT (12.44177 43.93610)\n",
       "2         Vaduz    POINT (9.51667 47.13372)\n",
       "3       Lobamba  POINT (31.20000 -26.46667)\n",
       "4    Luxembourg    POINT (6.13000 49.61166)"
      ]
     },
     "execution_count": 45,
     "metadata": {},
     "output_type": "execute_result"
    }
   ],
   "source": [
    "capitals.head()"
   ]
  },
  {
   "cell_type": "code",
   "execution_count": 51,
   "id": "0d9846ac-20b9-418b-af04-57f515de8ff5",
   "metadata": {},
   "outputs": [
    {
     "data": {
      "text/plain": [
       "<AxesSubplot: >"
      ]
     },
     "execution_count": 51,
     "metadata": {},
     "output_type": "execute_result"
    },
    {
     "data": {
      "image/png": "[encoded data removed]",
      "text/plain": [
       "<Figure size 432x288 with 1 Axes>"
      ]
     },
     "metadata": {
      "needs_background": "light"
     },
     "output_type": "display_data"
    }
   ],
   "source": [
    "asia = world[world.continent == 'Asia']\n",
    "asia = asia[['geometry','name']]\n",
    "\n",
    "asia.plot()"
   ]
  },
  {
   "cell_type": "markdown",
   "id": "7bb920a8-8dba-4569-9010-b750d2b64d45",
   "metadata": {},
   "source": [
    "convert to crs with meters"
   ]
  },
  {
   "cell_type": "code",
   "execution_count": 52,
   "id": "990d0bc1-e20c-466a-8951-8c5638facac7",
   "metadata": {},
   "outputs": [],
   "source": [
    "asia = asia.to_crs('epsg:3395')\n",
    "capitals = capitals.to_crs('epsg:3395') "
   ]
  },
  {
   "cell_type": "markdown",
   "id": "da5bdd68-ea26-4044-adb0-2c996b7f215c",
   "metadata": {},
   "source": [
    "make buffer from capitals - creating polygons from points, it is opposite to create centroids "
   ]
  },
  {
   "cell_type": "code",
   "execution_count": 53,
   "id": "8070cdf8-a0f3-43d9-acb1-f16af369e3fb",
   "metadata": {},
   "outputs": [
    {
     "data": {
      "text/html": [
       "<div>\n",
       "<style scoped>\n",
       "    .dataframe tbody tr th:only-of-type {\n",
       "        vertical-align: middle;\n",
       "    }\n",
       "\n",
       "    .dataframe tbody tr th {\n",
       "        vertical-align: top;\n",
       "    }\n",
       "\n",
       "    .dataframe thead th {\n",
       "        text-align: right;\n",
       "    }\n",
       "</style>\n",
       "<table border=\"1\" class=\"dataframe\">\n",
       "  <thead>\n",
       "    <tr style=\"text-align: right;\">\n",
       "      <th></th>\n",
       "      <th>name</th>\n",
       "      <th>geometry</th>\n",
       "    </tr>\n",
       "  </thead>\n",
       "  <tbody>\n",
       "    <tr>\n",
       "      <th>0</th>\n",
       "      <td>Vatican City</td>\n",
       "      <td>POLYGON ((1396304.644 5117957.427, 1396256.491...</td>\n",
       "    </tr>\n",
       "    <tr>\n",
       "      <th>1</th>\n",
       "      <td>San Marino</td>\n",
       "      <td>POLYGON ((1395011.523 5425900.271, 1394963.370...</td>\n",
       "    </tr>\n",
       "    <tr>\n",
       "      <th>2</th>\n",
       "      <td>Vaduz</td>\n",
       "      <td>POLYGON ((1069390.803 5932596.005, 1069342.650...</td>\n",
       "    </tr>\n",
       "    <tr>\n",
       "      <th>3</th>\n",
       "      <td>Lobamba</td>\n",
       "      <td>POLYGON ((3483167.790 -3037957.646, 3483119.63...</td>\n",
       "    </tr>\n",
       "    <tr>\n",
       "      <th>4</th>\n",
       "      <td>Luxembourg</td>\n",
       "      <td>POLYGON ((692388.790 6346728.175, 692340.638 6...</td>\n",
       "    </tr>\n",
       "  </tbody>\n",
       "</table>\n",
       "</div>"
      ],
      "text/plain": [
       "           name                                           geometry\n",
       "0  Vatican City  POLYGON ((1396304.644 5117957.427, 1396256.491...\n",
       "1    San Marino  POLYGON ((1395011.523 5425900.271, 1394963.370...\n",
       "2         Vaduz  POLYGON ((1069390.803 5932596.005, 1069342.650...\n",
       "3       Lobamba  POLYGON ((3483167.790 -3037957.646, 3483119.63...\n",
       "4    Luxembourg  POLYGON ((692388.790 6346728.175, 692340.638 6..."
      ]
     },
     "execution_count": 53,
     "metadata": {},
     "output_type": "execute_result"
    }
   ],
   "source": [
    "capitals['geometry'] = capitals.buffer(10000)\n",
    "capitals.head()"
   ]
  },
  {
   "cell_type": "markdown",
   "id": "63a374f6-a58c-49ec-bb17-bb15ac869f0b",
   "metadata": {},
   "source": [
    "Intersection"
   ]
  },
  {
   "cell_type": "code",
   "execution_count": 54,
   "id": "59a0e512-1141-4972-ab37-e87960fbe8b9",
   "metadata": {},
   "outputs": [
    {
     "data": {
      "text/plain": [
       "<AxesSubplot: >"
      ]
     },
     "execution_count": 54,
     "metadata": {},
     "output_type": "execute_result"
    },
    {
     "data": {
      "image/png": "[encoded data removed]",
      "text/plain": [
       "<Figure size 432x288 with 1 Axes>"
      ]
     },
     "metadata": {
      "needs_background": "light"
     },
     "output_type": "display_data"
    }
   ],
   "source": [
    "asia_cores = gpd.overlay(asia, capitals, how='intersection')\n",
    "asia_cores.plot(alpha=0.5, edgecolor='k', cmap='tab10')"
   ]
  },
  {
   "cell_type": "markdown",
   "id": "503ad272-9aa7-4454-b203-d9c5bb393d93",
   "metadata": {},
   "source": [
    "Difference: "
   ]
  },
  {
   "cell_type": "code",
   "execution_count": 56,
   "id": "1f17f0de-dda2-49e4-9b9b-b51dc1d7c555",
   "metadata": {},
   "outputs": [
    {
     "data": {
      "text/plain": [
       "<AxesSubplot: >"
      ]
     },
     "execution_count": 56,
     "metadata": {},
     "output_type": "execute_result"
    },
    {
     "data": {
      "image/png": "[encoded data removed]",
      "text/plain": [
       "<Figure size 432x288 with 1 Axes>"
      ]
     },
     "metadata": {
      "needs_background": "light"
     },
     "output_type": "display_data"
    }
   ],
   "source": [
    "asia_peripheries = gpd.overlay(asia, capitals, how='difference')\n",
    "asia_peripheries.plot(alpha=0.5, edgecolor='k', cmap='tab10')"
   ]
  },
  {
   "cell_type": "markdown",
   "id": "256ec61b-26c3-4bde-b547-9deb4e916d3b",
   "metadata": {},
   "source": [
    "#### 4. Nearest Neighbourhood"
   ]
  },
  {
   "cell_type": "code",
   "execution_count": 66,
   "id": "c613488c-aeae-45a3-96ac-3a271abe0513",
   "metadata": {},
   "outputs": [
    {
     "data": {
      "text/html": [
       "<div>\n",
       "<style scoped>\n",
       "    .dataframe tbody tr th:only-of-type {\n",
       "        vertical-align: middle;\n",
       "    }\n",
       "\n",
       "    .dataframe tbody tr th {\n",
       "        vertical-align: top;\n",
       "    }\n",
       "\n",
       "    .dataframe thead th {\n",
       "        text-align: right;\n",
       "    }\n",
       "</style>\n",
       "<table border=\"1\" class=\"dataframe\">\n",
       "  <thead>\n",
       "    <tr style=\"text-align: right;\">\n",
       "      <th></th>\n",
       "      <th>id</th>\n",
       "      <th>name</th>\n",
       "      <th>dpcapacity</th>\n",
       "      <th>xcoord</th>\n",
       "      <th>ycoord</th>\n",
       "    </tr>\n",
       "  </thead>\n",
       "  <tbody>\n",
       "    <tr>\n",
       "      <th>0</th>\n",
       "      <td>5</td>\n",
       "      <td>State St &amp; Harrison St</td>\n",
       "      <td>19</td>\n",
       "      <td>-87.627739</td>\n",
       "      <td>41.873958</td>\n",
       "    </tr>\n",
       "    <tr>\n",
       "      <th>1</th>\n",
       "      <td>13</td>\n",
       "      <td>Wilton Ave &amp; Diversey Pkwy</td>\n",
       "      <td>19</td>\n",
       "      <td>-87.652681</td>\n",
       "      <td>41.932500</td>\n",
       "    </tr>\n",
       "    <tr>\n",
       "      <th>2</th>\n",
       "      <td>14</td>\n",
       "      <td>Morgan St &amp; 18th St</td>\n",
       "      <td>15</td>\n",
       "      <td>-87.651073</td>\n",
       "      <td>41.858086</td>\n",
       "    </tr>\n",
       "    <tr>\n",
       "      <th>3</th>\n",
       "      <td>15</td>\n",
       "      <td>Racine Ave &amp; 19th St</td>\n",
       "      <td>15</td>\n",
       "      <td>-87.656471</td>\n",
       "      <td>41.856453</td>\n",
       "    </tr>\n",
       "    <tr>\n",
       "      <th>4</th>\n",
       "      <td>16</td>\n",
       "      <td>Wood St &amp; North Ave</td>\n",
       "      <td>15</td>\n",
       "      <td>-87.672516</td>\n",
       "      <td>41.910329</td>\n",
       "    </tr>\n",
       "  </tbody>\n",
       "</table>\n",
       "</div>"
      ],
      "text/plain": [
       "   id                        name  dpcapacity     xcoord     ycoord\n",
       "0   5      State St & Harrison St          19 -87.627739  41.873958\n",
       "1  13  Wilton Ave & Diversey Pkwy          19 -87.652681  41.932500\n",
       "2  14         Morgan St & 18th St          15 -87.651073  41.858086\n",
       "3  15        Racine Ave & 19th St          15 -87.656471  41.856453\n",
       "4  16         Wood St & North Ave          15 -87.672516  41.910329"
      ]
     },
     "execution_count": 66,
     "metadata": {},
     "output_type": "execute_result"
    }
   ],
   "source": [
    "stations = pd.read_csv(f'{path}/data/bike_data/stations.csv') \n",
    "stations.head()"
   ]
  },
  {
   "cell_type": "code",
   "execution_count": 67,
   "id": "4616f03a-2ffc-4fd5-9b0b-2dbaf05d9605",
   "metadata": {},
   "outputs": [],
   "source": [
    "points = pd.read_csv(f'{path}/data/bike_data/points.csv')"
   ]
  },
  {
   "cell_type": "code",
   "execution_count": 68,
   "id": "a9e808e7-3dc6-4e9e-a23d-7ffa6d7226dd",
   "metadata": {},
   "outputs": [
    {
     "data": {
      "text/html": [
       "<div>\n",
       "<style scoped>\n",
       "    .dataframe tbody tr th:only-of-type {\n",
       "        vertical-align: middle;\n",
       "    }\n",
       "\n",
       "    .dataframe tbody tr th {\n",
       "        vertical-align: top;\n",
       "    }\n",
       "\n",
       "    .dataframe thead th {\n",
       "        text-align: right;\n",
       "    }\n",
       "</style>\n",
       "<table border=\"1\" class=\"dataframe\">\n",
       "  <thead>\n",
       "    <tr style=\"text-align: right;\">\n",
       "      <th></th>\n",
       "      <th>id</th>\n",
       "      <th>xcoord</th>\n",
       "      <th>ycoord</th>\n",
       "    </tr>\n",
       "  </thead>\n",
       "  <tbody>\n",
       "    <tr>\n",
       "      <th>0</th>\n",
       "      <td>1</td>\n",
       "      <td>-87.675992</td>\n",
       "      <td>41.969792</td>\n",
       "    </tr>\n",
       "    <tr>\n",
       "      <th>1</th>\n",
       "      <td>2</td>\n",
       "      <td>-87.676702</td>\n",
       "      <td>41.956395</td>\n",
       "    </tr>\n",
       "    <tr>\n",
       "      <th>2</th>\n",
       "      <td>3</td>\n",
       "      <td>-87.601501</td>\n",
       "      <td>41.805379</td>\n",
       "    </tr>\n",
       "    <tr>\n",
       "      <th>3</th>\n",
       "      <td>4</td>\n",
       "      <td>-87.616656</td>\n",
       "      <td>41.858263</td>\n",
       "    </tr>\n",
       "    <tr>\n",
       "      <th>4</th>\n",
       "      <td>5</td>\n",
       "      <td>-87.706869</td>\n",
       "      <td>41.963010</td>\n",
       "    </tr>\n",
       "  </tbody>\n",
       "</table>\n",
       "</div>"
      ],
      "text/plain": [
       "   id     xcoord     ycoord\n",
       "0   1 -87.675992  41.969792\n",
       "1   2 -87.676702  41.956395\n",
       "2   3 -87.601501  41.805379\n",
       "3   4 -87.616656  41.858263\n",
       "4   5 -87.706869  41.963010"
      ]
     },
     "execution_count": 68,
     "metadata": {},
     "output_type": "execute_result"
    }
   ],
   "source": [
    "points.head()"
   ]
  },
  {
   "cell_type": "code",
   "execution_count": 69,
   "id": "16b82f5b-bd8e-489f-9e58-21754096cb36",
   "metadata": {},
   "outputs": [],
   "source": [
    "def create_gdf(df, x='xcoord', y='ycoord'):\n",
    "    return gpd.GeoDataFrame(df, geometry=gpd.points_from_xy(df[x], df[y]), crs='epsg:4329')\n",
    "\n",
    "stations_gdf = create_gdf(df=stations)\n",
    "points_gdf = create_gdf(df=points)"
   ]
  },
  {
   "cell_type": "code",
   "execution_count": 71,
   "id": "f2d03ae0-cbff-4083-963a-2e14485d1f66",
   "metadata": {},
   "outputs": [
    {
     "data": {
      "text/plain": [
       "<AxesSubplot: >"
      ]
     },
     "execution_count": 71,
     "metadata": {},
     "output_type": "execute_result"
    },
    {
     "data": {
      "image/png": "[encoded data removed]",
      "text/plain": [
       "<Figure size 720x576 with 1 Axes>"
      ]
     },
     "metadata": {
      "needs_background": "light"
     },
     "output_type": "display_data"
    }
   ],
   "source": [
    "fig, ax = plt.subplots(figsize=(10,8))\n",
    "\n",
    "points_gdf.plot(ax=ax, color='red', marker='*')\n",
    "stations_gdf.plot(ax=ax, color='blue')"
   ]
  },
  {
   "cell_type": "markdown",
   "id": "bc3c5fdf-d7ef-4c82-a554-cadceb7a2202",
   "metadata": {},
   "source": [
    "Red stars represents randomly generated points which we can understand as a people searching for closest station. And blue are stations. "
   ]
  },
  {
   "cell_type": "code",
   "execution_count": 76,
   "id": "3061abf7-84bd-4815-b9d7-93ee7d04a0db",
   "metadata": {},
   "outputs": [],
   "source": [
    "def calculate_nearest(row, destination, val, col='geometry'):\n",
    "    \n",
    "    #combines all the geometries \n",
    "    dest = destination['geometry'].unary_union\n",
    "    nearest_geom = nearest_points(row[col], dest)\n",
    "    \n",
    "    match_geom = destination.loc[destination.geometry == nearest_geom[1]]\n",
    "    match_value = match_geom[val].to_numpy()[0]\n",
    "    return match_value"
   ]
  },
  {
   "cell_type": "code",
   "execution_count": 77,
   "id": "4a24c7a6-799a-4949-b32a-56775a7245a8",
   "metadata": {},
   "outputs": [
    {
     "name": "stderr",
     "output_type": "stream",
     "text": [
      "/opt/anaconda3/envs/spatial-ds-ws/lib/python3.9/site-packages/pandas/core/dtypes/cast.py:127: ShapelyDeprecationWarning: The array interface is deprecated and will no longer work in Shapely 2.0. Convert the '.coords' to a numpy array instead.\n",
      "  arr = construct_1d_object_array_from_listlike(values)\n"
     ]
    }
   ],
   "source": [
    "points_gdf['nearest_geom'] = points_gdf.apply(calculate_nearest, destination=stations_gdf, val='geometry', axis=1)"
   ]
  },
  {
   "cell_type": "code",
   "execution_count": 78,
   "id": "a3e4734e-4254-4571-8703-e95e5d9f76ef",
   "metadata": {},
   "outputs": [
    {
     "data": {
      "text/html": [
       "<div>\n",
       "<style scoped>\n",
       "    .dataframe tbody tr th:only-of-type {\n",
       "        vertical-align: middle;\n",
       "    }\n",
       "\n",
       "    .dataframe tbody tr th {\n",
       "        vertical-align: top;\n",
       "    }\n",
       "\n",
       "    .dataframe thead th {\n",
       "        text-align: right;\n",
       "    }\n",
       "</style>\n",
       "<table border=\"1\" class=\"dataframe\">\n",
       "  <thead>\n",
       "    <tr style=\"text-align: right;\">\n",
       "      <th></th>\n",
       "      <th>id</th>\n",
       "      <th>xcoord</th>\n",
       "      <th>ycoord</th>\n",
       "      <th>geometry</th>\n",
       "      <th>nearest_geom</th>\n",
       "    </tr>\n",
       "  </thead>\n",
       "  <tbody>\n",
       "    <tr>\n",
       "      <th>0</th>\n",
       "      <td>1</td>\n",
       "      <td>-87.675992</td>\n",
       "      <td>41.969792</td>\n",
       "      <td>POINT (-87.67599 41.96979)</td>\n",
       "      <td>POINT (-87.67424 41.96909)</td>\n",
       "    </tr>\n",
       "    <tr>\n",
       "      <th>1</th>\n",
       "      <td>2</td>\n",
       "      <td>-87.676702</td>\n",
       "      <td>41.956395</td>\n",
       "      <td>POINT (-87.67670 41.95640)</td>\n",
       "      <td>POINT (-87.67926 41.95593)</td>\n",
       "    </tr>\n",
       "    <tr>\n",
       "      <th>2</th>\n",
       "      <td>3</td>\n",
       "      <td>-87.601501</td>\n",
       "      <td>41.805379</td>\n",
       "      <td>POINT (-87.60150 41.80538)</td>\n",
       "      <td>POINT (-87.59938 41.80983)</td>\n",
       "    </tr>\n",
       "    <tr>\n",
       "      <th>3</th>\n",
       "      <td>4</td>\n",
       "      <td>-87.616656</td>\n",
       "      <td>41.858263</td>\n",
       "      <td>POINT (-87.61666 41.85826)</td>\n",
       "      <td>POINT (-87.61941 41.85761)</td>\n",
       "    </tr>\n",
       "    <tr>\n",
       "      <th>4</th>\n",
       "      <td>5</td>\n",
       "      <td>-87.706869</td>\n",
       "      <td>41.963010</td>\n",
       "      <td>POINT (-87.70687 41.96301)</td>\n",
       "      <td>POINT (-87.68849 41.96655)</td>\n",
       "    </tr>\n",
       "  </tbody>\n",
       "</table>\n",
       "</div>"
      ],
      "text/plain": [
       "   id     xcoord     ycoord                    geometry  \\\n",
       "0   1 -87.675992  41.969792  POINT (-87.67599 41.96979)   \n",
       "1   2 -87.676702  41.956395  POINT (-87.67670 41.95640)   \n",
       "2   3 -87.601501  41.805379  POINT (-87.60150 41.80538)   \n",
       "3   4 -87.616656  41.858263  POINT (-87.61666 41.85826)   \n",
       "4   5 -87.706869  41.963010  POINT (-87.70687 41.96301)   \n",
       "\n",
       "                 nearest_geom  \n",
       "0  POINT (-87.67424 41.96909)  \n",
       "1  POINT (-87.67926 41.95593)  \n",
       "2  POINT (-87.59938 41.80983)  \n",
       "3  POINT (-87.61941 41.85761)  \n",
       "4  POINT (-87.68849 41.96655)  "
      ]
     },
     "execution_count": 78,
     "metadata": {},
     "output_type": "execute_result"
    }
   ],
   "source": [
    "points_gdf.head()"
   ]
  },
  {
   "cell_type": "markdown",
   "id": "ea447859-3384-4532-8d31-739d027d8884",
   "metadata": {},
   "source": [
    "Adding a line to the closest point "
   ]
  },
  {
   "cell_type": "code",
   "execution_count": 80,
   "id": "ca106c89-86e7-4953-8599-b498a0a97ec1",
   "metadata": {},
   "outputs": [
    {
     "name": "stderr",
     "output_type": "stream",
     "text": [
      "/opt/anaconda3/envs/spatial-ds-ws/lib/python3.9/site-packages/pandas/core/dtypes/cast.py:127: ShapelyDeprecationWarning: The array interface is deprecated and will no longer work in Shapely 2.0. Convert the '.coords' to a numpy array instead.\n",
      "  arr = construct_1d_object_array_from_listlike(values)\n"
     ]
    }
   ],
   "source": [
    "points_gdf['line'] = points_gdf.apply(lambda row: LineString([row.geometry, row.nearest_geom]), axis=1) "
   ]
  },
  {
   "cell_type": "code",
   "execution_count": 82,
   "id": "57697395-4a19-4e35-852d-e67b416e0337",
   "metadata": {},
   "outputs": [],
   "source": [
    "line_gdf = points_gdf[['id', 'nearest_geom', 'line']].set_geometry('line')"
   ]
  },
  {
   "cell_type": "code",
   "execution_count": 83,
   "id": "207145ef-6249-4b58-9c6a-fd6201481f3b",
   "metadata": {},
   "outputs": [
    {
     "data": {
      "text/plain": [
       "0      LINESTRING (-87.67599 41.96979, -87.67424 41.9...\n",
       "1      LINESTRING (-87.67670 41.95640, -87.67926 41.9...\n",
       "2      LINESTRING (-87.60150 41.80538, -87.59938 41.8...\n",
       "3      LINESTRING (-87.61666 41.85826, -87.61941 41.8...\n",
       "4      LINESTRING (-87.70687 41.96301, -87.68849 41.9...\n",
       "                             ...                        \n",
       "493    LINESTRING (-87.66327 41.92158, -87.66309 41.9...\n",
       "494    LINESTRING (-87.68038 41.84712, -87.68511 41.8...\n",
       "495    LINESTRING (-87.65710 41.92564, -87.65840 41.9...\n",
       "496    LINESTRING (-87.66918 41.97626, -87.66836 41.9...\n",
       "497    LINESTRING (-87.66973 41.89712, -87.66775 41.8...\n",
       "Name: line, Length: 498, dtype: geometry"
      ]
     },
     "execution_count": 83,
     "metadata": {},
     "output_type": "execute_result"
    }
   ],
   "source": [
    "line_gdf.geometry"
   ]
  },
  {
   "cell_type": "code",
   "execution_count": 85,
   "id": "b8b5c33e-0f4a-4348-b7e9-03044cbd1c31",
   "metadata": {},
   "outputs": [],
   "source": [
    "line_gdf.crs = 'epsg:4326'"
   ]
  },
  {
   "cell_type": "code",
   "execution_count": 86,
   "id": "628f7b20-88c4-48c2-a05a-19669f9a454b",
   "metadata": {},
   "outputs": [
    {
     "data": {
      "text/plain": [
       "<AxesSubplot: >"
      ]
     },
     "execution_count": 86,
     "metadata": {},
     "output_type": "execute_result"
    },
    {
     "data": {
      "image/png": "[encoded data removed]",
      "text/plain": [
       "<Figure size 720x576 with 1 Axes>"
      ]
     },
     "metadata": {
      "needs_background": "light"
     },
     "output_type": "display_data"
    }
   ],
   "source": [
    "fig, ax = plt.subplots(figsize=(10,8))\n",
    "\n",
    "points_gdf.plot(ax=ax, color='red', marker='*')\n",
    "stations_gdf.plot(ax=ax, color='blue')\n",
    "line_gdf.plot(ax=ax)"
   ]
  },
  {
   "cell_type": "code",
   "execution_count": null,
   "id": "214a6b96-b690-4ff4-9c39-19efcbdc3123",
   "metadata": {},
   "outputs": [],
   "source": []
  }
 ],
 "metadata": {
  "kernelspec": {
   "display_name": "spatial-ds-ws",
   "language": "python",
   "name": "spatial-ds-ws"
  },
  "language_info": {
   "codemirror_mode": {
    "name": "ipython",
    "version": 3
   },
   "file_extension": ".py",
   "mimetype": "text/x-python",
   "name": "python",
   "nbconvert_exporter": "python",
   "pygments_lexer": "ipython3",
   "version": "3.9.15"
  }
 },
 "nbformat": 4,
 "nbformat_minor": 5
}
